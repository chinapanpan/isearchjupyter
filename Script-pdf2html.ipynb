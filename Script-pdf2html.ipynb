{
 "cells": [
  {
   "cell_type": "code",
   "execution_count": 3,
   "id": "cb1fe401",
   "metadata": {
    "tags": []
   },
   "outputs": [
    {
     "name": "stdout",
     "output_type": "stream",
     "text": [
      "Note: you may need to restart the kernel to use updated packages.\n"
     ]
    }
   ],
   "source": [
    "%pip install --quiet pymupdf -i https://pypi.tuna.tsinghua.edu.cn/simple/"
   ]
  },
  {
   "cell_type": "code",
   "execution_count": 5,
   "id": "17a89531",
   "metadata": {
    "tags": []
   },
   "outputs": [
    {
     "name": "stderr",
     "output_type": "stream",
     "text": [
      "100%|██████████| 10/10 [00:00<00:00, 214.94it/s]\n"
     ]
    }
   ],
   "source": [
    "import fitz\n",
    "from tqdm import tqdm\n",
    "\n",
    "def pdf_to_html(pdf_path,html_path):\n",
    "    '''\n",
    "    pdf文件转换成html文件\n",
    "\n",
    "    :param pdf_path: pdf文件路径\n",
    "    :param html_path: html文件路径\n",
    "    :return:\n",
    "    '''\n",
    "    # 打开pdf文件，并新建html文件\n",
    "    with fitz.open(pdf_path) as pdf,open(html_path,'w',encoding='utf-8',newline='') as html_file:\n",
    "        html_content = '''\n",
    "        <!DOCTYPE html>\n",
    "        <html lang=\"en\">\n",
    "        <head>\n",
    "            <meta charset=\"UTF-8\">\n",
    "            <title>pdf转换后的html文件</title>\n",
    "        </head>\n",
    "        <body>\n",
    "        '''\n",
    "        # 遍历每一页pdf，并显示进度条\n",
    "        for page in tqdm(pdf):\n",
    "            html_content += page.get_text('html') # 提取每页内容为html\n",
    "        html_content += '</body></html>'\n",
    "        html_file.write(html_content) # 写入html文件\n",
    "pdf_to_html('./docs/GB2761-2017-kw-1.pdf',\"./docs/test.html\")"
   ]
  }
 ],
 "metadata": {
  "kernelspec": {
   "display_name": "conda_python3",
   "language": "python",
   "name": "conda_python3"
  },
  "language_info": {
   "codemirror_mode": {
    "name": "ipython",
    "version": 3
   },
   "file_extension": ".py",
   "mimetype": "text/x-python",
   "name": "python",
   "nbconvert_exporter": "python",
   "pygments_lexer": "ipython3",
   "version": "3.10.12"
  }
 },
 "nbformat": 4,
 "nbformat_minor": 5
}
