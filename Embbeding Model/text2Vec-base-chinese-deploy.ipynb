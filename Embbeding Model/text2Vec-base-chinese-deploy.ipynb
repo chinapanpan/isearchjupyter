{
 "cells": [
  {
   "cell_type": "markdown",
   "id": "ba7f6f98-70f2-4ca6-b999-eed03641ea87",
   "metadata": {},
   "source": [
    "### 1. 安装HuggingFace 并下载模型到本地"
   ]
  },
  {
   "cell_type": "code",
   "execution_count": 1,
   "id": "9f413314-c410-43d3-bb3a-ba0aa18ec1be",
   "metadata": {
    "tags": []
   },
   "outputs": [
    {
     "name": "stdout",
     "output_type": "stream",
     "text": [
      "Looking in indexes: https://pypi.tuna.tsinghua.edu.cn/simple/, https://pip.repos.neuron.amazonaws.com\n",
      "Requirement already satisfied: sagemaker in /home/ec2-user/anaconda3/envs/amazonei_pytorch_latest_p37/lib/python3.7/site-packages (2.173.0)\n",
      "Requirement already satisfied: attrs<24,>=23.1.0 in /home/ec2-user/anaconda3/envs/amazonei_pytorch_latest_p37/lib/python3.7/site-packages (from sagemaker) (23.1.0)\n",
      "Requirement already satisfied: boto3<2.0,>=1.26.131 in /home/ec2-user/anaconda3/envs/amazonei_pytorch_latest_p37/lib/python3.7/site-packages (from sagemaker) (1.28.9)\n",
      "Requirement already satisfied: cloudpickle==2.2.1 in /home/ec2-user/anaconda3/envs/amazonei_pytorch_latest_p37/lib/python3.7/site-packages (from sagemaker) (2.2.1)\n",
      "Requirement already satisfied: google-pasta in /home/ec2-user/anaconda3/envs/amazonei_pytorch_latest_p37/lib/python3.7/site-packages (from sagemaker) (0.2.0)\n",
      "Requirement already satisfied: numpy<2.0,>=1.9.0 in /home/ec2-user/anaconda3/envs/amazonei_pytorch_latest_p37/lib/python3.7/site-packages (from sagemaker) (1.21.6)\n",
      "Requirement already satisfied: protobuf<5.0,>=3.12 in /home/ec2-user/anaconda3/envs/amazonei_pytorch_latest_p37/lib/python3.7/site-packages (from sagemaker) (3.20.3)\n",
      "Requirement already satisfied: smdebug-rulesconfig==1.0.1 in /home/ec2-user/anaconda3/envs/amazonei_pytorch_latest_p37/lib/python3.7/site-packages (from sagemaker) (1.0.1)\n",
      "Requirement already satisfied: importlib-metadata<7.0,>=1.4.0 in /home/ec2-user/anaconda3/envs/amazonei_pytorch_latest_p37/lib/python3.7/site-packages (from sagemaker) (4.11.4)\n",
      "Requirement already satisfied: packaging>=20.0 in /home/ec2-user/anaconda3/envs/amazonei_pytorch_latest_p37/lib/python3.7/site-packages (from sagemaker) (23.1)\n",
      "Requirement already satisfied: pandas in /home/ec2-user/anaconda3/envs/amazonei_pytorch_latest_p37/lib/python3.7/site-packages (from sagemaker) (1.3.5)\n",
      "Requirement already satisfied: pathos in /home/ec2-user/anaconda3/envs/amazonei_pytorch_latest_p37/lib/python3.7/site-packages (from sagemaker) (0.3.0)\n",
      "Requirement already satisfied: schema in /home/ec2-user/anaconda3/envs/amazonei_pytorch_latest_p37/lib/python3.7/site-packages (from sagemaker) (0.7.5)\n",
      "Requirement already satisfied: PyYAML~=6.0 in /home/ec2-user/anaconda3/envs/amazonei_pytorch_latest_p37/lib/python3.7/site-packages (from sagemaker) (6.0.1)\n",
      "Requirement already satisfied: jsonschema in /home/ec2-user/anaconda3/envs/amazonei_pytorch_latest_p37/lib/python3.7/site-packages (from sagemaker) (4.17.3)\n",
      "Requirement already satisfied: platformdirs in /home/ec2-user/anaconda3/envs/amazonei_pytorch_latest_p37/lib/python3.7/site-packages (from sagemaker) (3.5.0)\n",
      "Requirement already satisfied: tblib==1.7.0 in /home/ec2-user/anaconda3/envs/amazonei_pytorch_latest_p37/lib/python3.7/site-packages (from sagemaker) (1.7.0)\n",
      "Requirement already satisfied: botocore<1.32.0,>=1.31.9 in /home/ec2-user/anaconda3/envs/amazonei_pytorch_latest_p37/lib/python3.7/site-packages (from boto3<2.0,>=1.26.131->sagemaker) (1.31.9)\n",
      "Requirement already satisfied: jmespath<2.0.0,>=0.7.1 in /home/ec2-user/anaconda3/envs/amazonei_pytorch_latest_p37/lib/python3.7/site-packages (from boto3<2.0,>=1.26.131->sagemaker) (1.0.1)\n",
      "Requirement already satisfied: s3transfer<0.7.0,>=0.6.0 in /home/ec2-user/anaconda3/envs/amazonei_pytorch_latest_p37/lib/python3.7/site-packages (from boto3<2.0,>=1.26.131->sagemaker) (0.6.1)\n",
      "Requirement already satisfied: zipp>=0.5 in /home/ec2-user/anaconda3/envs/amazonei_pytorch_latest_p37/lib/python3.7/site-packages (from importlib-metadata<7.0,>=1.4.0->sagemaker) (3.15.0)\n",
      "Requirement already satisfied: typing-extensions>=3.6.4 in /home/ec2-user/anaconda3/envs/amazonei_pytorch_latest_p37/lib/python3.7/site-packages (from importlib-metadata<7.0,>=1.4.0->sagemaker) (4.7.1)\n",
      "Requirement already satisfied: six in /home/ec2-user/anaconda3/envs/amazonei_pytorch_latest_p37/lib/python3.7/site-packages (from google-pasta->sagemaker) (1.16.0)\n",
      "Requirement already satisfied: importlib-resources>=1.4.0 in /home/ec2-user/anaconda3/envs/amazonei_pytorch_latest_p37/lib/python3.7/site-packages (from jsonschema->sagemaker) (5.12.0)\n",
      "Requirement already satisfied: pkgutil-resolve-name>=1.3.10 in /home/ec2-user/anaconda3/envs/amazonei_pytorch_latest_p37/lib/python3.7/site-packages (from jsonschema->sagemaker) (1.3.10)\n",
      "Requirement already satisfied: pyrsistent!=0.17.0,!=0.17.1,!=0.17.2,>=0.14.0 in /home/ec2-user/anaconda3/envs/amazonei_pytorch_latest_p37/lib/python3.7/site-packages (from jsonschema->sagemaker) (0.18.1)\n",
      "Requirement already satisfied: python-dateutil>=2.7.3 in /home/ec2-user/anaconda3/envs/amazonei_pytorch_latest_p37/lib/python3.7/site-packages (from pandas->sagemaker) (2.8.2)\n",
      "Requirement already satisfied: pytz>=2017.3 in /home/ec2-user/anaconda3/envs/amazonei_pytorch_latest_p37/lib/python3.7/site-packages (from pandas->sagemaker) (2023.3)\n",
      "Requirement already satisfied: ppft>=1.7.6.6 in /home/ec2-user/anaconda3/envs/amazonei_pytorch_latest_p37/lib/python3.7/site-packages (from pathos->sagemaker) (1.7.6.6)\n",
      "Requirement already satisfied: dill>=0.3.6 in /home/ec2-user/anaconda3/envs/amazonei_pytorch_latest_p37/lib/python3.7/site-packages (from pathos->sagemaker) (0.3.6)\n",
      "Requirement already satisfied: pox>=0.3.2 in /home/ec2-user/anaconda3/envs/amazonei_pytorch_latest_p37/lib/python3.7/site-packages (from pathos->sagemaker) (0.3.2)\n",
      "Requirement already satisfied: multiprocess>=0.70.14 in /home/ec2-user/anaconda3/envs/amazonei_pytorch_latest_p37/lib/python3.7/site-packages (from pathos->sagemaker) (0.70.14)\n",
      "Requirement already satisfied: contextlib2>=0.5.5 in /home/ec2-user/anaconda3/envs/amazonei_pytorch_latest_p37/lib/python3.7/site-packages (from schema->sagemaker) (21.6.0)\n",
      "Requirement already satisfied: urllib3<1.27,>=1.25.4 in /home/ec2-user/anaconda3/envs/amazonei_pytorch_latest_p37/lib/python3.7/site-packages (from botocore<1.32.0,>=1.31.9->boto3<2.0,>=1.26.131->sagemaker) (1.26.14)\n",
      "Looking in indexes: https://pypi.tuna.tsinghua.edu.cn/simple/, https://pip.repos.neuron.amazonaws.com\n",
      "Requirement already satisfied: sagemaker in /home/ec2-user/anaconda3/envs/amazonei_pytorch_latest_p37/lib/python3.7/site-packages (2.173.0)\n",
      "Requirement already satisfied: attrs<24,>=23.1.0 in /home/ec2-user/anaconda3/envs/amazonei_pytorch_latest_p37/lib/python3.7/site-packages (from sagemaker) (23.1.0)\n",
      "Requirement already satisfied: boto3<2.0,>=1.26.131 in /home/ec2-user/anaconda3/envs/amazonei_pytorch_latest_p37/lib/python3.7/site-packages (from sagemaker) (1.28.9)\n",
      "Requirement already satisfied: cloudpickle==2.2.1 in /home/ec2-user/anaconda3/envs/amazonei_pytorch_latest_p37/lib/python3.7/site-packages (from sagemaker) (2.2.1)\n",
      "Requirement already satisfied: google-pasta in /home/ec2-user/anaconda3/envs/amazonei_pytorch_latest_p37/lib/python3.7/site-packages (from sagemaker) (0.2.0)\n",
      "Requirement already satisfied: numpy<2.0,>=1.9.0 in /home/ec2-user/anaconda3/envs/amazonei_pytorch_latest_p37/lib/python3.7/site-packages (from sagemaker) (1.21.6)\n",
      "Requirement already satisfied: protobuf<5.0,>=3.12 in /home/ec2-user/anaconda3/envs/amazonei_pytorch_latest_p37/lib/python3.7/site-packages (from sagemaker) (3.20.3)\n",
      "Requirement already satisfied: smdebug-rulesconfig==1.0.1 in /home/ec2-user/anaconda3/envs/amazonei_pytorch_latest_p37/lib/python3.7/site-packages (from sagemaker) (1.0.1)\n",
      "Requirement already satisfied: importlib-metadata<7.0,>=1.4.0 in /home/ec2-user/anaconda3/envs/amazonei_pytorch_latest_p37/lib/python3.7/site-packages (from sagemaker) (4.11.4)\n",
      "Requirement already satisfied: packaging>=20.0 in /home/ec2-user/anaconda3/envs/amazonei_pytorch_latest_p37/lib/python3.7/site-packages (from sagemaker) (23.1)\n",
      "Requirement already satisfied: pandas in /home/ec2-user/anaconda3/envs/amazonei_pytorch_latest_p37/lib/python3.7/site-packages (from sagemaker) (1.3.5)\n",
      "Requirement already satisfied: pathos in /home/ec2-user/anaconda3/envs/amazonei_pytorch_latest_p37/lib/python3.7/site-packages (from sagemaker) (0.3.0)\n",
      "Requirement already satisfied: schema in /home/ec2-user/anaconda3/envs/amazonei_pytorch_latest_p37/lib/python3.7/site-packages (from sagemaker) (0.7.5)\n",
      "Requirement already satisfied: PyYAML~=6.0 in /home/ec2-user/anaconda3/envs/amazonei_pytorch_latest_p37/lib/python3.7/site-packages (from sagemaker) (6.0.1)\n",
      "Requirement already satisfied: jsonschema in /home/ec2-user/anaconda3/envs/amazonei_pytorch_latest_p37/lib/python3.7/site-packages (from sagemaker) (4.17.3)\n",
      "Requirement already satisfied: platformdirs in /home/ec2-user/anaconda3/envs/amazonei_pytorch_latest_p37/lib/python3.7/site-packages (from sagemaker) (3.5.0)\n",
      "Requirement already satisfied: tblib==1.7.0 in /home/ec2-user/anaconda3/envs/amazonei_pytorch_latest_p37/lib/python3.7/site-packages (from sagemaker) (1.7.0)\n",
      "Requirement already satisfied: botocore<1.32.0,>=1.31.9 in /home/ec2-user/anaconda3/envs/amazonei_pytorch_latest_p37/lib/python3.7/site-packages (from boto3<2.0,>=1.26.131->sagemaker) (1.31.9)\n",
      "Requirement already satisfied: jmespath<2.0.0,>=0.7.1 in /home/ec2-user/anaconda3/envs/amazonei_pytorch_latest_p37/lib/python3.7/site-packages (from boto3<2.0,>=1.26.131->sagemaker) (1.0.1)\n",
      "Requirement already satisfied: s3transfer<0.7.0,>=0.6.0 in /home/ec2-user/anaconda3/envs/amazonei_pytorch_latest_p37/lib/python3.7/site-packages (from boto3<2.0,>=1.26.131->sagemaker) (0.6.1)\n",
      "Requirement already satisfied: zipp>=0.5 in /home/ec2-user/anaconda3/envs/amazonei_pytorch_latest_p37/lib/python3.7/site-packages (from importlib-metadata<7.0,>=1.4.0->sagemaker) (3.15.0)\n",
      "Requirement already satisfied: typing-extensions>=3.6.4 in /home/ec2-user/anaconda3/envs/amazonei_pytorch_latest_p37/lib/python3.7/site-packages (from importlib-metadata<7.0,>=1.4.0->sagemaker) (4.7.1)\n",
      "Requirement already satisfied: six in /home/ec2-user/anaconda3/envs/amazonei_pytorch_latest_p37/lib/python3.7/site-packages (from google-pasta->sagemaker) (1.16.0)\n",
      "Requirement already satisfied: importlib-resources>=1.4.0 in /home/ec2-user/anaconda3/envs/amazonei_pytorch_latest_p37/lib/python3.7/site-packages (from jsonschema->sagemaker) (5.12.0)\n",
      "Requirement already satisfied: pkgutil-resolve-name>=1.3.10 in /home/ec2-user/anaconda3/envs/amazonei_pytorch_latest_p37/lib/python3.7/site-packages (from jsonschema->sagemaker) (1.3.10)\n",
      "Requirement already satisfied: pyrsistent!=0.17.0,!=0.17.1,!=0.17.2,>=0.14.0 in /home/ec2-user/anaconda3/envs/amazonei_pytorch_latest_p37/lib/python3.7/site-packages (from jsonschema->sagemaker) (0.18.1)\n",
      "Requirement already satisfied: python-dateutil>=2.7.3 in /home/ec2-user/anaconda3/envs/amazonei_pytorch_latest_p37/lib/python3.7/site-packages (from pandas->sagemaker) (2.8.2)\n",
      "Requirement already satisfied: pytz>=2017.3 in /home/ec2-user/anaconda3/envs/amazonei_pytorch_latest_p37/lib/python3.7/site-packages (from pandas->sagemaker) (2023.3)\n",
      "Requirement already satisfied: ppft>=1.7.6.6 in /home/ec2-user/anaconda3/envs/amazonei_pytorch_latest_p37/lib/python3.7/site-packages (from pathos->sagemaker) (1.7.6.6)\n",
      "Requirement already satisfied: dill>=0.3.6 in /home/ec2-user/anaconda3/envs/amazonei_pytorch_latest_p37/lib/python3.7/site-packages (from pathos->sagemaker) (0.3.6)\n",
      "Requirement already satisfied: pox>=0.3.2 in /home/ec2-user/anaconda3/envs/amazonei_pytorch_latest_p37/lib/python3.7/site-packages (from pathos->sagemaker) (0.3.2)\n",
      "Requirement already satisfied: multiprocess>=0.70.14 in /home/ec2-user/anaconda3/envs/amazonei_pytorch_latest_p37/lib/python3.7/site-packages (from pathos->sagemaker) (0.70.14)\n",
      "Requirement already satisfied: contextlib2>=0.5.5 in /home/ec2-user/anaconda3/envs/amazonei_pytorch_latest_p37/lib/python3.7/site-packages (from schema->sagemaker) (21.6.0)\n",
      "Requirement already satisfied: urllib3<1.27,>=1.25.4 in /home/ec2-user/anaconda3/envs/amazonei_pytorch_latest_p37/lib/python3.7/site-packages (from botocore<1.32.0,>=1.31.9->boto3<2.0,>=1.26.131->sagemaker) (1.26.14)\n"
     ]
    }
   ],
   "source": [
    "!pip install huggingface-hub -Uqq -i https://pypi.tuna.tsinghua.edu.cn/simple/\n",
    "!pip install -U sagemaker -i https://pypi.tuna.tsinghua.edu.cn/simple/\n",
    "!pip install --upgrade sagemaker -i https://pypi.tuna.tsinghua.edu.cn/simple/"
   ]
  },
  {
   "cell_type": "code",
   "execution_count": 5,
   "id": "be112a00-cbef-4387-b0d7-80e5e7b7030d",
   "metadata": {
    "tags": []
   },
   "outputs": [],
   "source": [
    "from huggingface_hub import snapshot_download\n",
    "from pathlib import Path\n",
    "\n",
    "local_model_path = Path(\"./sentence2emb-model\")\n",
    "local_model_path.mkdir(exist_ok=True)\n",
    "model_name = \"shibing624/text2vec-base-chinese\"\n",
    "commit_hash = \"26420fdf61ddfd92fafbaf3bc21a7c06b1812248\""
   ]
  },
  {
   "cell_type": "code",
   "execution_count": 6,
   "id": "902798dc-227b-4191-ade7-b736571543ac",
   "metadata": {
    "tags": []
   },
   "outputs": [
    {
     "data": {
      "application/vnd.jupyter.widget-view+json": {
       "model_id": "84dd3ea82387426faf9c1d0796b420c4",
       "version_major": 2,
       "version_minor": 0
      },
      "text/plain": [
       "Fetching 11 files:   0%|          | 0/11 [00:00<?, ?it/s]"
      ]
     },
     "metadata": {},
     "output_type": "display_data"
    },
    {
     "data": {
      "application/vnd.jupyter.widget-view+json": {
       "model_id": "f64d3e9fe40f45e49de30c960bd461bc",
       "version_major": 2,
       "version_minor": 0
      },
      "text/plain": [
       "Downloading (…)12248/.gitattributes:   0%|          | 0.00/1.18k [00:00<?, ?B/s]"
      ]
     },
     "metadata": {},
     "output_type": "display_data"
    },
    {
     "data": {
      "application/vnd.jupyter.widget-view+json": {
       "model_id": "8d68e2e9424f4560bf4394f8589ceae8",
       "version_major": 2,
       "version_minor": 0
      },
      "text/plain": [
       "Downloading (…)nce_bert_config.json:   0%|          | 0.00/54.0 [00:00<?, ?B/s]"
      ]
     },
     "metadata": {},
     "output_type": "display_data"
    },
    {
     "data": {
      "application/vnd.jupyter.widget-view+json": {
       "model_id": "12b12ecab7a34c2890ff0727aaa2a5a0",
       "version_major": 2,
       "version_minor": 0
      },
      "text/plain": [
       "Downloading (…)_Pooling/config.json:   0%|          | 0.00/74.0 [00:00<?, ?B/s]"
      ]
     },
     "metadata": {},
     "output_type": "display_data"
    },
    {
     "data": {
      "application/vnd.jupyter.widget-view+json": {
       "model_id": "dbc6fd93d4aa421ba5d0b2bce7e53da4",
       "version_major": 2,
       "version_minor": 0
      },
      "text/plain": [
       "Downloading (…)cial_tokens_map.json:   0%|          | 0.00/112 [00:00<?, ?B/s]"
      ]
     },
     "metadata": {},
     "output_type": "display_data"
    },
    {
     "data": {
      "application/vnd.jupyter.widget-view+json": {
       "model_id": "1c03ed2547b24573b2e74332d03b9417",
       "version_major": 2,
       "version_minor": 0
      },
      "text/plain": [
       "Downloading (…)okenizer_config.json:   0%|          | 0.00/319 [00:00<?, ?B/s]"
      ]
     },
     "metadata": {},
     "output_type": "display_data"
    },
    {
     "data": {
      "application/vnd.jupyter.widget-view+json": {
       "model_id": "394a263de7f643b19913be859158649c",
       "version_major": 2,
       "version_minor": 0
      },
      "text/plain": [
       "Fetching 11 files:   0%|          | 0/11 [00:00<?, ?it/s]"
      ]
     },
     "metadata": {},
     "output_type": "display_data"
    },
    {
     "data": {
      "application/vnd.jupyter.widget-view+json": {
       "model_id": "745099eeb5d94ef4b904b869cf51e96e",
       "version_major": 2,
       "version_minor": 0
      },
      "text/plain": [
       "Downloading (…)06b1812248/README.md:   0%|          | 0.00/10.1k [00:00<?, ?B/s]"
      ]
     },
     "metadata": {},
     "output_type": "display_data"
    },
    {
     "data": {
      "application/vnd.jupyter.widget-view+json": {
       "model_id": "b5a6d0b02e2c49078b674ffbc866d247",
       "version_major": 2,
       "version_minor": 0
      },
      "text/plain": [
       "Downloading (…)c06b1812248/logs.txt:   0%|          | 0.00/546 [00:00<?, ?B/s]"
      ]
     },
     "metadata": {},
     "output_type": "display_data"
    },
    {
     "data": {
      "application/vnd.jupyter.widget-view+json": {
       "model_id": "bccfc44e024e4a64a9806f26e44472ba",
       "version_major": 2,
       "version_minor": 0
      },
      "text/plain": [
       "Downloading (…)b1812248/config.json:   0%|          | 0.00/856 [00:00<?, ?B/s]"
      ]
     },
     "metadata": {},
     "output_type": "display_data"
    },
    {
     "data": {
      "application/vnd.jupyter.widget-view+json": {
       "model_id": "2fa8f25a222f4d519976af2a0f112cd4",
       "version_major": 2,
       "version_minor": 0
      },
      "text/plain": [
       "Downloading pytorch_model.bin:   0%|          | 0.00/409M [00:00<?, ?B/s]"
      ]
     },
     "metadata": {},
     "output_type": "display_data"
    },
    {
     "data": {
      "application/vnd.jupyter.widget-view+json": {
       "model_id": "7404a55f57044643a1fc1d64508ffefa",
       "version_major": 2,
       "version_minor": 0
      },
      "text/plain": [
       "Fetching 11 files:   0%|          | 0/11 [00:00<?, ?it/s]"
      ]
     },
     "metadata": {},
     "output_type": "display_data"
    },
    {
     "data": {
      "application/vnd.jupyter.widget-view+json": {
       "model_id": "c30767d6fb6d47659943a21db48c7e04",
       "version_major": 2,
       "version_minor": 0
      },
      "text/plain": [
       "Downloading (…)1812248/modules.json:   0%|          | 0.00/230 [00:00<?, ?B/s]"
      ]
     },
     "metadata": {},
     "output_type": "display_data"
    },
    {
     "data": {
      "application/vnd.jupyter.widget-view+json": {
       "model_id": "4d76b55ade424f0f96b23fced57735c3",
       "version_major": 2,
       "version_minor": 0
      },
      "text/plain": [
       "Downloading (…)06b1812248/vocab.txt:   0%|          | 0.00/110k [00:00<?, ?B/s]"
      ]
     },
     "metadata": {},
     "output_type": "display_data"
    }
   ],
   "source": [
    "#执行这段，因为网络原因，可能会多次失败，需要反复执行\n",
    "while True:\n",
    "    try:\n",
    "        snapshot_download(repo_id=model_name, revision=commit_hash, cache_dir=local_model_path)\n",
    "        break\n",
    "    except Exception:\n",
    "        pass"
   ]
  },
  {
   "cell_type": "markdown",
   "id": "a6b61ad8-a8c2-48c2-8539-e7c1e2afe773",
   "metadata": {},
   "source": [
    "### 2. 把模型拷贝到S3为后续部署做准备"
   ]
  },
  {
   "cell_type": "code",
   "execution_count": 7,
   "id": "5e1873f4-1bfe-4146-8297-584e9ad76fc9",
   "metadata": {
    "tags": []
   },
   "outputs": [
    {
     "name": "stderr",
     "output_type": "stream",
     "text": [
      "/home/ec2-user/anaconda3/envs/amazonei_pytorch_latest_p37/lib/python3.7/site-packages/boto3/compat.py:82: PythonDeprecationWarning: Boto3 will no longer support Python 3.7 starting December 13, 2023. To continue receiving service updates, bug fixes, and security updates please upgrade to Python 3.8 or later. More information can be found here: https://aws.amazon.com/blogs/developer/python-support-policy-updates-for-aws-sdks-and-tools/\n",
      "  warnings.warn(warning, PythonDeprecationWarning)\n"
     ]
    }
   ],
   "source": [
    "import sagemaker\n",
    "from sagemaker import image_uris\n",
    "import boto3\n",
    "import os\n",
    "import time\n",
    "import json\n",
    "\n",
    "role = sagemaker.get_execution_role()  # execution role for the endpoint\n",
    "sess = sagemaker.session.Session()  # sagemaker session for interacting with different AWS APIs\n",
    "bucket = sess.default_bucket()  # bucket to house artifacts\n",
    "\n",
    "region = sess._region_name\n",
    "account_id = sess.account_id()\n",
    "\n",
    "s3_client = boto3.client(\"s3\")\n",
    "sm_client = boto3.client(\"sagemaker\")\n",
    "smr_client = boto3.client(\"sagemaker-runtime\")"
   ]
  },
  {
   "cell_type": "code",
   "execution_count": 8,
   "id": "68394e44-4d51-48ae-adc1-d02f520a5d4d",
   "metadata": {
    "tags": []
   },
   "outputs": [
    {
     "name": "stdout",
     "output_type": "stream",
     "text": [
      "s3_code_prefix: LLM-RAG/workshop/sentence2emb_deploy_code\n",
      "model_snapshot_path: sentence2emb-model/models--shibing624--text2vec-base-chinese/snapshots/26420fdf61ddfd92fafbaf3bc21a7c06b1812248\n"
     ]
    }
   ],
   "source": [
    "s3_model_prefix = \"LLM-RAG/workshop/sentence2emb-model\"  # folder where model checkpoint will go\n",
    "model_snapshot_path = list(local_model_path.glob(\"**/snapshots/*\"))[0]\n",
    "s3_code_prefix = \"LLM-RAG/workshop/sentence2emb_deploy_code\"\n",
    "print(f\"s3_code_prefix: {s3_code_prefix}\")\n",
    "print(f\"model_snapshot_path: {model_snapshot_path}\")"
   ]
  },
  {
   "cell_type": "code",
   "execution_count": 9,
   "id": "0b9e177a-886d-4838-891e-2e612a3cbc9d",
   "metadata": {
    "tags": []
   },
   "outputs": [
    {
     "name": "stdout",
     "output_type": "stream",
     "text": [
      "upload: sentence2emb-model/models--shibing624--text2vec-base-chinese/snapshots/26420fdf61ddfd92fafbaf3bc21a7c06b1812248/1_Pooling/config.json to s3://sagemaker-cn-north-1-507392672631/LLM-RAG/workshop/sentence2emb-model/1_Pooling/config.json\n",
      "upload: sentence2emb-model/models--shibing624--text2vec-base-chinese/snapshots/26420fdf61ddfd92fafbaf3bc21a7c06b1812248/sentence_bert_config.json to s3://sagemaker-cn-north-1-507392672631/LLM-RAG/workshop/sentence2emb-model/sentence_bert_config.json\n",
      "upload: sentence2emb-model/models--shibing624--text2vec-base-chinese/snapshots/26420fdf61ddfd92fafbaf3bc21a7c06b1812248/config.json to s3://sagemaker-cn-north-1-507392672631/LLM-RAG/workshop/sentence2emb-model/config.json\n",
      "upload: sentence2emb-model/models--shibing624--text2vec-base-chinese/snapshots/26420fdf61ddfd92fafbaf3bc21a7c06b1812248/modules.json to s3://sagemaker-cn-north-1-507392672631/LLM-RAG/workshop/sentence2emb-model/modules.json\n",
      "upload: sentence2emb-model/models--shibing624--text2vec-base-chinese/snapshots/26420fdf61ddfd92fafbaf3bc21a7c06b1812248/tokenizer_config.json to s3://sagemaker-cn-north-1-507392672631/LLM-RAG/workshop/sentence2emb-model/tokenizer_config.json\n",
      "upload: sentence2emb-model/models--shibing624--text2vec-base-chinese/snapshots/26420fdf61ddfd92fafbaf3bc21a7c06b1812248/logs.txt to s3://sagemaker-cn-north-1-507392672631/LLM-RAG/workshop/sentence2emb-model/logs.txt\n",
      "upload: sentence2emb-model/models--shibing624--text2vec-base-chinese/snapshots/26420fdf61ddfd92fafbaf3bc21a7c06b1812248/README.md to s3://sagemaker-cn-north-1-507392672631/LLM-RAG/workshop/sentence2emb-model/README.md\n",
      "upload: sentence2emb-model/models--shibing624--text2vec-base-chinese/snapshots/26420fdf61ddfd92fafbaf3bc21a7c06b1812248/.gitattributes to s3://sagemaker-cn-north-1-507392672631/LLM-RAG/workshop/sentence2emb-model/.gitattributes\n",
      "upload: sentence2emb-model/models--shibing624--text2vec-base-chinese/snapshots/26420fdf61ddfd92fafbaf3bc21a7c06b1812248/special_tokens_map.json to s3://sagemaker-cn-north-1-507392672631/LLM-RAG/workshop/sentence2emb-model/special_tokens_map.json\n",
      "upload: sentence2emb-model/models--shibing624--text2vec-base-chinese/snapshots/26420fdf61ddfd92fafbaf3bc21a7c06b1812248/vocab.txt to s3://sagemaker-cn-north-1-507392672631/LLM-RAG/workshop/sentence2emb-model/vocab.txt\n",
      "upload: sentence2emb-model/models--shibing624--text2vec-base-chinese/snapshots/26420fdf61ddfd92fafbaf3bc21a7c06b1812248/pytorch_model.bin to s3://sagemaker-cn-north-1-507392672631/LLM-RAG/workshop/sentence2emb-model/pytorch_model.bin\n"
     ]
    }
   ],
   "source": [
    "#上传模型至S3\n",
    "!aws s3 cp --recursive {model_snapshot_path} s3://{bucket}/{s3_model_prefix}"
   ]
  },
  {
   "cell_type": "markdown",
   "id": "59f35a6f-5988-42ec-87b0-de36eaebe41b",
   "metadata": {
    "tags": []
   },
   "source": [
    "### 3. 模型部署准备（entrypoint脚本，容器镜像，服务配置）"
   ]
  },
  {
   "cell_type": "code",
   "execution_count": 10,
   "id": "86daea77-a7ae-46b8-8800-212d07ce5605",
   "metadata": {
    "tags": []
   },
   "outputs": [
    {
     "name": "stdout",
     "output_type": "stream",
     "text": [
      "Image going to be used is ---- > 727897471807.dkr.ecr.cn-north-1.amazonaws.com.cn/djl-inference:0.21.0-deepspeed0.8.3-cu117\n"
     ]
    }
   ],
   "source": [
    "#适用于global\n",
    "#inference_image_uri = (\n",
    "#    f\"763104351884.dkr.ecr.{region}.amazonaws.com/djl-inference:0.21.0-deepspeed0.8.3-cu117\"\n",
    "#)\n",
    "\n",
    "#中国区需要替换为下面的image_uri\n",
    "inference_image_uri = (\n",
    "     f\"727897471807.dkr.ecr.{region}.amazonaws.com.cn/djl-inference:0.21.0-deepspeed0.8.3-cu117\"\n",
    ")\n",
    "\n",
    "print(f\"Image going to be used is ---- > {inference_image_uri}\")"
   ]
  },
  {
   "cell_type": "code",
   "execution_count": 11,
   "id": "49435172-e6c5-492a-8dcb-43e3fffb0f5c",
   "metadata": {
    "tags": []
   },
   "outputs": [],
   "source": [
    "!mkdir -p sentence2emb_deploy_code"
   ]
  },
  {
   "cell_type": "code",
   "execution_count": 49,
   "id": "70990dd3-431e-4dd0-a494-d26ceb454945",
   "metadata": {
    "tags": []
   },
   "outputs": [
    {
     "name": "stdout",
     "output_type": "stream",
     "text": [
      "Overwriting sentence2emb_deploy_code/model.py\n"
     ]
    }
   ],
   "source": [
    "%%writefile sentence2emb_deploy_code/model.py\n",
    "from djl_python import Input, Output\n",
    "import torch\n",
    "import logging\n",
    "import math\n",
    "import os\n",
    "from transformers import BertTokenizer, BertModel\n",
    "\n",
    "device = torch.device('cuda:0' if torch.cuda.is_available() else 'cpu')\n",
    "print(f'--device={device}')\n",
    "\n",
    "\n",
    "def load_model(properties):\n",
    "    tensor_parallel = properties[\"tensor_parallel_degree\"]\n",
    "    model_location = properties['model_dir']\n",
    "    if \"model_id\" in properties:\n",
    "        model_location = properties['model_id']\n",
    "    logging.info(f\"Loading model in {model_location}\")\n",
    "    \n",
    "    tokenizer = BertTokenizer.from_pretrained(model_location)\n",
    "   \n",
    "    model = BertModel.from_pretrained(\n",
    "        model_location, \n",
    "        # device_map=\"balanced_low_0\", \n",
    "        #load_in_8bit=True\n",
    "    )\n",
    "    # load the model on GPU\n",
    "    model.to(device) \n",
    "    model.requires_grad_(False)\n",
    "    model.eval()\n",
    "    \n",
    "    return model, tokenizer\n",
    "\n",
    "\n",
    "model = None\n",
    "tokenizer = None\n",
    "generator = None\n",
    "\n",
    "def mean_pooling(model_output, attention_mask):\n",
    "    token_embeddings = model_output[0] #First element of model_output contains all token embeddings\n",
    "    input_mask_expanded = attention_mask.unsqueeze(-1).expand(token_embeddings.size()).float()\n",
    "    return torch.sum(token_embeddings * input_mask_expanded, 1) / torch.clamp(input_mask_expanded.sum(1), min=1e-9)\n",
    "\n",
    "def handle(inputs: Input):\n",
    "    global model, tokenizer\n",
    "    if not model:\n",
    "        model, tokenizer = load_model(inputs.get_properties())\n",
    "\n",
    "    if inputs.is_empty():\n",
    "        return None\n",
    "    data = inputs.get_as_json()\n",
    "    \n",
    "    input_sentences = data[\"inputs\"]\n",
    "    \n",
    "    ebs = []\n",
    "    \n",
    "    logging.info(f\"inputs: {input_sentences}\")\n",
    "    \n",
    "    for sentence in input_sentences:\n",
    "    \n",
    "        encoded_input = tokenizer(input_sentences, padding=True, truncation=True, return_tensors='pt')\n",
    "\n",
    "        with torch.no_grad():\n",
    "            model_output = model(**encoded_input)\n",
    "        # Perform pooling. In this case, mean pooling.\n",
    "        sentence_embeddings = mean_pooling(model_output, encoded_input['attention_mask'])\n",
    "        \n",
    "        ebs.append(sentence_embeddings.tolist())\n",
    "    \n",
    "    result = {\"sentence_embeddings\": ebs}\n",
    "    return Output().add_as_json(result)"
   ]
  },
  {
   "cell_type": "code",
   "execution_count": 51,
   "id": "e01a0f2a-a8d6-4134-a727-c5c0f1ad092b",
   "metadata": {
    "tags": []
   },
   "outputs": [
    {
     "name": "stdout",
     "output_type": "stream",
     "text": [
      "option.s3url ==> s3://sagemaker-cn-north-1-507392672631/LLM-RAG/workshop/sentence2emb-model/\n"
     ]
    }
   ],
   "source": [
    "print(f\"option.s3url ==> s3://{bucket}/{s3_model_prefix}/\")\n",
    "\n",
    "#使用打印出来的URL，替换下面一段代码中的S3Url"
   ]
  },
  {
   "cell_type": "markdown",
   "id": "a1e1ecec-79cf-4ed4-bba1-95e2fe79daea",
   "metadata": {},
   "source": [
    "#### Note: option.s3url 需要按照自己的账号进行修改, 可以拷贝上一个cell的输出"
   ]
  },
  {
   "cell_type": "code",
   "execution_count": 52,
   "id": "ab5ee385-5c6c-493c-bd40-9b57ae0c8e1d",
   "metadata": {
    "tags": []
   },
   "outputs": [
    {
     "name": "stdout",
     "output_type": "stream",
     "text": [
      "Overwriting sentence2emb_deploy_code/serving.properties\n"
     ]
    }
   ],
   "source": [
    "%%writefile sentence2emb_deploy_code/serving.properties\n",
    "engine=Python\n",
    "option.tensor_parallel_degree=1\n",
    "option.s3url = s3://sagemaker-cn-north-1-507392672631/LLM-RAG/workshop/sentence2emb-model/"
   ]
  },
  {
   "cell_type": "code",
   "execution_count": 53,
   "id": "ffe41472-c2cf-4bb5-99aa-84df76c629b3",
   "metadata": {
    "tags": []
   },
   "outputs": [
    {
     "name": "stdout",
     "output_type": "stream",
     "text": [
      "sentence2emb_deploy_code/\n",
      "sentence2emb_deploy_code/serving.properties\n",
      "sentence2emb_deploy_code/model.py\n"
     ]
    }
   ],
   "source": [
    "!rm s2e_model.tar.gz\n",
    "!cd sentence2emb_deploy_code && rm -rf \".ipynb_checkpoints\"\n",
    "!tar czvf s2e_model.tar.gz sentence2emb_deploy_code"
   ]
  },
  {
   "cell_type": "code",
   "execution_count": 54,
   "id": "1fabd7ce-b855-4569-857c-ad872662800b",
   "metadata": {
    "tags": []
   },
   "outputs": [
    {
     "name": "stdout",
     "output_type": "stream",
     "text": [
      "S3 Code or Model tar ball uploaded to --- > s3://sagemaker-cn-north-1-507392672631/LLM-RAG/workshop/sentence2emb_deploy_code/s2e_model.tar.gz\n"
     ]
    }
   ],
   "source": [
    "s3_code_artifact = sess.upload_data(\"s2e_model.tar.gz\", bucket, s3_code_prefix)\n",
    "print(f\"S3 Code or Model tar ball uploaded to --- > {s3_code_artifact}\")"
   ]
  },
  {
   "cell_type": "markdown",
   "id": "18fb01ed-6bd3-4880-a647-cfd71e692820",
   "metadata": {
    "tags": []
   },
   "source": [
    "### 4. 创建模型 & 创建endpoint"
   ]
  },
  {
   "cell_type": "code",
   "execution_count": 55,
   "id": "e6209d24-8473-4256-93d3-02e4e144386b",
   "metadata": {
    "tags": []
   },
   "outputs": [
    {
     "name": "stdout",
     "output_type": "stream",
     "text": [
      "huggingface-inference-eb\n",
      "Image going to be used is ---- > 727897471807.dkr.ecr.cn-north-1.amazonaws.com.cn/djl-inference:0.21.0-deepspeed0.8.3-cu117\n",
      "Created Model: arn:aws-cn:sagemaker:cn-north-1:507392672631:model/huggingface-inference-eb\n"
     ]
    }
   ],
   "source": [
    "from sagemaker.utils import name_from_base\n",
    "import boto3\n",
    "\n",
    "model_name ='huggingface-inference-eb' # name_from_base(\"st-paraphrase-mpnet-base-v2\") Note: Need to specify model_name\n",
    "print(model_name)\n",
    "print(f\"Image going to be used is ---- > {inference_image_uri}\")\n",
    "\n",
    "create_model_response = sm_client.create_model(\n",
    "    ModelName=model_name,\n",
    "    ExecutionRoleArn=role,\n",
    "    PrimaryContainer={\n",
    "        \"Image\": inference_image_uri,\n",
    "        \"ModelDataUrl\": s3_code_artifact\n",
    "    },\n",
    "    \n",
    ")\n",
    "model_arn = create_model_response[\"ModelArn\"]\n",
    "\n",
    "print(f\"Created Model: {model_arn}\")"
   ]
  },
  {
   "cell_type": "code",
   "execution_count": 56,
   "id": "686abae8-5db7-4ebd-9fbf-5bd54f36c0ab",
   "metadata": {
    "tags": []
   },
   "outputs": [
    {
     "data": {
      "text/plain": [
       "{'EndpointConfigArn': 'arn:aws-cn:sagemaker:cn-north-1:507392672631:endpoint-config/huggingface-inference-eb',\n",
       " 'ResponseMetadata': {'RequestId': '3f9cd9bb-47b3-4027-81f6-a365622f21f2',\n",
       "  'HTTPStatusCode': 200,\n",
       "  'HTTPHeaders': {'x-amzn-requestid': '3f9cd9bb-47b3-4027-81f6-a365622f21f2',\n",
       "   'content-type': 'application/x-amz-json-1.1',\n",
       "   'content-length': '109',\n",
       "   'date': 'Wed, 26 Jul 2023 06:12:39 GMT'},\n",
       "  'RetryAttempts': 0}}"
      ]
     },
     "execution_count": 56,
     "metadata": {},
     "output_type": "execute_result"
    }
   ],
   "source": [
    "endpoint_config_name =model_name  # f\"{model_name}-config\"\n",
    "endpoint_name = model_name # f\"{model_name}-endpoint\"\n",
    "\n",
    "endpoint_config_response = sm_client.create_endpoint_config(\n",
    "    EndpointConfigName=endpoint_config_name,\n",
    "    ProductionVariants=[\n",
    "        {\n",
    "            \"VariantName\": \"variant1\",\n",
    "            \"ModelName\": model_name,\n",
    "            \"InstanceType\": \"ml.m5.2xlarge\",\n",
    "            \"InitialInstanceCount\": 1,\n",
    "            # \"VolumeSizeInGB\" : 400,\n",
    "            # \"ModelDataDownloadTimeoutInSeconds\": 2400,\n",
    "            #\"ContainerStartupHealthCheckTimeoutInSeconds\": 15*60,\n",
    "        },\n",
    "    ],\n",
    ")\n",
    "endpoint_config_response"
   ]
  },
  {
   "cell_type": "code",
   "execution_count": 57,
   "id": "f4c1df06-ae4a-42e2-9695-da0afa9ad734",
   "metadata": {
    "tags": []
   },
   "outputs": [
    {
     "name": "stdout",
     "output_type": "stream",
     "text": [
      "Created Endpoint: arn:aws-cn:sagemaker:cn-north-1:507392672631:endpoint/huggingface-inference-eb\n"
     ]
    }
   ],
   "source": [
    "create_endpoint_response = sm_client.create_endpoint(\n",
    "    EndpointName=f\"{endpoint_name}\", EndpointConfigName=endpoint_config_name\n",
    ")\n",
    "print(f\"Created Endpoint: {create_endpoint_response['EndpointArn']}\")"
   ]
  },
  {
   "cell_type": "code",
   "execution_count": 58,
   "id": "d9c71240-6878-4fed-bf7d-2c1cf75f4ac5",
   "metadata": {
    "tags": []
   },
   "outputs": [
    {
     "name": "stdout",
     "output_type": "stream",
     "text": [
      "Status: Creating\n",
      "Status: Creating\n",
      "Status: Creating\n",
      "Status: Creating\n",
      "Status: Creating\n",
      "Status: InService\n",
      "Arn: arn:aws-cn:sagemaker:cn-north-1:507392672631:endpoint/huggingface-inference-eb\n",
      "Status: InService\n"
     ]
    }
   ],
   "source": [
    "import time\n",
    "\n",
    "resp = sm_client.describe_endpoint(EndpointName=endpoint_name)\n",
    "status = resp[\"EndpointStatus\"]\n",
    "print(\"Status: \" + status)\n",
    "\n",
    "while status == \"Creating\":\n",
    "    time.sleep(60)\n",
    "    resp = sm_client.describe_endpoint(EndpointName=endpoint_name)\n",
    "    status = resp[\"EndpointStatus\"]\n",
    "    print(\"Status: \" + status)\n",
    "\n",
    "print(\"Arn: \" + resp[\"EndpointArn\"])\n",
    "print(\"Status: \" + status)"
   ]
  },
  {
   "cell_type": "markdown",
   "id": "dddba20e-fc18-480d-9940-ae39695ac450",
   "metadata": {},
   "source": [
    "### 5. 模型测试"
   ]
  },
  {
   "cell_type": "code",
   "execution_count": 72,
   "id": "1b080d71-4ef6-48e8-b3fb-9d680ee2b27a",
   "metadata": {
    "tags": []
   },
   "outputs": [],
   "source": [
    "import json\n",
    "import boto3\n",
    "\n",
    "client = boto3.client('runtime.sagemaker')\n",
    "sagemaker_endpoint_name='huggingface-inference-eb'\n",
    "def query_endpoint_with_json_payload(encoded_json):\n",
    "    response = client.invoke_endpoint(EndpointName=sagemaker_endpoint_name, ContentType='application/json', Body=encoded_json)\n",
    "    #print(response)\n",
    "    return response\n",
    "\n",
    "def parse_response_texts(query_response):\n",
    "    model_predictions = json.loads(query_response['Body'].read().decode())[\"sentence_embeddings\"][0]\n",
    "    return model_predictions"
   ]
  },
  {
   "cell_type": "code",
   "execution_count": 73,
   "id": "2b606a93-b95f-44c8-a49d-f1f872ed3bb7",
   "metadata": {
    "tags": []
   },
   "outputs": [
    {
     "name": "stdout",
     "output_type": "stream",
     "text": [
      "[[-0.6130953431129456, 0.5462226271629333, 0.5804893374443054, 1.2506815195083618, 0.4986412823200226, -0.7086697220802307, 1.4623937606811523, -0.477876752614975, -0.757655918598175, 0.3172924220561981, 0.21863271296024323, -0.5148187279701233, -0.21170049905776978, -0.6646494269371033, -1.196014165878296, -0.0399162657558918, 0.4442327916622162, 0.10436812043190002, -0.348470538854599, -0.4285512864589691, 0.40278175473213196, -0.3978886604309082, -0.9368495941162109, -0.5383326411247253, -0.15362709760665894, -1.062376856803894, -0.7930343747138977, -0.23352432250976562, 1.127079963684082, 0.7262923121452332, 0.1532280594110489, 0.08634226769208908, -0.522877037525177, 0.8900917172431946, -0.05130075290799141, 0.22277270257472992, 0.6843562722206116, -0.11561364680528641, 0.446622759103775, 0.09158467501401901, 0.4532444477081299, -0.0007762511377222836, -2.1346824169158936, -1.009116768836975, -0.17754371464252472, -0.3280589282512665, 0.8034448623657227, 1.4298042058944702, -1.038845419883728, -0.26798948645591736, 0.2994174659252167, 5.936481475830078, -0.37682995200157166, -0.015617471188306808, -0.07352809607982635, 1.058892846107483, 0.6811854839324951, 0.18394559621810913, -0.6575694680213928, 0.1961461454629898, -0.27214738726615906, -1.278002142906189, -0.07137501239776611, 0.14867490530014038, -0.847216784954071, -0.23928773403167725, 0.10929795354604721, -1.057712197303772, -0.42423760890960693, 0.004863446112722158, 0.8916838765144348, 0.08837315440177917, 0.1874794363975525, -0.4313077926635742, -0.5965119004249573, -0.2777808904647827, 0.44532522559165955, 1.5508521795272827, -1.5558875799179077, 0.23150259256362915, 0.5021854043006897, -0.5043644309043884, -0.22222010791301727, -0.3573436439037323, -0.7384347319602966, 0.3400766849517822, 0.5049800872802734, -1.150652289390564, -0.7121591567993164, -0.08542713522911072, 0.2921956479549408, 0.029365727677941322, -1.1823102235794067, 0.053419873118400574, 0.3921373188495636, -0.9671925902366638, 1.3142311573028564, -0.886645495891571, -0.10355100780725479, 1.0082876682281494, 0.16965709626674652, -0.16551174223423004, 0.11064552515745163, -0.9259708523750305, -0.20382480323314667, -0.18786601722240448, -0.698483943939209, 0.48619139194488525, 0.7325844764709473, 0.1959301084280014, -0.2576422691345215, 0.8359104990959167, -0.2443867176771164, 0.3372100591659546, 0.39870691299438477, 0.19862806797027588, 0.05590220168232918, 0.6712564826011658, -0.4050726890563965, -0.5350232124328613, 0.34702596068382263, 0.5714767575263977, 0.12914513051509857, -0.8063297271728516, 0.1193796694278717, -0.05868789553642273, 0.19081534445285797, 0.8415938019752502, 0.582236111164093, 0.1792791485786438, -0.18074162304401398, 0.9004490971565247, -0.8653695583343506, -1.038511872291565, 0.4829903542995453, -0.24031472206115723, 0.09306871891021729, 0.2693715989589691, -1.723278522491455, -0.21396104991436005, 0.3322444558143616, -0.4438842833042145, -0.20727378129959106, -0.08189105987548828, -0.29028764367103577, 0.3252897560596466, 0.34889233112335205, 0.5561255812644958, 0.047583792358636856, -0.05211683735251427, 0.519620954990387, 0.7175281643867493, -0.5363531708717346, 0.025561759248375893, -0.08026793599128723, 1.0173758268356323, -0.6409857869148254, 0.67232745885849, -1.6475650072097778, 0.9894461631774902, -0.7643739581108093, -0.5037710070610046, 1.9020174741744995, -0.1044381856918335, 0.6313588619232178, -0.29998067021369934, -0.19037394225597382, -0.4195866882801056, -1.1473448276519775, -0.41892972588539124, 0.512049674987793, 0.8813583254814148, 0.9018411040306091, 0.27615514397621155, -0.12743806838989258, -0.09356322139501572, 0.16632980108261108, -0.40739282965660095, 0.31477677822113037, -0.780008852481842, 0.21105074882507324, -0.9086726307868958, 0.80885910987854, -0.38507768511772156, 0.20808537304401398, -0.3919278681278229, -0.7878254055976868, -0.33683621883392334, -0.47943711280822754, 0.4294559955596924, -1.4491039514541626, 0.69171541929245, 0.12547852098941803, -0.11674928665161133, -0.4486810266971588, -0.8381702899932861, 0.7911955714225769, -0.3717396557331085, -0.34875360131263733, -0.17672210931777954, -0.25745823979377747, -1.027389407157898, -0.06716620177030563, -0.038672711700201035, -0.8141518235206604, 1.2671642303466797, -1.676815152168274, -0.6297456622123718, 0.9597514271736145, -0.21580219268798828, -0.5038089156150818, -0.3646518290042877, -1.183226466178894, -0.493046373128891, 0.40830478072166443, 0.239676833152771, 0.32067930698394775, -0.17160005867481232, -0.009098717011511326, 0.3595212697982788, -0.2887832820415497, -0.3255106508731842, -0.6877410411834717, 1.2708320617675781, -0.44513368606567383, -0.23597268760204315, -0.22480373084545135, 0.97831130027771, 0.5309203863143921, -0.007018571253865957, 0.3267000913619995, 0.6503844857215881, -1.078116774559021, -0.4075148105621338, -0.45181766152381897, -0.04928506538271904, 0.2512533664703369, 1.0667461156845093, 1.0080755949020386, -1.065386176109314, 0.3660919964313507, 0.5883213877677917, -0.31223899126052856, 0.07980798929929733, -0.115909643471241, -0.2086324244737625, 0.7286227345466614, -0.43672025203704834, 0.2889314591884613, 0.08148237317800522, -0.49373042583465576, -1.3630808591842651, -0.010562214069068432, 0.10918714851140976, -0.18750113248825073, 0.49840474128723145, 0.10593303292989731, 0.4550188481807709, 0.6438344120979309, -1.0495543479919434, -0.22710901498794556, -0.5951409935951233, 0.9159433841705322, 0.19469575583934784, -0.4779656231403351, 0.5537310242652893, -0.3211310803890228, -1.297425389289856, 0.4846492111682892, 0.18669074773788452, 0.49950698018074036, 0.8555817008018494, -0.053216010332107544, -1.293346881866455, 1.0933423042297363, -0.8033251762390137, 0.6170176863670349, 0.3648190200328827, 1.5111392736434937, -0.36753049492836, -0.5080426335334778, -0.8987649083137512, -0.3862365186214447, -0.5515925884246826, -1.9428812265396118, -0.6497008800506592, 0.737443745136261, -0.3624099791049957, 0.38733401894569397, -0.3649005889892578, 0.8131155967712402, -0.4156586229801178, 0.16806955635547638, -0.025202428922057152, 4.406002521514893, 0.9589378237724304, 0.3992368280887604, -0.13112545013427734, 0.19853848218917847, 0.4974283277988434, -0.1035478413105011, -0.8350338935852051, -0.80940842628479, 0.10930535197257996, -0.5576056838035583, 0.7871005535125732, -0.6213720440864563, 0.9433347582817078, -1.484399437904358, -0.08410969376564026, -0.26764288544654846, 0.43349483609199524, 0.28695544600486755, -0.08429316431283951, -0.4207746982574463, -0.5765736103057861, -0.5922287106513977, 0.9788058400154114, -0.8785268664360046, 0.3484388589859009, -0.11099568009376526, 0.5722751021385193, 0.48898518085479736, 0.06673838943243027, -0.6965739727020264, 0.15214703977108002, -0.7400572896003723, 0.8016510009765625, -0.40433022379875183, 0.054769933223724365, -0.5498860478401184, -0.9527111053466797, 0.8399367928504944, 0.08803018182516098, 0.8346877694129944, -0.0018976120045408607, 1.4820895195007324, 0.7181980609893799, -0.11261263489723206, -0.16172057390213013, -0.1643957495689392, -0.6370500326156616, 0.9327294826507568, 0.09903177618980408, 1.4464592933654785, 0.05560917779803276, 1.3709875345230103, -0.12669503688812256, 0.7290595173835754, -1.3859573602676392, -0.8632809519767761, -0.00854759942740202, 0.17744769155979156, -0.416475385427475, 0.02075553499162197, 1.3068605661392212, 0.3979979455471039, 0.41575703024864197, -0.29972973465919495, 1.392651081085205, 0.2248682975769043, -0.0811975970864296, -0.480616956949234, -0.8439592719078064, -0.3478616178035736, -0.26981350779533386, -0.9310953617095947, 0.2569643557071686, 0.3353736400604248, 0.0862659215927124, 1.0042462348937988, -0.12043746560811996, 0.30772361159324646, 0.3364260196685791, 0.24675792455673218, -0.36795082688331604, -0.5986331105232239, 0.978477418422699, 0.20704185962677002, -0.05108330771327019, 1.6355676651000977, -0.4803333282470703, 0.7095453143119812, -0.5580248236656189, -0.4903237521648407, 1.9298864603042603, -0.2643759250640869, -0.0958617702126503, 0.5131317973136902, 0.5179471373558044, -0.3735640347003937, -0.6779494881629944, 0.03018364869058132, -0.33110305666923523, -0.5952813029289246, -0.4592777192592621, -1.3083909749984741, 1.5579147338867188, -0.6719441413879395, -0.3508027493953705, -0.026177728548645973, -0.3877044916152954, -0.2775214910507202, -0.21678908169269562, -0.016578204929828644, -1.1631489992141724, 0.01929696463048458, 0.769149124622345, 0.9209058284759521, 1.4110679626464844, -0.7492737174034119, 1.2150648832321167, -0.03445536270737648, -0.6180210113525391, -0.4050947427749634, 1.2393152713775635, 0.8304507732391357, -1.0805131196975708, 0.4808095395565033, 0.42748793959617615, 0.17929916083812714, 0.12172883749008179, 0.4614962637424469, -0.07099630683660507, 0.41108688712120056, 0.10969686508178711, -0.07164442539215088, -0.7041770815849304, 0.39249899983406067, -0.3783195912837982, -0.3302086889743805, -0.4225090444087982, -0.5775420665740967, -0.5745922923088074, 0.11358992010354996, -0.9154150485992432, -1.0903228521347046, -1.2053070068359375, 0.21441073715686798, 0.6705735325813293, 0.5934141278266907, -0.17551405727863312, -0.465347558259964, -0.4133526384830475, -0.21476823091506958, 0.7785847783088684, 0.20832039415836334, 0.3652496039867401, 0.9874439239501953, -0.6409375071525574, 0.8684900403022766, 0.3932265043258667, -0.11769154667854309, 0.41106927394866943, 1.2059165239334106, -0.6223592162132263, 0.2630331516265869, -0.3832491934299469, 0.5255510807037354, 0.5300537943840027, -0.31594470143318176, -0.060195695608854294, -0.13857312500476837, -0.2813223600387573, 0.42405787110328674, 0.3504258692264557, -0.8456247448921204, -0.5589662194252014, 0.1397029608488083, 0.6770119071006775, -0.09437349438667297, 0.2618597745895386, 0.5150123834609985, 0.5057542324066162, 0.3362489640712738, 0.26485392451286316, -0.2992590069770813, 0.5921318531036377, -0.8102236390113831, -0.9237112998962402, -0.5751731991767883, -0.6250213980674744, 0.2890935242176056, -0.8037789463996887, -0.09703878313302994, 0.37536168098449707, -0.04445348680019379, 0.24615319073200226, 0.26572859287261963, 0.754916250705719, -0.4813583791255951, -1.260948657989502, -0.46814703941345215, -0.8030843734741211, 0.09582523256540298, -1.5306997299194336, -0.2002047747373581, 0.7350381016731262, -0.9473621249198914, 0.14095722138881683, -0.040697213262319565, 0.28338631987571716, 0.7253055572509766, 0.132928267121315, -0.005839501973241568, -1.318233847618103, -0.6204730868339539, 0.008439113385975361, -0.18514478206634521, 0.5949565172195435, 0.23614543676376343, 0.800567626953125, 0.10063161700963974, 0.1991618424654007, -0.8692876696586609, -0.6394572854042053, -0.05572523549199104, -0.5503575801849365, 0.36357858777046204, 0.9663019180297852, 0.22346581518650055, 0.08392437547445297, 0.25041982531547546, -0.452335387468338, -0.3857153356075287, -0.20224304497241974, -0.7342421412467957, 0.06370073556900024, 0.35000133514404297, 0.3784460127353668, 0.3720663785934448, -0.41342809796333313, 0.9603696465492249, 0.5418912172317505, -0.3037368953227997, 0.9604803919792175, -0.42369207739830017, -0.4310823976993561, 0.1915486603975296, -0.8006693720817566, -0.17862696945667267, 0.05803574249148369, 0.28724634647369385, -0.26775026321411133, 0.307971715927124, -0.27090007066726685, -0.15660728514194489, 0.42171335220336914, -0.18614275753498077, -0.628328263759613, -0.27754703164100647, 0.07767999172210693, 0.5612828731536865, 0.5026688575744629, -0.18866004049777985, 0.8712888360023499, -1.9038358926773071, 0.0480666346848011, 0.4762222468852997, 0.24675966799259186, 0.3994881212711334, -0.2630879878997803, -0.7010030746459961, -0.40750744938850403, -0.06196819245815277, -1.1906427145004272, -0.8178220391273499, 0.6368919014930725, 0.13909773528575897, 1.2388039827346802, -0.057773396372795105, -0.6815478801727295, 0.22589921951293945, -0.21360762417316437, 0.15625442564487457, -0.053564365953207016, -0.27091142535209656, 0.8687672019004822, -0.5399066805839539, 0.05314207077026367, -0.45911672711372375, -0.058309268206357956, -0.13699205219745636, -0.577443540096283, -0.26738011837005615, 0.13173134624958038, -0.16791070997714996, -0.5678038001060486, -0.2979595959186554, 0.43772777915000916, 0.006646851543337107, -0.2630887031555176, 0.4172463119029999, -0.014459391124546528, -0.34407833218574524, 0.3114016652107239, 0.21430151164531708, -0.5402037501335144, -0.7663211226463318, 0.11141565442085266, -0.20668922364711761, 0.4865929186344147, 0.11190861463546753, -0.2543538510799408, -0.31588640809059143, -0.41876021027565, -0.42674824595451355, 0.044039029628038406, 0.8941545486450195, 0.40339991450309753, -0.08287379145622253, 0.3020002543926239, -0.043660968542099, 0.28636983036994934, -0.551298201084137, -0.2327442616224289, 0.3182041347026825, 0.46577325463294983, 0.12421973794698715, 0.29813650250434875, 0.4775386154651642, -0.4481522738933563, 0.559833824634552, -0.24273188412189484, -0.6337465643882751, 1.3092710971832275, 0.2911466360092163, -0.06021605804562569, -0.5132825970649719, 0.9903237223625183, -0.8056273460388184, 0.021713988855481148, 0.27818062901496887, 0.1586519479751587, -0.14614681899547577, 0.7403833270072937, -0.15290121734142303, 0.2737972140312195, -0.7695123553276062, 0.11702266335487366, 0.48358598351478577, -0.6420204043388367, -0.4007568359375, 0.09998384863138199, 0.24200177192687988, -0.050943803042173386, 0.588867723941803, 0.28194013237953186, -1.4596887826919556, -0.37274572253227234, 0.4609333276748657, -0.17452509701251984, 0.6643941402435303, -0.4380148649215698, -1.0257564783096313, 0.45775628089904785, 0.6662909388542175, -1.8958368301391602, -1.4346972703933716, -0.38876762986183167, 0.25588634610176086, -0.2666413187980652, 1.299446702003479, 0.1540209800004959, 0.5808871388435364, -0.8189389705657959, -1.3099887371063232, 0.35081616044044495, -0.871877908706665, 0.5369814038276672, 0.26427268981933594, -0.1477581411600113, -0.10046546906232834, -0.847985029220581, -1.3939132690429688, 0.03419739380478859, 1.5812530517578125, 1.0331406593322754, 0.800682783126831, -0.5096924901008606, -0.4428980350494385, 0.845348060131073, 0.3132834732532501, -0.36475518345832825, -0.7300552725791931, 0.3432314395904541, 0.19420689344406128, -0.4679875075817108, 0.2585276961326599, 0.5174800753593445, 0.18534409999847412, -0.6929946541786194, -0.5798501968383789, -0.08108008652925491, 0.27023860812187195, -0.36963263154029846, 0.20011204481124878, 0.4528951644897461, -0.21653957664966583, 0.5057967305183411, 0.8766133189201355, 0.9491011500358582, 0.2059503048658371, 0.2638052999973297, 0.14056602120399475, 0.9390311241149902, -0.47534236311912537, 0.16003282368183136, 0.7872076034545898, 0.7105651497840881, -0.07538649439811707, 0.44651269912719727, -0.1473207324743271, 0.007150957826524973, 0.7390575408935547, 0.1523457169532776, 1.003553867340088, -0.9605083465576172, -0.5966432094573975, -0.2718499004840851, 0.26547369360923767, 0.24618510901927948, 0.5790916085243225, -0.7115224003791809, 0.17202162742614746, -0.3871406018733978, 0.7298097610473633, 0.12280262261629105, 1.030638575553894, -0.29801061749458313, 0.414044588804245, -0.304675430059433, -0.11237197369337082, -0.43490278720855713, -0.13087697327136993, 0.8209084868431091, 0.4401310384273529, 0.5615320801734924, 0.9477687478065491, 0.014448319561779499, 0.07106354087591171, 0.025630077347159386, -0.9179563522338867, -1.0670026540756226, -0.12997595965862274, -0.9517825245857239, -0.23078949749469757, -0.27921608090400696, 0.7913525700569153, -0.07051417976617813, 0.4872395992279053, -0.27145302295684814, 0.3567393720149994, 0.16108790040016174, -1.4181374311447144, -1.2783406972885132, 1.1497420072555542, 0.05155099928379059, 0.4032552242279053, 0.33060070872306824, 0.16029863059520721, -0.49702930450439453, 1.150321364402771, -0.8370141386985779, -0.9954164028167725, -0.2674584686756134, -0.5811378955841064, -0.16203153133392334]]\n"
     ]
    }
   ],
   "source": [
    "data = {\n",
    "  \"inputs\": \"123\",\n",
    "}\n",
    "query_response = query_endpoint_with_json_payload(json.dumps(data).encode('utf-8'))\n",
    "#print(query_response)\n",
    "#display_answer(query_response)\n",
    "generated_texts = parse_response_texts(query_response)\n",
    "print(generated_texts)"
   ]
  },
  {
   "cell_type": "code",
   "execution_count": 61,
   "id": "1f28db25-6996-440c-b004-14f96cfd982d",
   "metadata": {
    "tags": []
   },
   "outputs": [
    {
     "name": "stdout",
     "output_type": "stream",
     "text": [
      "0.18636798858642578\n",
      "{'sentence_embeddings': [[[-0.6130953431129456, 0.5462226271629333, 0.5804893374443054, 1.2506815195083618, 0.4986412823200226, -0.7086697220802307, 1.4623937606811523, -0.477876752614975, -0.757655918598175, 0.3172924220561981, 0.21863271296024323, -0.5148187279701233, -0.21170049905776978, -0.6646494269371033, -1.196014165878296, -0.0399162657558918, 0.4442327916622162, 0.10436812043190002, -0.348470538854599, -0.4285512864589691, 0.40278175473213196, -0.3978886604309082, -0.9368495941162109, -0.5383326411247253, -0.15362709760665894, -1.062376856803894, -0.7930343747138977, -0.23352432250976562, 1.127079963684082, 0.7262923121452332, 0.1532280594110489, 0.08634226769208908, -0.522877037525177, 0.8900917172431946, -0.05130075290799141, 0.22277270257472992, 0.6843562722206116, -0.11561364680528641, 0.446622759103775, 0.09158467501401901, 0.4532444477081299, -0.0007762511377222836, -2.1346824169158936, -1.009116768836975, -0.17754371464252472, -0.3280589282512665, 0.8034448623657227, 1.4298042058944702, -1.038845419883728, -0.26798948645591736, 0.2994174659252167, 5.936481475830078, -0.37682995200157166, -0.015617471188306808, -0.07352809607982635, 1.058892846107483, 0.6811854839324951, 0.18394559621810913, -0.6575694680213928, 0.1961461454629898, -0.27214738726615906, -1.278002142906189, -0.07137501239776611, 0.14867490530014038, -0.847216784954071, -0.23928773403167725, 0.10929795354604721, -1.057712197303772, -0.42423760890960693, 0.004863446112722158, 0.8916838765144348, 0.08837315440177917, 0.1874794363975525, -0.4313077926635742, -0.5965119004249573, -0.2777808904647827, 0.44532522559165955, 1.5508521795272827, -1.5558875799179077, 0.23150259256362915, 0.5021854043006897, -0.5043644309043884, -0.22222010791301727, -0.3573436439037323, -0.7384347319602966, 0.3400766849517822, 0.5049800872802734, -1.150652289390564, -0.7121591567993164, -0.08542713522911072, 0.2921956479549408, 0.029365727677941322, -1.1823102235794067, 0.053419873118400574, 0.3921373188495636, -0.9671925902366638, 1.3142311573028564, -0.886645495891571, -0.10355100780725479, 1.0082876682281494, 0.16965709626674652, -0.16551174223423004, 0.11064552515745163, -0.9259708523750305, -0.20382480323314667, -0.18786601722240448, -0.698483943939209, 0.48619139194488525, 0.7325844764709473, 0.1959301084280014, -0.2576422691345215, 0.8359104990959167, -0.2443867176771164, 0.3372100591659546, 0.39870691299438477, 0.19862806797027588, 0.05590220168232918, 0.6712564826011658, -0.4050726890563965, -0.5350232124328613, 0.34702596068382263, 0.5714767575263977, 0.12914513051509857, -0.8063297271728516, 0.1193796694278717, -0.05868789553642273, 0.19081534445285797, 0.8415938019752502, 0.582236111164093, 0.1792791485786438, -0.18074162304401398, 0.9004490971565247, -0.8653695583343506, -1.038511872291565, 0.4829903542995453, -0.24031472206115723, 0.09306871891021729, 0.2693715989589691, -1.723278522491455, -0.21396104991436005, 0.3322444558143616, -0.4438842833042145, -0.20727378129959106, -0.08189105987548828, -0.29028764367103577, 0.3252897560596466, 0.34889233112335205, 0.5561255812644958, 0.047583792358636856, -0.05211683735251427, 0.519620954990387, 0.7175281643867493, -0.5363531708717346, 0.025561759248375893, -0.08026793599128723, 1.0173758268356323, -0.6409857869148254, 0.67232745885849, -1.6475650072097778, 0.9894461631774902, -0.7643739581108093, -0.5037710070610046, 1.9020174741744995, -0.1044381856918335, 0.6313588619232178, -0.29998067021369934, -0.19037394225597382, -0.4195866882801056, -1.1473448276519775, -0.41892972588539124, 0.512049674987793, 0.8813583254814148, 0.9018411040306091, 0.27615514397621155, -0.12743806838989258, -0.09356322139501572, 0.16632980108261108, -0.40739282965660095, 0.31477677822113037, -0.780008852481842, 0.21105074882507324, -0.9086726307868958, 0.80885910987854, -0.38507768511772156, 0.20808537304401398, -0.3919278681278229, -0.7878254055976868, -0.33683621883392334, -0.47943711280822754, 0.4294559955596924, -1.4491039514541626, 0.69171541929245, 0.12547852098941803, -0.11674928665161133, -0.4486810266971588, -0.8381702899932861, 0.7911955714225769, -0.3717396557331085, -0.34875360131263733, -0.17672210931777954, -0.25745823979377747, -1.027389407157898, -0.06716620177030563, -0.038672711700201035, -0.8141518235206604, 1.2671642303466797, -1.676815152168274, -0.6297456622123718, 0.9597514271736145, -0.21580219268798828, -0.5038089156150818, -0.3646518290042877, -1.183226466178894, -0.493046373128891, 0.40830478072166443, 0.239676833152771, 0.32067930698394775, -0.17160005867481232, -0.009098717011511326, 0.3595212697982788, -0.2887832820415497, -0.3255106508731842, -0.6877410411834717, 1.2708320617675781, -0.44513368606567383, -0.23597268760204315, -0.22480373084545135, 0.97831130027771, 0.5309203863143921, -0.007018571253865957, 0.3267000913619995, 0.6503844857215881, -1.078116774559021, -0.4075148105621338, -0.45181766152381897, -0.04928506538271904, 0.2512533664703369, 1.0667461156845093, 1.0080755949020386, -1.065386176109314, 0.3660919964313507, 0.5883213877677917, -0.31223899126052856, 0.07980798929929733, -0.115909643471241, -0.2086324244737625, 0.7286227345466614, -0.43672025203704834, 0.2889314591884613, 0.08148237317800522, -0.49373042583465576, -1.3630808591842651, -0.010562214069068432, 0.10918714851140976, -0.18750113248825073, 0.49840474128723145, 0.10593303292989731, 0.4550188481807709, 0.6438344120979309, -1.0495543479919434, -0.22710901498794556, -0.5951409935951233, 0.9159433841705322, 0.19469575583934784, -0.4779656231403351, 0.5537310242652893, -0.3211310803890228, -1.297425389289856, 0.4846492111682892, 0.18669074773788452, 0.49950698018074036, 0.8555817008018494, -0.053216010332107544, -1.293346881866455, 1.0933423042297363, -0.8033251762390137, 0.6170176863670349, 0.3648190200328827, 1.5111392736434937, -0.36753049492836, -0.5080426335334778, -0.8987649083137512, -0.3862365186214447, -0.5515925884246826, -1.9428812265396118, -0.6497008800506592, 0.737443745136261, -0.3624099791049957, 0.38733401894569397, -0.3649005889892578, 0.8131155967712402, -0.4156586229801178, 0.16806955635547638, -0.025202428922057152, 4.406002521514893, 0.9589378237724304, 0.3992368280887604, -0.13112545013427734, 0.19853848218917847, 0.4974283277988434, -0.1035478413105011, -0.8350338935852051, -0.80940842628479, 0.10930535197257996, -0.5576056838035583, 0.7871005535125732, -0.6213720440864563, 0.9433347582817078, -1.484399437904358, -0.08410969376564026, -0.26764288544654846, 0.43349483609199524, 0.28695544600486755, -0.08429316431283951, -0.4207746982574463, -0.5765736103057861, -0.5922287106513977, 0.9788058400154114, -0.8785268664360046, 0.3484388589859009, -0.11099568009376526, 0.5722751021385193, 0.48898518085479736, 0.06673838943243027, -0.6965739727020264, 0.15214703977108002, -0.7400572896003723, 0.8016510009765625, -0.40433022379875183, 0.054769933223724365, -0.5498860478401184, -0.9527111053466797, 0.8399367928504944, 0.08803018182516098, 0.8346877694129944, -0.0018976120045408607, 1.4820895195007324, 0.7181980609893799, -0.11261263489723206, -0.16172057390213013, -0.1643957495689392, -0.6370500326156616, 0.9327294826507568, 0.09903177618980408, 1.4464592933654785, 0.05560917779803276, 1.3709875345230103, -0.12669503688812256, 0.7290595173835754, -1.3859573602676392, -0.8632809519767761, -0.00854759942740202, 0.17744769155979156, -0.416475385427475, 0.02075553499162197, 1.3068605661392212, 0.3979979455471039, 0.41575703024864197, -0.29972973465919495, 1.392651081085205, 0.2248682975769043, -0.0811975970864296, -0.480616956949234, -0.8439592719078064, -0.3478616178035736, -0.26981350779533386, -0.9310953617095947, 0.2569643557071686, 0.3353736400604248, 0.0862659215927124, 1.0042462348937988, -0.12043746560811996, 0.30772361159324646, 0.3364260196685791, 0.24675792455673218, -0.36795082688331604, -0.5986331105232239, 0.978477418422699, 0.20704185962677002, -0.05108330771327019, 1.6355676651000977, -0.4803333282470703, 0.7095453143119812, -0.5580248236656189, -0.4903237521648407, 1.9298864603042603, -0.2643759250640869, -0.0958617702126503, 0.5131317973136902, 0.5179471373558044, -0.3735640347003937, -0.6779494881629944, 0.03018364869058132, -0.33110305666923523, -0.5952813029289246, -0.4592777192592621, -1.3083909749984741, 1.5579147338867188, -0.6719441413879395, -0.3508027493953705, -0.026177728548645973, -0.3877044916152954, -0.2775214910507202, -0.21678908169269562, -0.016578204929828644, -1.1631489992141724, 0.01929696463048458, 0.769149124622345, 0.9209058284759521, 1.4110679626464844, -0.7492737174034119, 1.2150648832321167, -0.03445536270737648, -0.6180210113525391, -0.4050947427749634, 1.2393152713775635, 0.8304507732391357, -1.0805131196975708, 0.4808095395565033, 0.42748793959617615, 0.17929916083812714, 0.12172883749008179, 0.4614962637424469, -0.07099630683660507, 0.41108688712120056, 0.10969686508178711, -0.07164442539215088, -0.7041770815849304, 0.39249899983406067, -0.3783195912837982, -0.3302086889743805, -0.4225090444087982, -0.5775420665740967, -0.5745922923088074, 0.11358992010354996, -0.9154150485992432, -1.0903228521347046, -1.2053070068359375, 0.21441073715686798, 0.6705735325813293, 0.5934141278266907, -0.17551405727863312, -0.465347558259964, -0.4133526384830475, -0.21476823091506958, 0.7785847783088684, 0.20832039415836334, 0.3652496039867401, 0.9874439239501953, -0.6409375071525574, 0.8684900403022766, 0.3932265043258667, -0.11769154667854309, 0.41106927394866943, 1.2059165239334106, -0.6223592162132263, 0.2630331516265869, -0.3832491934299469, 0.5255510807037354, 0.5300537943840027, -0.31594470143318176, -0.060195695608854294, -0.13857312500476837, -0.2813223600387573, 0.42405787110328674, 0.3504258692264557, -0.8456247448921204, -0.5589662194252014, 0.1397029608488083, 0.6770119071006775, -0.09437349438667297, 0.2618597745895386, 0.5150123834609985, 0.5057542324066162, 0.3362489640712738, 0.26485392451286316, -0.2992590069770813, 0.5921318531036377, -0.8102236390113831, -0.9237112998962402, -0.5751731991767883, -0.6250213980674744, 0.2890935242176056, -0.8037789463996887, -0.09703878313302994, 0.37536168098449707, -0.04445348680019379, 0.24615319073200226, 0.26572859287261963, 0.754916250705719, -0.4813583791255951, -1.260948657989502, -0.46814703941345215, -0.8030843734741211, 0.09582523256540298, -1.5306997299194336, -0.2002047747373581, 0.7350381016731262, -0.9473621249198914, 0.14095722138881683, -0.040697213262319565, 0.28338631987571716, 0.7253055572509766, 0.132928267121315, -0.005839501973241568, -1.318233847618103, -0.6204730868339539, 0.008439113385975361, -0.18514478206634521, 0.5949565172195435, 0.23614543676376343, 0.800567626953125, 0.10063161700963974, 0.1991618424654007, -0.8692876696586609, -0.6394572854042053, -0.05572523549199104, -0.5503575801849365, 0.36357858777046204, 0.9663019180297852, 0.22346581518650055, 0.08392437547445297, 0.25041982531547546, -0.452335387468338, -0.3857153356075287, -0.20224304497241974, -0.7342421412467957, 0.06370073556900024, 0.35000133514404297, 0.3784460127353668, 0.3720663785934448, -0.41342809796333313, 0.9603696465492249, 0.5418912172317505, -0.3037368953227997, 0.9604803919792175, -0.42369207739830017, -0.4310823976993561, 0.1915486603975296, -0.8006693720817566, -0.17862696945667267, 0.05803574249148369, 0.28724634647369385, -0.26775026321411133, 0.307971715927124, -0.27090007066726685, -0.15660728514194489, 0.42171335220336914, -0.18614275753498077, -0.628328263759613, -0.27754703164100647, 0.07767999172210693, 0.5612828731536865, 0.5026688575744629, -0.18866004049777985, 0.8712888360023499, -1.9038358926773071, 0.0480666346848011, 0.4762222468852997, 0.24675966799259186, 0.3994881212711334, -0.2630879878997803, -0.7010030746459961, -0.40750744938850403, -0.06196819245815277, -1.1906427145004272, -0.8178220391273499, 0.6368919014930725, 0.13909773528575897, 1.2388039827346802, -0.057773396372795105, -0.6815478801727295, 0.22589921951293945, -0.21360762417316437, 0.15625442564487457, -0.053564365953207016, -0.27091142535209656, 0.8687672019004822, -0.5399066805839539, 0.05314207077026367, -0.45911672711372375, -0.058309268206357956, -0.13699205219745636, -0.577443540096283, -0.26738011837005615, 0.13173134624958038, -0.16791070997714996, -0.5678038001060486, -0.2979595959186554, 0.43772777915000916, 0.006646851543337107, -0.2630887031555176, 0.4172463119029999, -0.014459391124546528, -0.34407833218574524, 0.3114016652107239, 0.21430151164531708, -0.5402037501335144, -0.7663211226463318, 0.11141565442085266, -0.20668922364711761, 0.4865929186344147, 0.11190861463546753, -0.2543538510799408, -0.31588640809059143, -0.41876021027565, -0.42674824595451355, 0.044039029628038406, 0.8941545486450195, 0.40339991450309753, -0.08287379145622253, 0.3020002543926239, -0.043660968542099, 0.28636983036994934, -0.551298201084137, -0.2327442616224289, 0.3182041347026825, 0.46577325463294983, 0.12421973794698715, 0.29813650250434875, 0.4775386154651642, -0.4481522738933563, 0.559833824634552, -0.24273188412189484, -0.6337465643882751, 1.3092710971832275, 0.2911466360092163, -0.06021605804562569, -0.5132825970649719, 0.9903237223625183, -0.8056273460388184, 0.021713988855481148, 0.27818062901496887, 0.1586519479751587, -0.14614681899547577, 0.7403833270072937, -0.15290121734142303, 0.2737972140312195, -0.7695123553276062, 0.11702266335487366, 0.48358598351478577, -0.6420204043388367, -0.4007568359375, 0.09998384863138199, 0.24200177192687988, -0.050943803042173386, 0.588867723941803, 0.28194013237953186, -1.4596887826919556, -0.37274572253227234, 0.4609333276748657, -0.17452509701251984, 0.6643941402435303, -0.4380148649215698, -1.0257564783096313, 0.45775628089904785, 0.6662909388542175, -1.8958368301391602, -1.4346972703933716, -0.38876762986183167, 0.25588634610176086, -0.2666413187980652, 1.299446702003479, 0.1540209800004959, 0.5808871388435364, -0.8189389705657959, -1.3099887371063232, 0.35081616044044495, -0.871877908706665, 0.5369814038276672, 0.26427268981933594, -0.1477581411600113, -0.10046546906232834, -0.847985029220581, -1.3939132690429688, 0.03419739380478859, 1.5812530517578125, 1.0331406593322754, 0.800682783126831, -0.5096924901008606, -0.4428980350494385, 0.845348060131073, 0.3132834732532501, -0.36475518345832825, -0.7300552725791931, 0.3432314395904541, 0.19420689344406128, -0.4679875075817108, 0.2585276961326599, 0.5174800753593445, 0.18534409999847412, -0.6929946541786194, -0.5798501968383789, -0.08108008652925491, 0.27023860812187195, -0.36963263154029846, 0.20011204481124878, 0.4528951644897461, -0.21653957664966583, 0.5057967305183411, 0.8766133189201355, 0.9491011500358582, 0.2059503048658371, 0.2638052999973297, 0.14056602120399475, 0.9390311241149902, -0.47534236311912537, 0.16003282368183136, 0.7872076034545898, 0.7105651497840881, -0.07538649439811707, 0.44651269912719727, -0.1473207324743271, 0.007150957826524973, 0.7390575408935547, 0.1523457169532776, 1.003553867340088, -0.9605083465576172, -0.5966432094573975, -0.2718499004840851, 0.26547369360923767, 0.24618510901927948, 0.5790916085243225, -0.7115224003791809, 0.17202162742614746, -0.3871406018733978, 0.7298097610473633, 0.12280262261629105, 1.030638575553894, -0.29801061749458313, 0.414044588804245, -0.304675430059433, -0.11237197369337082, -0.43490278720855713, -0.13087697327136993, 0.8209084868431091, 0.4401310384273529, 0.5615320801734924, 0.9477687478065491, 0.014448319561779499, 0.07106354087591171, 0.025630077347159386, -0.9179563522338867, -1.0670026540756226, -0.12997595965862274, -0.9517825245857239, -0.23078949749469757, -0.27921608090400696, 0.7913525700569153, -0.07051417976617813, 0.4872395992279053, -0.27145302295684814, 0.3567393720149994, 0.16108790040016174, -1.4181374311447144, -1.2783406972885132, 1.1497420072555542, 0.05155099928379059, 0.4032552242279053, 0.33060070872306824, 0.16029863059520721, -0.49702930450439453, 1.150321364402771, -0.8370141386985779, -0.9954164028167725, -0.2674584686756134, -0.5811378955841064, -0.16203153133392334]], [[-0.6130953431129456, 0.5462226271629333, 0.5804893374443054, 1.2506815195083618, 0.4986412823200226, -0.7086697220802307, 1.4623937606811523, -0.477876752614975, -0.757655918598175, 0.3172924220561981, 0.21863271296024323, -0.5148187279701233, -0.21170049905776978, -0.6646494269371033, -1.196014165878296, -0.0399162657558918, 0.4442327916622162, 0.10436812043190002, -0.348470538854599, -0.4285512864589691, 0.40278175473213196, -0.3978886604309082, -0.9368495941162109, -0.5383326411247253, -0.15362709760665894, -1.062376856803894, -0.7930343747138977, -0.23352432250976562, 1.127079963684082, 0.7262923121452332, 0.1532280594110489, 0.08634226769208908, -0.522877037525177, 0.8900917172431946, -0.05130075290799141, 0.22277270257472992, 0.6843562722206116, -0.11561364680528641, 0.446622759103775, 0.09158467501401901, 0.4532444477081299, -0.0007762511377222836, -2.1346824169158936, -1.009116768836975, -0.17754371464252472, -0.3280589282512665, 0.8034448623657227, 1.4298042058944702, -1.038845419883728, -0.26798948645591736, 0.2994174659252167, 5.936481475830078, -0.37682995200157166, -0.015617471188306808, -0.07352809607982635, 1.058892846107483, 0.6811854839324951, 0.18394559621810913, -0.6575694680213928, 0.1961461454629898, -0.27214738726615906, -1.278002142906189, -0.07137501239776611, 0.14867490530014038, -0.847216784954071, -0.23928773403167725, 0.10929795354604721, -1.057712197303772, -0.42423760890960693, 0.004863446112722158, 0.8916838765144348, 0.08837315440177917, 0.1874794363975525, -0.4313077926635742, -0.5965119004249573, -0.2777808904647827, 0.44532522559165955, 1.5508521795272827, -1.5558875799179077, 0.23150259256362915, 0.5021854043006897, -0.5043644309043884, -0.22222010791301727, -0.3573436439037323, -0.7384347319602966, 0.3400766849517822, 0.5049800872802734, -1.150652289390564, -0.7121591567993164, -0.08542713522911072, 0.2921956479549408, 0.029365727677941322, -1.1823102235794067, 0.053419873118400574, 0.3921373188495636, -0.9671925902366638, 1.3142311573028564, -0.886645495891571, -0.10355100780725479, 1.0082876682281494, 0.16965709626674652, -0.16551174223423004, 0.11064552515745163, -0.9259708523750305, -0.20382480323314667, -0.18786601722240448, -0.698483943939209, 0.48619139194488525, 0.7325844764709473, 0.1959301084280014, -0.2576422691345215, 0.8359104990959167, -0.2443867176771164, 0.3372100591659546, 0.39870691299438477, 0.19862806797027588, 0.05590220168232918, 0.6712564826011658, -0.4050726890563965, -0.5350232124328613, 0.34702596068382263, 0.5714767575263977, 0.12914513051509857, -0.8063297271728516, 0.1193796694278717, -0.05868789553642273, 0.19081534445285797, 0.8415938019752502, 0.582236111164093, 0.1792791485786438, -0.18074162304401398, 0.9004490971565247, -0.8653695583343506, -1.038511872291565, 0.4829903542995453, -0.24031472206115723, 0.09306871891021729, 0.2693715989589691, -1.723278522491455, -0.21396104991436005, 0.3322444558143616, -0.4438842833042145, -0.20727378129959106, -0.08189105987548828, -0.29028764367103577, 0.3252897560596466, 0.34889233112335205, 0.5561255812644958, 0.047583792358636856, -0.05211683735251427, 0.519620954990387, 0.7175281643867493, -0.5363531708717346, 0.025561759248375893, -0.08026793599128723, 1.0173758268356323, -0.6409857869148254, 0.67232745885849, -1.6475650072097778, 0.9894461631774902, -0.7643739581108093, -0.5037710070610046, 1.9020174741744995, -0.1044381856918335, 0.6313588619232178, -0.29998067021369934, -0.19037394225597382, -0.4195866882801056, -1.1473448276519775, -0.41892972588539124, 0.512049674987793, 0.8813583254814148, 0.9018411040306091, 0.27615514397621155, -0.12743806838989258, -0.09356322139501572, 0.16632980108261108, -0.40739282965660095, 0.31477677822113037, -0.780008852481842, 0.21105074882507324, -0.9086726307868958, 0.80885910987854, -0.38507768511772156, 0.20808537304401398, -0.3919278681278229, -0.7878254055976868, -0.33683621883392334, -0.47943711280822754, 0.4294559955596924, -1.4491039514541626, 0.69171541929245, 0.12547852098941803, -0.11674928665161133, -0.4486810266971588, -0.8381702899932861, 0.7911955714225769, -0.3717396557331085, -0.34875360131263733, -0.17672210931777954, -0.25745823979377747, -1.027389407157898, -0.06716620177030563, -0.038672711700201035, -0.8141518235206604, 1.2671642303466797, -1.676815152168274, -0.6297456622123718, 0.9597514271736145, -0.21580219268798828, -0.5038089156150818, -0.3646518290042877, -1.183226466178894, -0.493046373128891, 0.40830478072166443, 0.239676833152771, 0.32067930698394775, -0.17160005867481232, -0.009098717011511326, 0.3595212697982788, -0.2887832820415497, -0.3255106508731842, -0.6877410411834717, 1.2708320617675781, -0.44513368606567383, -0.23597268760204315, -0.22480373084545135, 0.97831130027771, 0.5309203863143921, -0.007018571253865957, 0.3267000913619995, 0.6503844857215881, -1.078116774559021, -0.4075148105621338, -0.45181766152381897, -0.04928506538271904, 0.2512533664703369, 1.0667461156845093, 1.0080755949020386, -1.065386176109314, 0.3660919964313507, 0.5883213877677917, -0.31223899126052856, 0.07980798929929733, -0.115909643471241, -0.2086324244737625, 0.7286227345466614, -0.43672025203704834, 0.2889314591884613, 0.08148237317800522, -0.49373042583465576, -1.3630808591842651, -0.010562214069068432, 0.10918714851140976, -0.18750113248825073, 0.49840474128723145, 0.10593303292989731, 0.4550188481807709, 0.6438344120979309, -1.0495543479919434, -0.22710901498794556, -0.5951409935951233, 0.9159433841705322, 0.19469575583934784, -0.4779656231403351, 0.5537310242652893, -0.3211310803890228, -1.297425389289856, 0.4846492111682892, 0.18669074773788452, 0.49950698018074036, 0.8555817008018494, -0.053216010332107544, -1.293346881866455, 1.0933423042297363, -0.8033251762390137, 0.6170176863670349, 0.3648190200328827, 1.5111392736434937, -0.36753049492836, -0.5080426335334778, -0.8987649083137512, -0.3862365186214447, -0.5515925884246826, -1.9428812265396118, -0.6497008800506592, 0.737443745136261, -0.3624099791049957, 0.38733401894569397, -0.3649005889892578, 0.8131155967712402, -0.4156586229801178, 0.16806955635547638, -0.025202428922057152, 4.406002521514893, 0.9589378237724304, 0.3992368280887604, -0.13112545013427734, 0.19853848218917847, 0.4974283277988434, -0.1035478413105011, -0.8350338935852051, -0.80940842628479, 0.10930535197257996, -0.5576056838035583, 0.7871005535125732, -0.6213720440864563, 0.9433347582817078, -1.484399437904358, -0.08410969376564026, -0.26764288544654846, 0.43349483609199524, 0.28695544600486755, -0.08429316431283951, -0.4207746982574463, -0.5765736103057861, -0.5922287106513977, 0.9788058400154114, -0.8785268664360046, 0.3484388589859009, -0.11099568009376526, 0.5722751021385193, 0.48898518085479736, 0.06673838943243027, -0.6965739727020264, 0.15214703977108002, -0.7400572896003723, 0.8016510009765625, -0.40433022379875183, 0.054769933223724365, -0.5498860478401184, -0.9527111053466797, 0.8399367928504944, 0.08803018182516098, 0.8346877694129944, -0.0018976120045408607, 1.4820895195007324, 0.7181980609893799, -0.11261263489723206, -0.16172057390213013, -0.1643957495689392, -0.6370500326156616, 0.9327294826507568, 0.09903177618980408, 1.4464592933654785, 0.05560917779803276, 1.3709875345230103, -0.12669503688812256, 0.7290595173835754, -1.3859573602676392, -0.8632809519767761, -0.00854759942740202, 0.17744769155979156, -0.416475385427475, 0.02075553499162197, 1.3068605661392212, 0.3979979455471039, 0.41575703024864197, -0.29972973465919495, 1.392651081085205, 0.2248682975769043, -0.0811975970864296, -0.480616956949234, -0.8439592719078064, -0.3478616178035736, -0.26981350779533386, -0.9310953617095947, 0.2569643557071686, 0.3353736400604248, 0.0862659215927124, 1.0042462348937988, -0.12043746560811996, 0.30772361159324646, 0.3364260196685791, 0.24675792455673218, -0.36795082688331604, -0.5986331105232239, 0.978477418422699, 0.20704185962677002, -0.05108330771327019, 1.6355676651000977, -0.4803333282470703, 0.7095453143119812, -0.5580248236656189, -0.4903237521648407, 1.9298864603042603, -0.2643759250640869, -0.0958617702126503, 0.5131317973136902, 0.5179471373558044, -0.3735640347003937, -0.6779494881629944, 0.03018364869058132, -0.33110305666923523, -0.5952813029289246, -0.4592777192592621, -1.3083909749984741, 1.5579147338867188, -0.6719441413879395, -0.3508027493953705, -0.026177728548645973, -0.3877044916152954, -0.2775214910507202, -0.21678908169269562, -0.016578204929828644, -1.1631489992141724, 0.01929696463048458, 0.769149124622345, 0.9209058284759521, 1.4110679626464844, -0.7492737174034119, 1.2150648832321167, -0.03445536270737648, -0.6180210113525391, -0.4050947427749634, 1.2393152713775635, 0.8304507732391357, -1.0805131196975708, 0.4808095395565033, 0.42748793959617615, 0.17929916083812714, 0.12172883749008179, 0.4614962637424469, -0.07099630683660507, 0.41108688712120056, 0.10969686508178711, -0.07164442539215088, -0.7041770815849304, 0.39249899983406067, -0.3783195912837982, -0.3302086889743805, -0.4225090444087982, -0.5775420665740967, -0.5745922923088074, 0.11358992010354996, -0.9154150485992432, -1.0903228521347046, -1.2053070068359375, 0.21441073715686798, 0.6705735325813293, 0.5934141278266907, -0.17551405727863312, -0.465347558259964, -0.4133526384830475, -0.21476823091506958, 0.7785847783088684, 0.20832039415836334, 0.3652496039867401, 0.9874439239501953, -0.6409375071525574, 0.8684900403022766, 0.3932265043258667, -0.11769154667854309, 0.41106927394866943, 1.2059165239334106, -0.6223592162132263, 0.2630331516265869, -0.3832491934299469, 0.5255510807037354, 0.5300537943840027, -0.31594470143318176, -0.060195695608854294, -0.13857312500476837, -0.2813223600387573, 0.42405787110328674, 0.3504258692264557, -0.8456247448921204, -0.5589662194252014, 0.1397029608488083, 0.6770119071006775, -0.09437349438667297, 0.2618597745895386, 0.5150123834609985, 0.5057542324066162, 0.3362489640712738, 0.26485392451286316, -0.2992590069770813, 0.5921318531036377, -0.8102236390113831, -0.9237112998962402, -0.5751731991767883, -0.6250213980674744, 0.2890935242176056, -0.8037789463996887, -0.09703878313302994, 0.37536168098449707, -0.04445348680019379, 0.24615319073200226, 0.26572859287261963, 0.754916250705719, -0.4813583791255951, -1.260948657989502, -0.46814703941345215, -0.8030843734741211, 0.09582523256540298, -1.5306997299194336, -0.2002047747373581, 0.7350381016731262, -0.9473621249198914, 0.14095722138881683, -0.040697213262319565, 0.28338631987571716, 0.7253055572509766, 0.132928267121315, -0.005839501973241568, -1.318233847618103, -0.6204730868339539, 0.008439113385975361, -0.18514478206634521, 0.5949565172195435, 0.23614543676376343, 0.800567626953125, 0.10063161700963974, 0.1991618424654007, -0.8692876696586609, -0.6394572854042053, -0.05572523549199104, -0.5503575801849365, 0.36357858777046204, 0.9663019180297852, 0.22346581518650055, 0.08392437547445297, 0.25041982531547546, -0.452335387468338, -0.3857153356075287, -0.20224304497241974, -0.7342421412467957, 0.06370073556900024, 0.35000133514404297, 0.3784460127353668, 0.3720663785934448, -0.41342809796333313, 0.9603696465492249, 0.5418912172317505, -0.3037368953227997, 0.9604803919792175, -0.42369207739830017, -0.4310823976993561, 0.1915486603975296, -0.8006693720817566, -0.17862696945667267, 0.05803574249148369, 0.28724634647369385, -0.26775026321411133, 0.307971715927124, -0.27090007066726685, -0.15660728514194489, 0.42171335220336914, -0.18614275753498077, -0.628328263759613, -0.27754703164100647, 0.07767999172210693, 0.5612828731536865, 0.5026688575744629, -0.18866004049777985, 0.8712888360023499, -1.9038358926773071, 0.0480666346848011, 0.4762222468852997, 0.24675966799259186, 0.3994881212711334, -0.2630879878997803, -0.7010030746459961, -0.40750744938850403, -0.06196819245815277, -1.1906427145004272, -0.8178220391273499, 0.6368919014930725, 0.13909773528575897, 1.2388039827346802, -0.057773396372795105, -0.6815478801727295, 0.22589921951293945, -0.21360762417316437, 0.15625442564487457, -0.053564365953207016, -0.27091142535209656, 0.8687672019004822, -0.5399066805839539, 0.05314207077026367, -0.45911672711372375, -0.058309268206357956, -0.13699205219745636, -0.577443540096283, -0.26738011837005615, 0.13173134624958038, -0.16791070997714996, -0.5678038001060486, -0.2979595959186554, 0.43772777915000916, 0.006646851543337107, -0.2630887031555176, 0.4172463119029999, -0.014459391124546528, -0.34407833218574524, 0.3114016652107239, 0.21430151164531708, -0.5402037501335144, -0.7663211226463318, 0.11141565442085266, -0.20668922364711761, 0.4865929186344147, 0.11190861463546753, -0.2543538510799408, -0.31588640809059143, -0.41876021027565, -0.42674824595451355, 0.044039029628038406, 0.8941545486450195, 0.40339991450309753, -0.08287379145622253, 0.3020002543926239, -0.043660968542099, 0.28636983036994934, -0.551298201084137, -0.2327442616224289, 0.3182041347026825, 0.46577325463294983, 0.12421973794698715, 0.29813650250434875, 0.4775386154651642, -0.4481522738933563, 0.559833824634552, -0.24273188412189484, -0.6337465643882751, 1.3092710971832275, 0.2911466360092163, -0.06021605804562569, -0.5132825970649719, 0.9903237223625183, -0.8056273460388184, 0.021713988855481148, 0.27818062901496887, 0.1586519479751587, -0.14614681899547577, 0.7403833270072937, -0.15290121734142303, 0.2737972140312195, -0.7695123553276062, 0.11702266335487366, 0.48358598351478577, -0.6420204043388367, -0.4007568359375, 0.09998384863138199, 0.24200177192687988, -0.050943803042173386, 0.588867723941803, 0.28194013237953186, -1.4596887826919556, -0.37274572253227234, 0.4609333276748657, -0.17452509701251984, 0.6643941402435303, -0.4380148649215698, -1.0257564783096313, 0.45775628089904785, 0.6662909388542175, -1.8958368301391602, -1.4346972703933716, -0.38876762986183167, 0.25588634610176086, -0.2666413187980652, 1.299446702003479, 0.1540209800004959, 0.5808871388435364, -0.8189389705657959, -1.3099887371063232, 0.35081616044044495, -0.871877908706665, 0.5369814038276672, 0.26427268981933594, -0.1477581411600113, -0.10046546906232834, -0.847985029220581, -1.3939132690429688, 0.03419739380478859, 1.5812530517578125, 1.0331406593322754, 0.800682783126831, -0.5096924901008606, -0.4428980350494385, 0.845348060131073, 0.3132834732532501, -0.36475518345832825, -0.7300552725791931, 0.3432314395904541, 0.19420689344406128, -0.4679875075817108, 0.2585276961326599, 0.5174800753593445, 0.18534409999847412, -0.6929946541786194, -0.5798501968383789, -0.08108008652925491, 0.27023860812187195, -0.36963263154029846, 0.20011204481124878, 0.4528951644897461, -0.21653957664966583, 0.5057967305183411, 0.8766133189201355, 0.9491011500358582, 0.2059503048658371, 0.2638052999973297, 0.14056602120399475, 0.9390311241149902, -0.47534236311912537, 0.16003282368183136, 0.7872076034545898, 0.7105651497840881, -0.07538649439811707, 0.44651269912719727, -0.1473207324743271, 0.007150957826524973, 0.7390575408935547, 0.1523457169532776, 1.003553867340088, -0.9605083465576172, -0.5966432094573975, -0.2718499004840851, 0.26547369360923767, 0.24618510901927948, 0.5790916085243225, -0.7115224003791809, 0.17202162742614746, -0.3871406018733978, 0.7298097610473633, 0.12280262261629105, 1.030638575553894, -0.29801061749458313, 0.414044588804245, -0.304675430059433, -0.11237197369337082, -0.43490278720855713, -0.13087697327136993, 0.8209084868431091, 0.4401310384273529, 0.5615320801734924, 0.9477687478065491, 0.014448319561779499, 0.07106354087591171, 0.025630077347159386, -0.9179563522338867, -1.0670026540756226, -0.12997595965862274, -0.9517825245857239, -0.23078949749469757, -0.27921608090400696, 0.7913525700569153, -0.07051417976617813, 0.4872395992279053, -0.27145302295684814, 0.3567393720149994, 0.16108790040016174, -1.4181374311447144, -1.2783406972885132, 1.1497420072555542, 0.05155099928379059, 0.4032552242279053, 0.33060070872306824, 0.16029863059520721, -0.49702930450439453, 1.150321364402771, -0.8370141386985779, -0.9954164028167725, -0.2674584686756134, -0.5811378955841064, -0.16203153133392334]], [[-0.6130953431129456, 0.5462226271629333, 0.5804893374443054, 1.2506815195083618, 0.4986412823200226, -0.7086697220802307, 1.4623937606811523, -0.477876752614975, -0.757655918598175, 0.3172924220561981, 0.21863271296024323, -0.5148187279701233, -0.21170049905776978, -0.6646494269371033, -1.196014165878296, -0.0399162657558918, 0.4442327916622162, 0.10436812043190002, -0.348470538854599, -0.4285512864589691, 0.40278175473213196, -0.3978886604309082, -0.9368495941162109, -0.5383326411247253, -0.15362709760665894, -1.062376856803894, -0.7930343747138977, -0.23352432250976562, 1.127079963684082, 0.7262923121452332, 0.1532280594110489, 0.08634226769208908, -0.522877037525177, 0.8900917172431946, -0.05130075290799141, 0.22277270257472992, 0.6843562722206116, -0.11561364680528641, 0.446622759103775, 0.09158467501401901, 0.4532444477081299, -0.0007762511377222836, -2.1346824169158936, -1.009116768836975, -0.17754371464252472, -0.3280589282512665, 0.8034448623657227, 1.4298042058944702, -1.038845419883728, -0.26798948645591736, 0.2994174659252167, 5.936481475830078, -0.37682995200157166, -0.015617471188306808, -0.07352809607982635, 1.058892846107483, 0.6811854839324951, 0.18394559621810913, -0.6575694680213928, 0.1961461454629898, -0.27214738726615906, -1.278002142906189, -0.07137501239776611, 0.14867490530014038, -0.847216784954071, -0.23928773403167725, 0.10929795354604721, -1.057712197303772, -0.42423760890960693, 0.004863446112722158, 0.8916838765144348, 0.08837315440177917, 0.1874794363975525, -0.4313077926635742, -0.5965119004249573, -0.2777808904647827, 0.44532522559165955, 1.5508521795272827, -1.5558875799179077, 0.23150259256362915, 0.5021854043006897, -0.5043644309043884, -0.22222010791301727, -0.3573436439037323, -0.7384347319602966, 0.3400766849517822, 0.5049800872802734, -1.150652289390564, -0.7121591567993164, -0.08542713522911072, 0.2921956479549408, 0.029365727677941322, -1.1823102235794067, 0.053419873118400574, 0.3921373188495636, -0.9671925902366638, 1.3142311573028564, -0.886645495891571, -0.10355100780725479, 1.0082876682281494, 0.16965709626674652, -0.16551174223423004, 0.11064552515745163, -0.9259708523750305, -0.20382480323314667, -0.18786601722240448, -0.698483943939209, 0.48619139194488525, 0.7325844764709473, 0.1959301084280014, -0.2576422691345215, 0.8359104990959167, -0.2443867176771164, 0.3372100591659546, 0.39870691299438477, 0.19862806797027588, 0.05590220168232918, 0.6712564826011658, -0.4050726890563965, -0.5350232124328613, 0.34702596068382263, 0.5714767575263977, 0.12914513051509857, -0.8063297271728516, 0.1193796694278717, -0.05868789553642273, 0.19081534445285797, 0.8415938019752502, 0.582236111164093, 0.1792791485786438, -0.18074162304401398, 0.9004490971565247, -0.8653695583343506, -1.038511872291565, 0.4829903542995453, -0.24031472206115723, 0.09306871891021729, 0.2693715989589691, -1.723278522491455, -0.21396104991436005, 0.3322444558143616, -0.4438842833042145, -0.20727378129959106, -0.08189105987548828, -0.29028764367103577, 0.3252897560596466, 0.34889233112335205, 0.5561255812644958, 0.047583792358636856, -0.05211683735251427, 0.519620954990387, 0.7175281643867493, -0.5363531708717346, 0.025561759248375893, -0.08026793599128723, 1.0173758268356323, -0.6409857869148254, 0.67232745885849, -1.6475650072097778, 0.9894461631774902, -0.7643739581108093, -0.5037710070610046, 1.9020174741744995, -0.1044381856918335, 0.6313588619232178, -0.29998067021369934, -0.19037394225597382, -0.4195866882801056, -1.1473448276519775, -0.41892972588539124, 0.512049674987793, 0.8813583254814148, 0.9018411040306091, 0.27615514397621155, -0.12743806838989258, -0.09356322139501572, 0.16632980108261108, -0.40739282965660095, 0.31477677822113037, -0.780008852481842, 0.21105074882507324, -0.9086726307868958, 0.80885910987854, -0.38507768511772156, 0.20808537304401398, -0.3919278681278229, -0.7878254055976868, -0.33683621883392334, -0.47943711280822754, 0.4294559955596924, -1.4491039514541626, 0.69171541929245, 0.12547852098941803, -0.11674928665161133, -0.4486810266971588, -0.8381702899932861, 0.7911955714225769, -0.3717396557331085, -0.34875360131263733, -0.17672210931777954, -0.25745823979377747, -1.027389407157898, -0.06716620177030563, -0.038672711700201035, -0.8141518235206604, 1.2671642303466797, -1.676815152168274, -0.6297456622123718, 0.9597514271736145, -0.21580219268798828, -0.5038089156150818, -0.3646518290042877, -1.183226466178894, -0.493046373128891, 0.40830478072166443, 0.239676833152771, 0.32067930698394775, -0.17160005867481232, -0.009098717011511326, 0.3595212697982788, -0.2887832820415497, -0.3255106508731842, -0.6877410411834717, 1.2708320617675781, -0.44513368606567383, -0.23597268760204315, -0.22480373084545135, 0.97831130027771, 0.5309203863143921, -0.007018571253865957, 0.3267000913619995, 0.6503844857215881, -1.078116774559021, -0.4075148105621338, -0.45181766152381897, -0.04928506538271904, 0.2512533664703369, 1.0667461156845093, 1.0080755949020386, -1.065386176109314, 0.3660919964313507, 0.5883213877677917, -0.31223899126052856, 0.07980798929929733, -0.115909643471241, -0.2086324244737625, 0.7286227345466614, -0.43672025203704834, 0.2889314591884613, 0.08148237317800522, -0.49373042583465576, -1.3630808591842651, -0.010562214069068432, 0.10918714851140976, -0.18750113248825073, 0.49840474128723145, 0.10593303292989731, 0.4550188481807709, 0.6438344120979309, -1.0495543479919434, -0.22710901498794556, -0.5951409935951233, 0.9159433841705322, 0.19469575583934784, -0.4779656231403351, 0.5537310242652893, -0.3211310803890228, -1.297425389289856, 0.4846492111682892, 0.18669074773788452, 0.49950698018074036, 0.8555817008018494, -0.053216010332107544, -1.293346881866455, 1.0933423042297363, -0.8033251762390137, 0.6170176863670349, 0.3648190200328827, 1.5111392736434937, -0.36753049492836, -0.5080426335334778, -0.8987649083137512, -0.3862365186214447, -0.5515925884246826, -1.9428812265396118, -0.6497008800506592, 0.737443745136261, -0.3624099791049957, 0.38733401894569397, -0.3649005889892578, 0.8131155967712402, -0.4156586229801178, 0.16806955635547638, -0.025202428922057152, 4.406002521514893, 0.9589378237724304, 0.3992368280887604, -0.13112545013427734, 0.19853848218917847, 0.4974283277988434, -0.1035478413105011, -0.8350338935852051, -0.80940842628479, 0.10930535197257996, -0.5576056838035583, 0.7871005535125732, -0.6213720440864563, 0.9433347582817078, -1.484399437904358, -0.08410969376564026, -0.26764288544654846, 0.43349483609199524, 0.28695544600486755, -0.08429316431283951, -0.4207746982574463, -0.5765736103057861, -0.5922287106513977, 0.9788058400154114, -0.8785268664360046, 0.3484388589859009, -0.11099568009376526, 0.5722751021385193, 0.48898518085479736, 0.06673838943243027, -0.6965739727020264, 0.15214703977108002, -0.7400572896003723, 0.8016510009765625, -0.40433022379875183, 0.054769933223724365, -0.5498860478401184, -0.9527111053466797, 0.8399367928504944, 0.08803018182516098, 0.8346877694129944, -0.0018976120045408607, 1.4820895195007324, 0.7181980609893799, -0.11261263489723206, -0.16172057390213013, -0.1643957495689392, -0.6370500326156616, 0.9327294826507568, 0.09903177618980408, 1.4464592933654785, 0.05560917779803276, 1.3709875345230103, -0.12669503688812256, 0.7290595173835754, -1.3859573602676392, -0.8632809519767761, -0.00854759942740202, 0.17744769155979156, -0.416475385427475, 0.02075553499162197, 1.3068605661392212, 0.3979979455471039, 0.41575703024864197, -0.29972973465919495, 1.392651081085205, 0.2248682975769043, -0.0811975970864296, -0.480616956949234, -0.8439592719078064, -0.3478616178035736, -0.26981350779533386, -0.9310953617095947, 0.2569643557071686, 0.3353736400604248, 0.0862659215927124, 1.0042462348937988, -0.12043746560811996, 0.30772361159324646, 0.3364260196685791, 0.24675792455673218, -0.36795082688331604, -0.5986331105232239, 0.978477418422699, 0.20704185962677002, -0.05108330771327019, 1.6355676651000977, -0.4803333282470703, 0.7095453143119812, -0.5580248236656189, -0.4903237521648407, 1.9298864603042603, -0.2643759250640869, -0.0958617702126503, 0.5131317973136902, 0.5179471373558044, -0.3735640347003937, -0.6779494881629944, 0.03018364869058132, -0.33110305666923523, -0.5952813029289246, -0.4592777192592621, -1.3083909749984741, 1.5579147338867188, -0.6719441413879395, -0.3508027493953705, -0.026177728548645973, -0.3877044916152954, -0.2775214910507202, -0.21678908169269562, -0.016578204929828644, -1.1631489992141724, 0.01929696463048458, 0.769149124622345, 0.9209058284759521, 1.4110679626464844, -0.7492737174034119, 1.2150648832321167, -0.03445536270737648, -0.6180210113525391, -0.4050947427749634, 1.2393152713775635, 0.8304507732391357, -1.0805131196975708, 0.4808095395565033, 0.42748793959617615, 0.17929916083812714, 0.12172883749008179, 0.4614962637424469, -0.07099630683660507, 0.41108688712120056, 0.10969686508178711, -0.07164442539215088, -0.7041770815849304, 0.39249899983406067, -0.3783195912837982, -0.3302086889743805, -0.4225090444087982, -0.5775420665740967, -0.5745922923088074, 0.11358992010354996, -0.9154150485992432, -1.0903228521347046, -1.2053070068359375, 0.21441073715686798, 0.6705735325813293, 0.5934141278266907, -0.17551405727863312, -0.465347558259964, -0.4133526384830475, -0.21476823091506958, 0.7785847783088684, 0.20832039415836334, 0.3652496039867401, 0.9874439239501953, -0.6409375071525574, 0.8684900403022766, 0.3932265043258667, -0.11769154667854309, 0.41106927394866943, 1.2059165239334106, -0.6223592162132263, 0.2630331516265869, -0.3832491934299469, 0.5255510807037354, 0.5300537943840027, -0.31594470143318176, -0.060195695608854294, -0.13857312500476837, -0.2813223600387573, 0.42405787110328674, 0.3504258692264557, -0.8456247448921204, -0.5589662194252014, 0.1397029608488083, 0.6770119071006775, -0.09437349438667297, 0.2618597745895386, 0.5150123834609985, 0.5057542324066162, 0.3362489640712738, 0.26485392451286316, -0.2992590069770813, 0.5921318531036377, -0.8102236390113831, -0.9237112998962402, -0.5751731991767883, -0.6250213980674744, 0.2890935242176056, -0.8037789463996887, -0.09703878313302994, 0.37536168098449707, -0.04445348680019379, 0.24615319073200226, 0.26572859287261963, 0.754916250705719, -0.4813583791255951, -1.260948657989502, -0.46814703941345215, -0.8030843734741211, 0.09582523256540298, -1.5306997299194336, -0.2002047747373581, 0.7350381016731262, -0.9473621249198914, 0.14095722138881683, -0.040697213262319565, 0.28338631987571716, 0.7253055572509766, 0.132928267121315, -0.005839501973241568, -1.318233847618103, -0.6204730868339539, 0.008439113385975361, -0.18514478206634521, 0.5949565172195435, 0.23614543676376343, 0.800567626953125, 0.10063161700963974, 0.1991618424654007, -0.8692876696586609, -0.6394572854042053, -0.05572523549199104, -0.5503575801849365, 0.36357858777046204, 0.9663019180297852, 0.22346581518650055, 0.08392437547445297, 0.25041982531547546, -0.452335387468338, -0.3857153356075287, -0.20224304497241974, -0.7342421412467957, 0.06370073556900024, 0.35000133514404297, 0.3784460127353668, 0.3720663785934448, -0.41342809796333313, 0.9603696465492249, 0.5418912172317505, -0.3037368953227997, 0.9604803919792175, -0.42369207739830017, -0.4310823976993561, 0.1915486603975296, -0.8006693720817566, -0.17862696945667267, 0.05803574249148369, 0.28724634647369385, -0.26775026321411133, 0.307971715927124, -0.27090007066726685, -0.15660728514194489, 0.42171335220336914, -0.18614275753498077, -0.628328263759613, -0.27754703164100647, 0.07767999172210693, 0.5612828731536865, 0.5026688575744629, -0.18866004049777985, 0.8712888360023499, -1.9038358926773071, 0.0480666346848011, 0.4762222468852997, 0.24675966799259186, 0.3994881212711334, -0.2630879878997803, -0.7010030746459961, -0.40750744938850403, -0.06196819245815277, -1.1906427145004272, -0.8178220391273499, 0.6368919014930725, 0.13909773528575897, 1.2388039827346802, -0.057773396372795105, -0.6815478801727295, 0.22589921951293945, -0.21360762417316437, 0.15625442564487457, -0.053564365953207016, -0.27091142535209656, 0.8687672019004822, -0.5399066805839539, 0.05314207077026367, -0.45911672711372375, -0.058309268206357956, -0.13699205219745636, -0.577443540096283, -0.26738011837005615, 0.13173134624958038, -0.16791070997714996, -0.5678038001060486, -0.2979595959186554, 0.43772777915000916, 0.006646851543337107, -0.2630887031555176, 0.4172463119029999, -0.014459391124546528, -0.34407833218574524, 0.3114016652107239, 0.21430151164531708, -0.5402037501335144, -0.7663211226463318, 0.11141565442085266, -0.20668922364711761, 0.4865929186344147, 0.11190861463546753, -0.2543538510799408, -0.31588640809059143, -0.41876021027565, -0.42674824595451355, 0.044039029628038406, 0.8941545486450195, 0.40339991450309753, -0.08287379145622253, 0.3020002543926239, -0.043660968542099, 0.28636983036994934, -0.551298201084137, -0.2327442616224289, 0.3182041347026825, 0.46577325463294983, 0.12421973794698715, 0.29813650250434875, 0.4775386154651642, -0.4481522738933563, 0.559833824634552, -0.24273188412189484, -0.6337465643882751, 1.3092710971832275, 0.2911466360092163, -0.06021605804562569, -0.5132825970649719, 0.9903237223625183, -0.8056273460388184, 0.021713988855481148, 0.27818062901496887, 0.1586519479751587, -0.14614681899547577, 0.7403833270072937, -0.15290121734142303, 0.2737972140312195, -0.7695123553276062, 0.11702266335487366, 0.48358598351478577, -0.6420204043388367, -0.4007568359375, 0.09998384863138199, 0.24200177192687988, -0.050943803042173386, 0.588867723941803, 0.28194013237953186, -1.4596887826919556, -0.37274572253227234, 0.4609333276748657, -0.17452509701251984, 0.6643941402435303, -0.4380148649215698, -1.0257564783096313, 0.45775628089904785, 0.6662909388542175, -1.8958368301391602, -1.4346972703933716, -0.38876762986183167, 0.25588634610176086, -0.2666413187980652, 1.299446702003479, 0.1540209800004959, 0.5808871388435364, -0.8189389705657959, -1.3099887371063232, 0.35081616044044495, -0.871877908706665, 0.5369814038276672, 0.26427268981933594, -0.1477581411600113, -0.10046546906232834, -0.847985029220581, -1.3939132690429688, 0.03419739380478859, 1.5812530517578125, 1.0331406593322754, 0.800682783126831, -0.5096924901008606, -0.4428980350494385, 0.845348060131073, 0.3132834732532501, -0.36475518345832825, -0.7300552725791931, 0.3432314395904541, 0.19420689344406128, -0.4679875075817108, 0.2585276961326599, 0.5174800753593445, 0.18534409999847412, -0.6929946541786194, -0.5798501968383789, -0.08108008652925491, 0.27023860812187195, -0.36963263154029846, 0.20011204481124878, 0.4528951644897461, -0.21653957664966583, 0.5057967305183411, 0.8766133189201355, 0.9491011500358582, 0.2059503048658371, 0.2638052999973297, 0.14056602120399475, 0.9390311241149902, -0.47534236311912537, 0.16003282368183136, 0.7872076034545898, 0.7105651497840881, -0.07538649439811707, 0.44651269912719727, -0.1473207324743271, 0.007150957826524973, 0.7390575408935547, 0.1523457169532776, 1.003553867340088, -0.9605083465576172, -0.5966432094573975, -0.2718499004840851, 0.26547369360923767, 0.24618510901927948, 0.5790916085243225, -0.7115224003791809, 0.17202162742614746, -0.3871406018733978, 0.7298097610473633, 0.12280262261629105, 1.030638575553894, -0.29801061749458313, 0.414044588804245, -0.304675430059433, -0.11237197369337082, -0.43490278720855713, -0.13087697327136993, 0.8209084868431091, 0.4401310384273529, 0.5615320801734924, 0.9477687478065491, 0.014448319561779499, 0.07106354087591171, 0.025630077347159386, -0.9179563522338867, -1.0670026540756226, -0.12997595965862274, -0.9517825245857239, -0.23078949749469757, -0.27921608090400696, 0.7913525700569153, -0.07051417976617813, 0.4872395992279053, -0.27145302295684814, 0.3567393720149994, 0.16108790040016174, -1.4181374311447144, -1.2783406972885132, 1.1497420072555542, 0.05155099928379059, 0.4032552242279053, 0.33060070872306824, 0.16029863059520721, -0.49702930450439453, 1.150321364402771, -0.8370141386985779, -0.9954164028167725, -0.2674584686756134, -0.5811378955841064, -0.16203153133392334]]]}\n"
     ]
    }
   ],
   "source": [
    "# Inference testing\n",
    "\n",
    "import time\n",
    "from sagemaker.huggingface import HuggingFaceModel\n",
    "hfp = sagemaker.huggingface.model.HuggingFacePredictor('huggingface-inference-eb')\n",
    "data = {\n",
    "  \"inputs\": \"123\",\n",
    "}\n",
    "t0 = time.time()\n",
    "for i in range(1):\n",
    "    x = hfp.predict(data)\n",
    "print(time.time()-t0)\n",
    "#result = json.loads(response['Body'].read().decode())[0][0][0]\n",
    "\n",
    "#print(len(x[0][0]))\n",
    "print(x)"
   ]
  },
  {
   "cell_type": "code",
   "execution_count": 62,
   "id": "aa0d6623-236d-4a5d-8360-4b07f8d8d40c",
   "metadata": {
    "tags": []
   },
   "outputs": [],
   "source": [
    "#!aws sagemaker delete-endpoint --endpoint-name huggingface-inference-eb\n",
    "#!aws sagemaker delete-endpoint-config --endpoint-config-name huggingface-inference-eb\n",
    "#!aws sagemaker delete-model --model-name huggingface-inference-eb"
   ]
  },
  {
   "cell_type": "code",
   "execution_count": null,
   "id": "36281bf3-b6f5-450f-b1b8-9f1285b1dad0",
   "metadata": {
    "tags": []
   },
   "outputs": [],
   "source": []
  },
  {
   "cell_type": "code",
   "execution_count": null,
   "id": "f9700aff",
   "metadata": {},
   "outputs": [],
   "source": []
  }
 ],
 "metadata": {
  "availableInstances": [
   {
    "_defaultOrder": 0,
    "_isFastLaunch": true,
    "category": "General purpose",
    "gpuNum": 0,
    "hideHardwareSpecs": false,
    "memoryGiB": 4,
    "name": "ml.t3.medium",
    "vcpuNum": 2
   },
   {
    "_defaultOrder": 1,
    "_isFastLaunch": false,
    "category": "General purpose",
    "gpuNum": 0,
    "hideHardwareSpecs": false,
    "memoryGiB": 8,
    "name": "ml.t3.large",
    "vcpuNum": 2
   },
   {
    "_defaultOrder": 2,
    "_isFastLaunch": false,
    "category": "General purpose",
    "gpuNum": 0,
    "hideHardwareSpecs": false,
    "memoryGiB": 16,
    "name": "ml.t3.xlarge",
    "vcpuNum": 4
   },
   {
    "_defaultOrder": 3,
    "_isFastLaunch": false,
    "category": "General purpose",
    "gpuNum": 0,
    "hideHardwareSpecs": false,
    "memoryGiB": 32,
    "name": "ml.t3.2xlarge",
    "vcpuNum": 8
   },
   {
    "_defaultOrder": 4,
    "_isFastLaunch": true,
    "category": "General purpose",
    "gpuNum": 0,
    "hideHardwareSpecs": false,
    "memoryGiB": 8,
    "name": "ml.m5.large",
    "vcpuNum": 2
   },
   {
    "_defaultOrder": 5,
    "_isFastLaunch": false,
    "category": "General purpose",
    "gpuNum": 0,
    "hideHardwareSpecs": false,
    "memoryGiB": 16,
    "name": "ml.m5.xlarge",
    "vcpuNum": 4
   },
   {
    "_defaultOrder": 6,
    "_isFastLaunch": false,
    "category": "General purpose",
    "gpuNum": 0,
    "hideHardwareSpecs": false,
    "memoryGiB": 32,
    "name": "ml.m5.2xlarge",
    "vcpuNum": 8
   },
   {
    "_defaultOrder": 7,
    "_isFastLaunch": false,
    "category": "General purpose",
    "gpuNum": 0,
    "hideHardwareSpecs": false,
    "memoryGiB": 64,
    "name": "ml.m5.4xlarge",
    "vcpuNum": 16
   },
   {
    "_defaultOrder": 8,
    "_isFastLaunch": false,
    "category": "General purpose",
    "gpuNum": 0,
    "hideHardwareSpecs": false,
    "memoryGiB": 128,
    "name": "ml.m5.8xlarge",
    "vcpuNum": 32
   },
   {
    "_defaultOrder": 9,
    "_isFastLaunch": false,
    "category": "General purpose",
    "gpuNum": 0,
    "hideHardwareSpecs": false,
    "memoryGiB": 192,
    "name": "ml.m5.12xlarge",
    "vcpuNum": 48
   },
   {
    "_defaultOrder": 10,
    "_isFastLaunch": false,
    "category": "General purpose",
    "gpuNum": 0,
    "hideHardwareSpecs": false,
    "memoryGiB": 256,
    "name": "ml.m5.16xlarge",
    "vcpuNum": 64
   },
   {
    "_defaultOrder": 11,
    "_isFastLaunch": false,
    "category": "General purpose",
    "gpuNum": 0,
    "hideHardwareSpecs": false,
    "memoryGiB": 384,
    "name": "ml.m5.24xlarge",
    "vcpuNum": 96
   },
   {
    "_defaultOrder": 12,
    "_isFastLaunch": false,
    "category": "General purpose",
    "gpuNum": 0,
    "hideHardwareSpecs": false,
    "memoryGiB": 8,
    "name": "ml.m5d.large",
    "vcpuNum": 2
   },
   {
    "_defaultOrder": 13,
    "_isFastLaunch": false,
    "category": "General purpose",
    "gpuNum": 0,
    "hideHardwareSpecs": false,
    "memoryGiB": 16,
    "name": "ml.m5d.xlarge",
    "vcpuNum": 4
   },
   {
    "_defaultOrder": 14,
    "_isFastLaunch": false,
    "category": "General purpose",
    "gpuNum": 0,
    "hideHardwareSpecs": false,
    "memoryGiB": 32,
    "name": "ml.m5d.2xlarge",
    "vcpuNum": 8
   },
   {
    "_defaultOrder": 15,
    "_isFastLaunch": false,
    "category": "General purpose",
    "gpuNum": 0,
    "hideHardwareSpecs": false,
    "memoryGiB": 64,
    "name": "ml.m5d.4xlarge",
    "vcpuNum": 16
   },
   {
    "_defaultOrder": 16,
    "_isFastLaunch": false,
    "category": "General purpose",
    "gpuNum": 0,
    "hideHardwareSpecs": false,
    "memoryGiB": 128,
    "name": "ml.m5d.8xlarge",
    "vcpuNum": 32
   },
   {
    "_defaultOrder": 17,
    "_isFastLaunch": false,
    "category": "General purpose",
    "gpuNum": 0,
    "hideHardwareSpecs": false,
    "memoryGiB": 192,
    "name": "ml.m5d.12xlarge",
    "vcpuNum": 48
   },
   {
    "_defaultOrder": 18,
    "_isFastLaunch": false,
    "category": "General purpose",
    "gpuNum": 0,
    "hideHardwareSpecs": false,
    "memoryGiB": 256,
    "name": "ml.m5d.16xlarge",
    "vcpuNum": 64
   },
   {
    "_defaultOrder": 19,
    "_isFastLaunch": false,
    "category": "General purpose",
    "gpuNum": 0,
    "hideHardwareSpecs": false,
    "memoryGiB": 384,
    "name": "ml.m5d.24xlarge",
    "vcpuNum": 96
   },
   {
    "_defaultOrder": 20,
    "_isFastLaunch": false,
    "category": "General purpose",
    "gpuNum": 0,
    "hideHardwareSpecs": true,
    "memoryGiB": 0,
    "name": "ml.geospatial.interactive",
    "supportedImageNames": [
     "sagemaker-geospatial-v1-0"
    ],
    "vcpuNum": 0
   },
   {
    "_defaultOrder": 21,
    "_isFastLaunch": true,
    "category": "Compute optimized",
    "gpuNum": 0,
    "hideHardwareSpecs": false,
    "memoryGiB": 4,
    "name": "ml.c5.large",
    "vcpuNum": 2
   },
   {
    "_defaultOrder": 22,
    "_isFastLaunch": false,
    "category": "Compute optimized",
    "gpuNum": 0,
    "hideHardwareSpecs": false,
    "memoryGiB": 8,
    "name": "ml.c5.xlarge",
    "vcpuNum": 4
   },
   {
    "_defaultOrder": 23,
    "_isFastLaunch": false,
    "category": "Compute optimized",
    "gpuNum": 0,
    "hideHardwareSpecs": false,
    "memoryGiB": 16,
    "name": "ml.c5.2xlarge",
    "vcpuNum": 8
   },
   {
    "_defaultOrder": 24,
    "_isFastLaunch": false,
    "category": "Compute optimized",
    "gpuNum": 0,
    "hideHardwareSpecs": false,
    "memoryGiB": 32,
    "name": "ml.c5.4xlarge",
    "vcpuNum": 16
   },
   {
    "_defaultOrder": 25,
    "_isFastLaunch": false,
    "category": "Compute optimized",
    "gpuNum": 0,
    "hideHardwareSpecs": false,
    "memoryGiB": 72,
    "name": "ml.c5.9xlarge",
    "vcpuNum": 36
   },
   {
    "_defaultOrder": 26,
    "_isFastLaunch": false,
    "category": "Compute optimized",
    "gpuNum": 0,
    "hideHardwareSpecs": false,
    "memoryGiB": 96,
    "name": "ml.c5.12xlarge",
    "vcpuNum": 48
   },
   {
    "_defaultOrder": 27,
    "_isFastLaunch": false,
    "category": "Compute optimized",
    "gpuNum": 0,
    "hideHardwareSpecs": false,
    "memoryGiB": 144,
    "name": "ml.c5.18xlarge",
    "vcpuNum": 72
   },
   {
    "_defaultOrder": 28,
    "_isFastLaunch": false,
    "category": "Compute optimized",
    "gpuNum": 0,
    "hideHardwareSpecs": false,
    "memoryGiB": 192,
    "name": "ml.c5.24xlarge",
    "vcpuNum": 96
   },
   {
    "_defaultOrder": 29,
    "_isFastLaunch": true,
    "category": "Accelerated computing",
    "gpuNum": 1,
    "hideHardwareSpecs": false,
    "memoryGiB": 16,
    "name": "ml.g4dn.xlarge",
    "vcpuNum": 4
   },
   {
    "_defaultOrder": 30,
    "_isFastLaunch": false,
    "category": "Accelerated computing",
    "gpuNum": 1,
    "hideHardwareSpecs": false,
    "memoryGiB": 32,
    "name": "ml.g4dn.2xlarge",
    "vcpuNum": 8
   },
   {
    "_defaultOrder": 31,
    "_isFastLaunch": false,
    "category": "Accelerated computing",
    "gpuNum": 1,
    "hideHardwareSpecs": false,
    "memoryGiB": 64,
    "name": "ml.g4dn.4xlarge",
    "vcpuNum": 16
   },
   {
    "_defaultOrder": 32,
    "_isFastLaunch": false,
    "category": "Accelerated computing",
    "gpuNum": 1,
    "hideHardwareSpecs": false,
    "memoryGiB": 128,
    "name": "ml.g4dn.8xlarge",
    "vcpuNum": 32
   },
   {
    "_defaultOrder": 33,
    "_isFastLaunch": false,
    "category": "Accelerated computing",
    "gpuNum": 4,
    "hideHardwareSpecs": false,
    "memoryGiB": 192,
    "name": "ml.g4dn.12xlarge",
    "vcpuNum": 48
   },
   {
    "_defaultOrder": 34,
    "_isFastLaunch": false,
    "category": "Accelerated computing",
    "gpuNum": 1,
    "hideHardwareSpecs": false,
    "memoryGiB": 256,
    "name": "ml.g4dn.16xlarge",
    "vcpuNum": 64
   },
   {
    "_defaultOrder": 35,
    "_isFastLaunch": false,
    "category": "Accelerated computing",
    "gpuNum": 1,
    "hideHardwareSpecs": false,
    "memoryGiB": 61,
    "name": "ml.p3.2xlarge",
    "vcpuNum": 8
   },
   {
    "_defaultOrder": 36,
    "_isFastLaunch": false,
    "category": "Accelerated computing",
    "gpuNum": 4,
    "hideHardwareSpecs": false,
    "memoryGiB": 244,
    "name": "ml.p3.8xlarge",
    "vcpuNum": 32
   },
   {
    "_defaultOrder": 37,
    "_isFastLaunch": false,
    "category": "Accelerated computing",
    "gpuNum": 8,
    "hideHardwareSpecs": false,
    "memoryGiB": 488,
    "name": "ml.p3.16xlarge",
    "vcpuNum": 64
   },
   {
    "_defaultOrder": 38,
    "_isFastLaunch": false,
    "category": "Accelerated computing",
    "gpuNum": 8,
    "hideHardwareSpecs": false,
    "memoryGiB": 768,
    "name": "ml.p3dn.24xlarge",
    "vcpuNum": 96
   },
   {
    "_defaultOrder": 39,
    "_isFastLaunch": false,
    "category": "Memory Optimized",
    "gpuNum": 0,
    "hideHardwareSpecs": false,
    "memoryGiB": 16,
    "name": "ml.r5.large",
    "vcpuNum": 2
   },
   {
    "_defaultOrder": 40,
    "_isFastLaunch": false,
    "category": "Memory Optimized",
    "gpuNum": 0,
    "hideHardwareSpecs": false,
    "memoryGiB": 32,
    "name": "ml.r5.xlarge",
    "vcpuNum": 4
   },
   {
    "_defaultOrder": 41,
    "_isFastLaunch": false,
    "category": "Memory Optimized",
    "gpuNum": 0,
    "hideHardwareSpecs": false,
    "memoryGiB": 64,
    "name": "ml.r5.2xlarge",
    "vcpuNum": 8
   },
   {
    "_defaultOrder": 42,
    "_isFastLaunch": false,
    "category": "Memory Optimized",
    "gpuNum": 0,
    "hideHardwareSpecs": false,
    "memoryGiB": 128,
    "name": "ml.r5.4xlarge",
    "vcpuNum": 16
   },
   {
    "_defaultOrder": 43,
    "_isFastLaunch": false,
    "category": "Memory Optimized",
    "gpuNum": 0,
    "hideHardwareSpecs": false,
    "memoryGiB": 256,
    "name": "ml.r5.8xlarge",
    "vcpuNum": 32
   },
   {
    "_defaultOrder": 44,
    "_isFastLaunch": false,
    "category": "Memory Optimized",
    "gpuNum": 0,
    "hideHardwareSpecs": false,
    "memoryGiB": 384,
    "name": "ml.r5.12xlarge",
    "vcpuNum": 48
   },
   {
    "_defaultOrder": 45,
    "_isFastLaunch": false,
    "category": "Memory Optimized",
    "gpuNum": 0,
    "hideHardwareSpecs": false,
    "memoryGiB": 512,
    "name": "ml.r5.16xlarge",
    "vcpuNum": 64
   },
   {
    "_defaultOrder": 46,
    "_isFastLaunch": false,
    "category": "Memory Optimized",
    "gpuNum": 0,
    "hideHardwareSpecs": false,
    "memoryGiB": 768,
    "name": "ml.r5.24xlarge",
    "vcpuNum": 96
   },
   {
    "_defaultOrder": 47,
    "_isFastLaunch": false,
    "category": "Accelerated computing",
    "gpuNum": 1,
    "hideHardwareSpecs": false,
    "memoryGiB": 16,
    "name": "ml.g5.xlarge",
    "vcpuNum": 4
   },
   {
    "_defaultOrder": 48,
    "_isFastLaunch": false,
    "category": "Accelerated computing",
    "gpuNum": 1,
    "hideHardwareSpecs": false,
    "memoryGiB": 32,
    "name": "ml.g5.2xlarge",
    "vcpuNum": 8
   },
   {
    "_defaultOrder": 49,
    "_isFastLaunch": false,
    "category": "Accelerated computing",
    "gpuNum": 1,
    "hideHardwareSpecs": false,
    "memoryGiB": 64,
    "name": "ml.g5.4xlarge",
    "vcpuNum": 16
   },
   {
    "_defaultOrder": 50,
    "_isFastLaunch": false,
    "category": "Accelerated computing",
    "gpuNum": 1,
    "hideHardwareSpecs": false,
    "memoryGiB": 128,
    "name": "ml.g5.8xlarge",
    "vcpuNum": 32
   },
   {
    "_defaultOrder": 51,
    "_isFastLaunch": false,
    "category": "Accelerated computing",
    "gpuNum": 1,
    "hideHardwareSpecs": false,
    "memoryGiB": 256,
    "name": "ml.g5.16xlarge",
    "vcpuNum": 64
   },
   {
    "_defaultOrder": 52,
    "_isFastLaunch": false,
    "category": "Accelerated computing",
    "gpuNum": 4,
    "hideHardwareSpecs": false,
    "memoryGiB": 192,
    "name": "ml.g5.12xlarge",
    "vcpuNum": 48
   },
   {
    "_defaultOrder": 53,
    "_isFastLaunch": false,
    "category": "Accelerated computing",
    "gpuNum": 4,
    "hideHardwareSpecs": false,
    "memoryGiB": 384,
    "name": "ml.g5.24xlarge",
    "vcpuNum": 96
   },
   {
    "_defaultOrder": 54,
    "_isFastLaunch": false,
    "category": "Accelerated computing",
    "gpuNum": 8,
    "hideHardwareSpecs": false,
    "memoryGiB": 768,
    "name": "ml.g5.48xlarge",
    "vcpuNum": 192
   },
   {
    "_defaultOrder": 55,
    "_isFastLaunch": false,
    "category": "Accelerated computing",
    "gpuNum": 8,
    "hideHardwareSpecs": false,
    "memoryGiB": 1152,
    "name": "ml.p4d.24xlarge",
    "vcpuNum": 96
   },
   {
    "_defaultOrder": 56,
    "_isFastLaunch": false,
    "category": "Accelerated computing",
    "gpuNum": 8,
    "hideHardwareSpecs": false,
    "memoryGiB": 1152,
    "name": "ml.p4de.24xlarge",
    "vcpuNum": 96
   }
  ],
  "instance_type": "ml.m5.large",
  "kernelspec": {
   "display_name": "conda_python3",
   "language": "python",
   "name": "conda_python3"
  },
  "language_info": {
   "codemirror_mode": {
    "name": "ipython",
    "version": 3
   },
   "file_extension": ".py",
   "mimetype": "text/x-python",
   "name": "python",
   "nbconvert_exporter": "python",
   "pygments_lexer": "ipython3",
   "version": "3.10.10"
  }
 },
 "nbformat": 4,
 "nbformat_minor": 5
}
