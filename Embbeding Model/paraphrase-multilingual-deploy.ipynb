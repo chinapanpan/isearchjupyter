{
 "cells": [
  {
   "cell_type": "markdown",
   "id": "ba7f6f98-70f2-4ca6-b999-eed03641ea87",
   "metadata": {},
   "source": [
    "### 1. 安装HuggingFace 并下载模型到本地"
   ]
  },
  {
   "cell_type": "code",
   "execution_count": 70,
   "id": "9f413314-c410-43d3-bb3a-ba0aa18ec1be",
   "metadata": {
    "tags": []
   },
   "outputs": [
    {
     "name": "stdout",
     "output_type": "stream",
     "text": [
      "Looking in indexes: https://pypi.tuna.tsinghua.edu.cn/simple/, https://pip.repos.neuron.amazonaws.com\n",
      "Requirement already satisfied: sagemaker in /home/ec2-user/anaconda3/envs/amazonei_pytorch_latest_p37/lib/python3.7/site-packages (2.173.0)\n",
      "Requirement already satisfied: numpy<2.0,>=1.9.0 in /home/ec2-user/anaconda3/envs/amazonei_pytorch_latest_p37/lib/python3.7/site-packages (from sagemaker) (1.21.6)\n",
      "Requirement already satisfied: pathos in /home/ec2-user/anaconda3/envs/amazonei_pytorch_latest_p37/lib/python3.7/site-packages (from sagemaker) (0.3.0)\n",
      "Requirement already satisfied: platformdirs in /home/ec2-user/anaconda3/envs/amazonei_pytorch_latest_p37/lib/python3.7/site-packages (from sagemaker) (3.9.1)\n",
      "Requirement already satisfied: tblib==1.7.0 in /home/ec2-user/anaconda3/envs/amazonei_pytorch_latest_p37/lib/python3.7/site-packages (from sagemaker) (1.7.0)\n",
      "Requirement already satisfied: protobuf<5.0,>=3.12 in /home/ec2-user/anaconda3/envs/amazonei_pytorch_latest_p37/lib/python3.7/site-packages (from sagemaker) (3.20.3)\n",
      "Requirement already satisfied: pandas in /home/ec2-user/anaconda3/envs/amazonei_pytorch_latest_p37/lib/python3.7/site-packages (from sagemaker) (1.3.5)\n",
      "Requirement already satisfied: cloudpickle==2.2.1 in /home/ec2-user/anaconda3/envs/amazonei_pytorch_latest_p37/lib/python3.7/site-packages (from sagemaker) (2.2.1)\n",
      "Requirement already satisfied: packaging>=20.0 in /home/ec2-user/anaconda3/envs/amazonei_pytorch_latest_p37/lib/python3.7/site-packages (from sagemaker) (21.3)\n",
      "Requirement already satisfied: PyYAML~=6.0 in /home/ec2-user/anaconda3/envs/amazonei_pytorch_latest_p37/lib/python3.7/site-packages (from sagemaker) (6.0.1)\n",
      "Requirement already satisfied: importlib-metadata<7.0,>=1.4.0 in /home/ec2-user/anaconda3/envs/amazonei_pytorch_latest_p37/lib/python3.7/site-packages (from sagemaker) (4.11.4)\n",
      "Requirement already satisfied: jsonschema in /home/ec2-user/anaconda3/envs/amazonei_pytorch_latest_p37/lib/python3.7/site-packages (from sagemaker) (3.2.0)\n",
      "Requirement already satisfied: attrs<24,>=23.1.0 in /home/ec2-user/anaconda3/envs/amazonei_pytorch_latest_p37/lib/python3.7/site-packages (from sagemaker) (23.1.0)\n",
      "Requirement already satisfied: boto3<2.0,>=1.26.131 in /home/ec2-user/anaconda3/envs/amazonei_pytorch_latest_p37/lib/python3.7/site-packages (from sagemaker) (1.28.5)\n",
      "Requirement already satisfied: google-pasta in /home/ec2-user/anaconda3/envs/amazonei_pytorch_latest_p37/lib/python3.7/site-packages (from sagemaker) (0.2.0)\n",
      "Requirement already satisfied: smdebug-rulesconfig==1.0.1 in /home/ec2-user/anaconda3/envs/amazonei_pytorch_latest_p37/lib/python3.7/site-packages (from sagemaker) (1.0.1)\n",
      "Requirement already satisfied: schema in /home/ec2-user/anaconda3/envs/amazonei_pytorch_latest_p37/lib/python3.7/site-packages (from sagemaker) (0.7.5)\n",
      "Requirement already satisfied: botocore<1.32.0,>=1.31.5 in /home/ec2-user/anaconda3/envs/amazonei_pytorch_latest_p37/lib/python3.7/site-packages (from boto3<2.0,>=1.26.131->sagemaker) (1.31.5)\n",
      "Requirement already satisfied: s3transfer<0.7.0,>=0.6.0 in /home/ec2-user/anaconda3/envs/amazonei_pytorch_latest_p37/lib/python3.7/site-packages (from boto3<2.0,>=1.26.131->sagemaker) (0.6.0)\n",
      "Requirement already satisfied: jmespath<2.0.0,>=0.7.1 in /home/ec2-user/anaconda3/envs/amazonei_pytorch_latest_p37/lib/python3.7/site-packages (from boto3<2.0,>=1.26.131->sagemaker) (1.0.1)\n",
      "Requirement already satisfied: zipp>=0.5 in /home/ec2-user/anaconda3/envs/amazonei_pytorch_latest_p37/lib/python3.7/site-packages (from importlib-metadata<7.0,>=1.4.0->sagemaker) (3.11.0)\n",
      "Requirement already satisfied: typing-extensions>=3.6.4 in /home/ec2-user/anaconda3/envs/amazonei_pytorch_latest_p37/lib/python3.7/site-packages (from importlib-metadata<7.0,>=1.4.0->sagemaker) (4.7.1)\n",
      "Requirement already satisfied: pyparsing!=3.0.5,>=2.0.2 in /home/ec2-user/anaconda3/envs/amazonei_pytorch_latest_p37/lib/python3.7/site-packages (from packaging>=20.0->sagemaker) (3.0.9)\n",
      "Requirement already satisfied: six in /home/ec2-user/anaconda3/envs/amazonei_pytorch_latest_p37/lib/python3.7/site-packages (from google-pasta->sagemaker) (1.16.0)\n",
      "Requirement already satisfied: setuptools in /home/ec2-user/anaconda3/envs/amazonei_pytorch_latest_p37/lib/python3.7/site-packages (from jsonschema->sagemaker) (65.6.3)\n",
      "Requirement already satisfied: pyrsistent>=0.14.0 in /home/ec2-user/anaconda3/envs/amazonei_pytorch_latest_p37/lib/python3.7/site-packages (from jsonschema->sagemaker) (0.18.1)\n",
      "Requirement already satisfied: python-dateutil>=2.7.3 in /home/ec2-user/anaconda3/envs/amazonei_pytorch_latest_p37/lib/python3.7/site-packages (from pandas->sagemaker) (2.8.2)\n",
      "Requirement already satisfied: pytz>=2017.3 in /home/ec2-user/anaconda3/envs/amazonei_pytorch_latest_p37/lib/python3.7/site-packages (from pandas->sagemaker) (2022.7)\n",
      "Requirement already satisfied: dill>=0.3.6 in /home/ec2-user/anaconda3/envs/amazonei_pytorch_latest_p37/lib/python3.7/site-packages (from pathos->sagemaker) (0.3.6)\n",
      "Requirement already satisfied: ppft>=1.7.6.6 in /home/ec2-user/anaconda3/envs/amazonei_pytorch_latest_p37/lib/python3.7/site-packages (from pathos->sagemaker) (1.7.6.6)\n",
      "Requirement already satisfied: pox>=0.3.2 in /home/ec2-user/anaconda3/envs/amazonei_pytorch_latest_p37/lib/python3.7/site-packages (from pathos->sagemaker) (0.3.2)\n",
      "Requirement already satisfied: multiprocess>=0.70.14 in /home/ec2-user/anaconda3/envs/amazonei_pytorch_latest_p37/lib/python3.7/site-packages (from pathos->sagemaker) (0.70.14)\n",
      "Requirement already satisfied: contextlib2>=0.5.5 in /home/ec2-user/anaconda3/envs/amazonei_pytorch_latest_p37/lib/python3.7/site-packages (from schema->sagemaker) (21.6.0)\n",
      "Requirement already satisfied: urllib3<1.27,>=1.25.4 in /home/ec2-user/anaconda3/envs/amazonei_pytorch_latest_p37/lib/python3.7/site-packages (from botocore<1.32.0,>=1.31.5->boto3<2.0,>=1.26.131->sagemaker) (1.26.8)\n",
      "Looking in indexes: https://pypi.tuna.tsinghua.edu.cn/simple/, https://pip.repos.neuron.amazonaws.com\n",
      "Requirement already satisfied: sagemaker in /home/ec2-user/anaconda3/envs/amazonei_pytorch_latest_p37/lib/python3.7/site-packages (2.173.0)\n",
      "Requirement already satisfied: pathos in /home/ec2-user/anaconda3/envs/amazonei_pytorch_latest_p37/lib/python3.7/site-packages (from sagemaker) (0.3.0)\n",
      "Requirement already satisfied: packaging>=20.0 in /home/ec2-user/anaconda3/envs/amazonei_pytorch_latest_p37/lib/python3.7/site-packages (from sagemaker) (21.3)\n",
      "Requirement already satisfied: google-pasta in /home/ec2-user/anaconda3/envs/amazonei_pytorch_latest_p37/lib/python3.7/site-packages (from sagemaker) (0.2.0)\n",
      "Requirement already satisfied: protobuf<5.0,>=3.12 in /home/ec2-user/anaconda3/envs/amazonei_pytorch_latest_p37/lib/python3.7/site-packages (from sagemaker) (3.20.3)\n",
      "Requirement already satisfied: pandas in /home/ec2-user/anaconda3/envs/amazonei_pytorch_latest_p37/lib/python3.7/site-packages (from sagemaker) (1.3.5)\n",
      "Requirement already satisfied: tblib==1.7.0 in /home/ec2-user/anaconda3/envs/amazonei_pytorch_latest_p37/lib/python3.7/site-packages (from sagemaker) (1.7.0)\n",
      "Requirement already satisfied: PyYAML~=6.0 in /home/ec2-user/anaconda3/envs/amazonei_pytorch_latest_p37/lib/python3.7/site-packages (from sagemaker) (6.0.1)\n",
      "Requirement already satisfied: numpy<2.0,>=1.9.0 in /home/ec2-user/anaconda3/envs/amazonei_pytorch_latest_p37/lib/python3.7/site-packages (from sagemaker) (1.21.6)\n",
      "Requirement already satisfied: boto3<2.0,>=1.26.131 in /home/ec2-user/anaconda3/envs/amazonei_pytorch_latest_p37/lib/python3.7/site-packages (from sagemaker) (1.28.5)\n",
      "Requirement already satisfied: jsonschema in /home/ec2-user/anaconda3/envs/amazonei_pytorch_latest_p37/lib/python3.7/site-packages (from sagemaker) (3.2.0)\n",
      "Requirement already satisfied: platformdirs in /home/ec2-user/anaconda3/envs/amazonei_pytorch_latest_p37/lib/python3.7/site-packages (from sagemaker) (3.9.1)\n",
      "Requirement already satisfied: importlib-metadata<7.0,>=1.4.0 in /home/ec2-user/anaconda3/envs/amazonei_pytorch_latest_p37/lib/python3.7/site-packages (from sagemaker) (4.11.4)\n",
      "Requirement already satisfied: attrs<24,>=23.1.0 in /home/ec2-user/anaconda3/envs/amazonei_pytorch_latest_p37/lib/python3.7/site-packages (from sagemaker) (23.1.0)\n",
      "Requirement already satisfied: schema in /home/ec2-user/anaconda3/envs/amazonei_pytorch_latest_p37/lib/python3.7/site-packages (from sagemaker) (0.7.5)\n",
      "Requirement already satisfied: cloudpickle==2.2.1 in /home/ec2-user/anaconda3/envs/amazonei_pytorch_latest_p37/lib/python3.7/site-packages (from sagemaker) (2.2.1)\n",
      "Requirement already satisfied: smdebug-rulesconfig==1.0.1 in /home/ec2-user/anaconda3/envs/amazonei_pytorch_latest_p37/lib/python3.7/site-packages (from sagemaker) (1.0.1)\n",
      "Requirement already satisfied: s3transfer<0.7.0,>=0.6.0 in /home/ec2-user/anaconda3/envs/amazonei_pytorch_latest_p37/lib/python3.7/site-packages (from boto3<2.0,>=1.26.131->sagemaker) (0.6.0)\n",
      "Requirement already satisfied: jmespath<2.0.0,>=0.7.1 in /home/ec2-user/anaconda3/envs/amazonei_pytorch_latest_p37/lib/python3.7/site-packages (from boto3<2.0,>=1.26.131->sagemaker) (1.0.1)\n",
      "Requirement already satisfied: botocore<1.32.0,>=1.31.5 in /home/ec2-user/anaconda3/envs/amazonei_pytorch_latest_p37/lib/python3.7/site-packages (from boto3<2.0,>=1.26.131->sagemaker) (1.31.5)\n",
      "Requirement already satisfied: typing-extensions>=3.6.4 in /home/ec2-user/anaconda3/envs/amazonei_pytorch_latest_p37/lib/python3.7/site-packages (from importlib-metadata<7.0,>=1.4.0->sagemaker) (4.7.1)\n",
      "Requirement already satisfied: zipp>=0.5 in /home/ec2-user/anaconda3/envs/amazonei_pytorch_latest_p37/lib/python3.7/site-packages (from importlib-metadata<7.0,>=1.4.0->sagemaker) (3.11.0)\n",
      "Requirement already satisfied: pyparsing!=3.0.5,>=2.0.2 in /home/ec2-user/anaconda3/envs/amazonei_pytorch_latest_p37/lib/python3.7/site-packages (from packaging>=20.0->sagemaker) (3.0.9)\n",
      "Requirement already satisfied: six in /home/ec2-user/anaconda3/envs/amazonei_pytorch_latest_p37/lib/python3.7/site-packages (from google-pasta->sagemaker) (1.16.0)\n",
      "Requirement already satisfied: pyrsistent>=0.14.0 in /home/ec2-user/anaconda3/envs/amazonei_pytorch_latest_p37/lib/python3.7/site-packages (from jsonschema->sagemaker) (0.18.1)\n",
      "Requirement already satisfied: setuptools in /home/ec2-user/anaconda3/envs/amazonei_pytorch_latest_p37/lib/python3.7/site-packages (from jsonschema->sagemaker) (65.6.3)\n",
      "Requirement already satisfied: pytz>=2017.3 in /home/ec2-user/anaconda3/envs/amazonei_pytorch_latest_p37/lib/python3.7/site-packages (from pandas->sagemaker) (2022.7)\n",
      "Requirement already satisfied: python-dateutil>=2.7.3 in /home/ec2-user/anaconda3/envs/amazonei_pytorch_latest_p37/lib/python3.7/site-packages (from pandas->sagemaker) (2.8.2)\n",
      "Requirement already satisfied: ppft>=1.7.6.6 in /home/ec2-user/anaconda3/envs/amazonei_pytorch_latest_p37/lib/python3.7/site-packages (from pathos->sagemaker) (1.7.6.6)\n",
      "Requirement already satisfied: pox>=0.3.2 in /home/ec2-user/anaconda3/envs/amazonei_pytorch_latest_p37/lib/python3.7/site-packages (from pathos->sagemaker) (0.3.2)\n",
      "Requirement already satisfied: multiprocess>=0.70.14 in /home/ec2-user/anaconda3/envs/amazonei_pytorch_latest_p37/lib/python3.7/site-packages (from pathos->sagemaker) (0.70.14)\n",
      "Requirement already satisfied: dill>=0.3.6 in /home/ec2-user/anaconda3/envs/amazonei_pytorch_latest_p37/lib/python3.7/site-packages (from pathos->sagemaker) (0.3.6)\n",
      "Requirement already satisfied: contextlib2>=0.5.5 in /home/ec2-user/anaconda3/envs/amazonei_pytorch_latest_p37/lib/python3.7/site-packages (from schema->sagemaker) (21.6.0)\n",
      "Requirement already satisfied: urllib3<1.27,>=1.25.4 in /home/ec2-user/anaconda3/envs/amazonei_pytorch_latest_p37/lib/python3.7/site-packages (from botocore<1.32.0,>=1.31.5->boto3<2.0,>=1.26.131->sagemaker) (1.26.8)\n"
     ]
    }
   ],
   "source": [
    "!pip install huggingface-hub -Uqq -i https://pypi.tuna.tsinghua.edu.cn/simple/\n",
    "!pip install -U sagemaker -i https://pypi.tuna.tsinghua.edu.cn/simple/\n",
    "!pip install --upgrade sagemaker -i https://pypi.tuna.tsinghua.edu.cn/simple/"
   ]
  },
  {
   "cell_type": "code",
   "execution_count": 27,
   "id": "be112a00-cbef-4387-b0d7-80e5e7b7030d",
   "metadata": {
    "tags": []
   },
   "outputs": [],
   "source": [
    "from huggingface_hub import snapshot_download\n",
    "from pathlib import Path\n",
    "\n",
    "local_model_path = Path(\"./sentence2emb-model\")\n",
    "local_model_path.mkdir(exist_ok=True)\n",
    "model_name = \"sentence-transformers/paraphrase-multilingual-mpnet-base-v2\"\n",
    "commit_hash = \"ef15aed8b328d308d7237b9bf15269f2cd19e268\""
   ]
  },
  {
   "cell_type": "code",
   "execution_count": 28,
   "id": "902798dc-227b-4191-ade7-b736571543ac",
   "metadata": {
    "tags": []
   },
   "outputs": [
    {
     "data": {
      "application/vnd.jupyter.widget-view+json": {
       "model_id": "33b63da7bb504c88905afe4ceebcdc37",
       "version_major": 2,
       "version_minor": 0
      },
      "text/plain": [
       "Fetching 13 files:   0%|          | 0/13 [00:00<?, ?it/s]"
      ]
     },
     "metadata": {},
     "output_type": "display_data"
    }
   ],
   "source": [
    "#执行这段，因为网络原因，可能会多次失败，需要反复执行\n",
    "while True:\n",
    "    try:\n",
    "        snapshot_download(repo_id=model_name, revision=commit_hash, cache_dir=local_model_path)\n",
    "        break\n",
    "    except Exception:\n",
    "        pass"
   ]
  },
  {
   "cell_type": "markdown",
   "id": "a6b61ad8-a8c2-48c2-8539-e7c1e2afe773",
   "metadata": {},
   "source": [
    "### 2. 把模型拷贝到S3为后续部署做准备"
   ]
  },
  {
   "cell_type": "code",
   "execution_count": 49,
   "id": "5e1873f4-1bfe-4146-8297-584e9ad76fc9",
   "metadata": {
    "tags": []
   },
   "outputs": [],
   "source": [
    "import sagemaker\n",
    "from sagemaker import image_uris\n",
    "import boto3\n",
    "import os\n",
    "import time\n",
    "import json\n",
    "\n",
    "role = sagemaker.get_execution_role()  # execution role for the endpoint\n",
    "sess = sagemaker.session.Session()  # sagemaker session for interacting with different AWS APIs\n",
    "bucket = sess.default_bucket()  # bucket to house artifacts\n",
    "\n",
    "region = sess._region_name\n",
    "account_id = sess.account_id()\n",
    "\n",
    "s3_client = boto3.client(\"s3\")\n",
    "sm_client = boto3.client(\"sagemaker\")\n",
    "smr_client = boto3.client(\"sagemaker-runtime\")"
   ]
  },
  {
   "cell_type": "code",
   "execution_count": 50,
   "id": "68394e44-4d51-48ae-adc1-d02f520a5d4d",
   "metadata": {
    "tags": []
   },
   "outputs": [
    {
     "name": "stdout",
     "output_type": "stream",
     "text": [
      "s3_code_prefix: LLM-RAG/workshop/sentence2emb_deploy_code\n",
      "model_snapshot_path: sentence2emb-model/models--sentence-transformers--paraphrase-multilingual-mpnet-base-v2/snapshots/ef15aed8b328d308d7237b9bf15269f2cd19e268\n"
     ]
    }
   ],
   "source": [
    "s3_model_prefix = \"LLM-RAG/workshop/sentence2emb-model\"  # folder where model checkpoint will go\n",
    "model_snapshot_path = list(local_model_path.glob(\"**/snapshots/*\"))[0]\n",
    "s3_code_prefix = \"LLM-RAG/workshop/sentence2emb_deploy_code\"\n",
    "print(f\"s3_code_prefix: {s3_code_prefix}\")\n",
    "print(f\"model_snapshot_path: {model_snapshot_path}\")"
   ]
  },
  {
   "cell_type": "code",
   "execution_count": 52,
   "id": "0b9e177a-886d-4838-891e-2e612a3cbc9d",
   "metadata": {
    "tags": []
   },
   "outputs": [
    {
     "name": "stdout",
     "output_type": "stream",
     "text": [
      "upload: sentence2emb-model/models--sentence-transformers--paraphrase-multilingual-mpnet-base-v2/snapshots/ef15aed8b328d308d7237b9bf15269f2cd19e268/README.md to s3://sagemaker-cn-north-1-507392672631/LLM-RAG/workshop/sentence2emb-model/README.md\n",
      "upload: sentence2emb-model/models--sentence-transformers--paraphrase-multilingual-mpnet-base-v2/snapshots/ef15aed8b328d308d7237b9bf15269f2cd19e268/.gitattributes to s3://sagemaker-cn-north-1-507392672631/LLM-RAG/workshop/sentence2emb-model/.gitattributes\n",
      "upload: sentence2emb-model/models--sentence-transformers--paraphrase-multilingual-mpnet-base-v2/snapshots/ef15aed8b328d308d7237b9bf15269f2cd19e268/modules.json to s3://sagemaker-cn-north-1-507392672631/LLM-RAG/workshop/sentence2emb-model/modules.json\n",
      "upload: sentence2emb-model/models--sentence-transformers--paraphrase-multilingual-mpnet-base-v2/snapshots/ef15aed8b328d308d7237b9bf15269f2cd19e268/config_sentence_transformers.json to s3://sagemaker-cn-north-1-507392672631/LLM-RAG/workshop/sentence2emb-model/config_sentence_transformers.json\n",
      "upload: sentence2emb-model/models--sentence-transformers--paraphrase-multilingual-mpnet-base-v2/snapshots/ef15aed8b328d308d7237b9bf15269f2cd19e268/special_tokens_map.json to s3://sagemaker-cn-north-1-507392672631/LLM-RAG/workshop/sentence2emb-model/special_tokens_map.json\n",
      "upload: sentence2emb-model/models--sentence-transformers--paraphrase-multilingual-mpnet-base-v2/snapshots/ef15aed8b328d308d7237b9bf15269f2cd19e268/config.json to s3://sagemaker-cn-north-1-507392672631/LLM-RAG/workshop/sentence2emb-model/config.json\n",
      "upload: sentence2emb-model/models--sentence-transformers--paraphrase-multilingual-mpnet-base-v2/snapshots/ef15aed8b328d308d7237b9bf15269f2cd19e268/sentence_bert_config.json to s3://sagemaker-cn-north-1-507392672631/LLM-RAG/workshop/sentence2emb-model/sentence_bert_config.json\n",
      "upload: sentence2emb-model/models--sentence-transformers--paraphrase-multilingual-mpnet-base-v2/snapshots/ef15aed8b328d308d7237b9bf15269f2cd19e268/1_Pooling/config.json to s3://sagemaker-cn-north-1-507392672631/LLM-RAG/workshop/sentence2emb-model/1_Pooling/config.json\n",
      "upload: sentence2emb-model/models--sentence-transformers--paraphrase-multilingual-mpnet-base-v2/snapshots/ef15aed8b328d308d7237b9bf15269f2cd19e268/sentencepiece.bpe.model to s3://sagemaker-cn-north-1-507392672631/LLM-RAG/workshop/sentence2emb-model/sentencepiece.bpe.model\n",
      "upload: sentence2emb-model/models--sentence-transformers--paraphrase-multilingual-mpnet-base-v2/snapshots/ef15aed8b328d308d7237b9bf15269f2cd19e268/tokenizer_config.json to s3://sagemaker-cn-north-1-507392672631/LLM-RAG/workshop/sentence2emb-model/tokenizer_config.json\n",
      "upload: sentence2emb-model/models--sentence-transformers--paraphrase-multilingual-mpnet-base-v2/snapshots/ef15aed8b328d308d7237b9bf15269f2cd19e268/tokenizer.json to s3://sagemaker-cn-north-1-507392672631/LLM-RAG/workshop/sentence2emb-model/tokenizer.json\n",
      "upload: sentence2emb-model/models--sentence-transformers--paraphrase-multilingual-mpnet-base-v2/snapshots/ef15aed8b328d308d7237b9bf15269f2cd19e268/pytorch_model.bin to s3://sagemaker-cn-north-1-507392672631/LLM-RAG/workshop/sentence2emb-model/pytorch_model.bin\n",
      "upload: sentence2emb-model/models--sentence-transformers--paraphrase-multilingual-mpnet-base-v2/snapshots/ef15aed8b328d308d7237b9bf15269f2cd19e268/tf_model.h5 to s3://sagemaker-cn-north-1-507392672631/LLM-RAG/workshop/sentence2emb-model/tf_model.h5\n"
     ]
    }
   ],
   "source": [
    "#上传模型至S3\n",
    "!aws s3 cp --recursive {model_snapshot_path} s3://{bucket}/{s3_model_prefix}"
   ]
  },
  {
   "cell_type": "markdown",
   "id": "59f35a6f-5988-42ec-87b0-de36eaebe41b",
   "metadata": {
    "tags": []
   },
   "source": [
    "### 3. 模型部署准备（entrypoint脚本，容器镜像，服务配置）"
   ]
  },
  {
   "cell_type": "code",
   "execution_count": 53,
   "id": "86daea77-a7ae-46b8-8800-212d07ce5605",
   "metadata": {
    "tags": []
   },
   "outputs": [
    {
     "name": "stdout",
     "output_type": "stream",
     "text": [
      "Image going to be used is ---- > 727897471807.dkr.ecr.cn-north-1.amazonaws.com.cn/djl-inference:0.21.0-deepspeed0.8.3-cu117\n"
     ]
    }
   ],
   "source": [
    "#适用于global\n",
    "#inference_image_uri = (\n",
    "#    f\"763104351884.dkr.ecr.{region}.amazonaws.com/djl-inference:0.21.0-deepspeed0.8.3-cu117\"\n",
    "#)\n",
    "\n",
    "#中国区需要替换为下面的image_uri\n",
    "inference_image_uri = (\n",
    "     f\"727897471807.dkr.ecr.{region}.amazonaws.com.cn/djl-inference:0.21.0-deepspeed0.8.3-cu117\"\n",
    ")\n",
    "\n",
    "print(f\"Image going to be used is ---- > {inference_image_uri}\")"
   ]
  },
  {
   "cell_type": "code",
   "execution_count": 12,
   "id": "49435172-e6c5-492a-8dcb-43e3fffb0f5c",
   "metadata": {
    "tags": []
   },
   "outputs": [],
   "source": [
    "!mkdir -p sentence2emb_deploy_code"
   ]
  },
  {
   "cell_type": "code",
   "execution_count": 73,
   "id": "70990dd3-431e-4dd0-a494-d26ceb454945",
   "metadata": {
    "tags": []
   },
   "outputs": [
    {
     "name": "stdout",
     "output_type": "stream",
     "text": [
      "Overwriting sentence2emb_deploy_code/model.py\n"
     ]
    }
   ],
   "source": [
    "%%writefile sentence2emb_deploy_code/model.py\n",
    "from djl_python import Input, Output\n",
    "import torch\n",
    "import logging\n",
    "import math\n",
    "import os\n",
    "from transformers import pipeline, AutoModelForCausalLM, AutoTokenizer, AutoModel\n",
    "\n",
    "device = torch.device('cuda:0' if torch.cuda.is_available() else 'cpu')\n",
    "print(f'--device={device}')\n",
    "\n",
    "\n",
    "def load_model(properties):\n",
    "    tensor_parallel = properties[\"tensor_parallel_degree\"]\n",
    "    model_location = properties['model_dir']\n",
    "    if \"model_id\" in properties:\n",
    "        model_location = properties['model_id']\n",
    "    logging.info(f\"Loading model in {model_location}\")\n",
    "    \n",
    "    tokenizer = AutoTokenizer.from_pretrained(model_location)\n",
    "   \n",
    "    model = AutoModel.from_pretrained(\n",
    "        model_location, \n",
    "        # device_map=\"balanced_low_0\", \n",
    "        #load_in_8bit=True\n",
    "    )\n",
    "    # load the model on GPU\n",
    "    model.to(device) \n",
    "    model.requires_grad_(False)\n",
    "    model.eval()\n",
    "    \n",
    "    return model, tokenizer\n",
    "\n",
    "\n",
    "model = None\n",
    "tokenizer = None\n",
    "generator = None\n",
    "\n",
    "def mean_pooling(model_output, attention_mask):\n",
    "    token_embeddings = model_output[0].to(device) #First element of model_output contains all token embeddings\n",
    "    input_mask_expanded = attention_mask.unsqueeze(-1).expand(token_embeddings.size()).float().to(device)\n",
    "    return torch.sum(token_embeddings * input_mask_expanded, 1) / torch.clamp(input_mask_expanded.sum(1), min=1e-9)\n",
    "\n",
    "\n",
    "def handle(inputs: Input):\n",
    "    global model, tokenizer\n",
    "    if not model:\n",
    "        model, tokenizer = load_model(inputs.get_properties())\n",
    "\n",
    "    if inputs.is_empty():\n",
    "        return None\n",
    "    data = inputs.get_as_json()\n",
    "    \n",
    "    input_sentences = data[\"inputs\"]\n",
    "    #params = data[\"parameters\"]\n",
    "    logging.info(f\"inputs: {input_sentences}\")\n",
    "    #logging.info(f\"parameters: {params}\")\n",
    "    \n",
    "    encoded_input = tokenizer(input_sentences, padding=True, truncation=True, max_length=128, return_tensors='pt').to(device)\n",
    "    # Compute token embeddings\n",
    "    with torch.no_grad():\n",
    "        model_output = model(**encoded_input)\n",
    "\n",
    "    # Perform pooling. In this case, max pooling.\n",
    "    sentence_embeddings = mean_pooling(model_output, encoded_input['attention_mask']).to(device).cpu().numpy()\n",
    "\n",
    "#     # preprocess\n",
    "#     input_ids = tokenizer(input_sentences, return_tensors=\"pt\").input_ids\n",
    "#     # pass inputs with all kwargs in data\n",
    "#     if params is not None:\n",
    "#         outputs = model.generate(input_ids, **params)\n",
    "#     else:\n",
    "#         outputs = model.generate(input_ids)\n",
    "\n",
    "#     # postprocess the prediction\n",
    "#     prediction = tokenizer.decode(outputs[0], skip_special_tokens=True)\n",
    "    \n",
    "    result = {\"sentence_embeddings\": sentence_embeddings}\n",
    "    return Output().add_as_json(result)"
   ]
  },
  {
   "cell_type": "code",
   "execution_count": 55,
   "id": "e01a0f2a-a8d6-4134-a727-c5c0f1ad092b",
   "metadata": {
    "tags": []
   },
   "outputs": [
    {
     "name": "stdout",
     "output_type": "stream",
     "text": [
      "option.s3url ==> s3://sagemaker-cn-north-1-507392672631/LLM-RAG/workshop/sentence2emb-model/\n"
     ]
    }
   ],
   "source": [
    "print(f\"option.s3url ==> s3://{bucket}/{s3_model_prefix}/\")\n",
    "\n",
    "#使用打印出来的URL，替换下面一段代码中的S3Url"
   ]
  },
  {
   "cell_type": "markdown",
   "id": "a1e1ecec-79cf-4ed4-bba1-95e2fe79daea",
   "metadata": {},
   "source": [
    "#### Note: option.s3url 需要按照自己的账号进行修改, 可以拷贝上一个cell的输出"
   ]
  },
  {
   "cell_type": "code",
   "execution_count": 74,
   "id": "ab5ee385-5c6c-493c-bd40-9b57ae0c8e1d",
   "metadata": {
    "tags": []
   },
   "outputs": [
    {
     "name": "stdout",
     "output_type": "stream",
     "text": [
      "Overwriting sentence2emb_deploy_code/serving.properties\n"
     ]
    }
   ],
   "source": [
    "%%writefile sentence2emb_deploy_code/serving.properties\n",
    "engine=Python\n",
    "option.tensor_parallel_degree=1\n",
    "option.s3url = s3://sagemaker-cn-north-1-507392672631/LLM-RAG/workshop/sentence2emb-model/"
   ]
  },
  {
   "cell_type": "code",
   "execution_count": 75,
   "id": "ffe41472-c2cf-4bb5-99aa-84df76c629b3",
   "metadata": {
    "tags": []
   },
   "outputs": [
    {
     "name": "stdout",
     "output_type": "stream",
     "text": [
      "sentence2emb_deploy_code/\n",
      "sentence2emb_deploy_code/serving.properties\n",
      "sentence2emb_deploy_code/model.py\n"
     ]
    }
   ],
   "source": [
    "!rm s2e_model.tar.gz\n",
    "!cd sentence2emb_deploy_code && rm -rf \".ipynb_checkpoints\"\n",
    "!tar czvf s2e_model.tar.gz sentence2emb_deploy_code"
   ]
  },
  {
   "cell_type": "code",
   "execution_count": 76,
   "id": "1fabd7ce-b855-4569-857c-ad872662800b",
   "metadata": {
    "tags": []
   },
   "outputs": [
    {
     "name": "stdout",
     "output_type": "stream",
     "text": [
      "S3 Code or Model tar ball uploaded to --- > s3://sagemaker-cn-north-1-507392672631/LLM-RAG/workshop/sentence2emb_deploy_code/s2e_model.tar.gz\n"
     ]
    }
   ],
   "source": [
    "s3_code_artifact = sess.upload_data(\"s2e_model.tar.gz\", bucket, s3_code_prefix)\n",
    "print(f\"S3 Code or Model tar ball uploaded to --- > {s3_code_artifact}\")"
   ]
  },
  {
   "cell_type": "markdown",
   "id": "18fb01ed-6bd3-4880-a647-cfd71e692820",
   "metadata": {
    "tags": []
   },
   "source": [
    "### 4. 创建模型 & 创建endpoint"
   ]
  },
  {
   "cell_type": "code",
   "execution_count": 77,
   "id": "e6209d24-8473-4256-93d3-02e4e144386b",
   "metadata": {
    "tags": []
   },
   "outputs": [
    {
     "name": "stdout",
     "output_type": "stream",
     "text": [
      "huggingface-inference-eb\n",
      "Image going to be used is ---- > 727897471807.dkr.ecr.cn-north-1.amazonaws.com.cn/djl-inference:0.21.0-deepspeed0.8.3-cu117\n",
      "Created Model: arn:aws-cn:sagemaker:cn-north-1:507392672631:model/huggingface-inference-eb\n"
     ]
    }
   ],
   "source": [
    "from sagemaker.utils import name_from_base\n",
    "import boto3\n",
    "\n",
    "model_name ='huggingface-inference-eb' # name_from_base(\"st-paraphrase-mpnet-base-v2\") Note: Need to specify model_name\n",
    "print(model_name)\n",
    "print(f\"Image going to be used is ---- > {inference_image_uri}\")\n",
    "\n",
    "create_model_response = sm_client.create_model(\n",
    "    ModelName=model_name,\n",
    "    ExecutionRoleArn=role,\n",
    "    PrimaryContainer={\n",
    "        \"Image\": inference_image_uri,\n",
    "        \"ModelDataUrl\": s3_code_artifact\n",
    "    },\n",
    "    \n",
    ")\n",
    "model_arn = create_model_response[\"ModelArn\"]\n",
    "\n",
    "print(f\"Created Model: {model_arn}\")"
   ]
  },
  {
   "cell_type": "code",
   "execution_count": 78,
   "id": "686abae8-5db7-4ebd-9fbf-5bd54f36c0ab",
   "metadata": {
    "tags": []
   },
   "outputs": [
    {
     "data": {
      "text/plain": [
       "{'EndpointConfigArn': 'arn:aws-cn:sagemaker:cn-north-1:507392672631:endpoint-config/huggingface-inference-eb',\n",
       " 'ResponseMetadata': {'RequestId': '5ea62cd9-f9eb-4c7a-81c5-44ffdb0a2469',\n",
       "  'HTTPStatusCode': 200,\n",
       "  'HTTPHeaders': {'x-amzn-requestid': '5ea62cd9-f9eb-4c7a-81c5-44ffdb0a2469',\n",
       "   'content-type': 'application/x-amz-json-1.1',\n",
       "   'content-length': '109',\n",
       "   'date': 'Thu, 20 Jul 2023 05:06:06 GMT'},\n",
       "  'RetryAttempts': 0}}"
      ]
     },
     "execution_count": 78,
     "metadata": {},
     "output_type": "execute_result"
    }
   ],
   "source": [
    "endpoint_config_name =model_name  # f\"{model_name}-config\"\n",
    "endpoint_name = model_name # f\"{model_name}-endpoint\"\n",
    "\n",
    "endpoint_config_response = sm_client.create_endpoint_config(\n",
    "    EndpointConfigName=endpoint_config_name,\n",
    "    ProductionVariants=[\n",
    "        {\n",
    "            \"VariantName\": \"variant1\",\n",
    "            \"ModelName\": model_name,\n",
    "            \"InstanceType\": \"ml.g4dn.2xlarge\",\n",
    "            \"InitialInstanceCount\": 1,\n",
    "            # \"VolumeSizeInGB\" : 400,\n",
    "            # \"ModelDataDownloadTimeoutInSeconds\": 2400,\n",
    "            #\"ContainerStartupHealthCheckTimeoutInSeconds\": 15*60,\n",
    "        },\n",
    "    ],\n",
    ")\n",
    "endpoint_config_response"
   ]
  },
  {
   "cell_type": "code",
   "execution_count": 79,
   "id": "f4c1df06-ae4a-42e2-9695-da0afa9ad734",
   "metadata": {
    "tags": []
   },
   "outputs": [
    {
     "name": "stdout",
     "output_type": "stream",
     "text": [
      "Created Endpoint: arn:aws-cn:sagemaker:cn-north-1:507392672631:endpoint/huggingface-inference-eb\n"
     ]
    }
   ],
   "source": [
    "create_endpoint_response = sm_client.create_endpoint(\n",
    "    EndpointName=f\"{endpoint_name}\", EndpointConfigName=endpoint_config_name\n",
    ")\n",
    "print(f\"Created Endpoint: {create_endpoint_response['EndpointArn']}\")"
   ]
  },
  {
   "cell_type": "code",
   "execution_count": 80,
   "id": "d9c71240-6878-4fed-bf7d-2c1cf75f4ac5",
   "metadata": {
    "tags": []
   },
   "outputs": [
    {
     "name": "stdout",
     "output_type": "stream",
     "text": [
      "Status: Creating\n",
      "Status: Creating\n",
      "Status: Creating\n",
      "Status: Creating\n",
      "Status: Creating\n",
      "Status: Creating\n",
      "Status: Creating\n",
      "Status: Creating\n",
      "Status: InService\n",
      "Arn: arn:aws-cn:sagemaker:cn-north-1:507392672631:endpoint/huggingface-inference-eb\n",
      "Status: InService\n"
     ]
    }
   ],
   "source": [
    "import time\n",
    "\n",
    "resp = sm_client.describe_endpoint(EndpointName=endpoint_name)\n",
    "status = resp[\"EndpointStatus\"]\n",
    "print(\"Status: \" + status)\n",
    "\n",
    "while status == \"Creating\":\n",
    "    time.sleep(60)\n",
    "    resp = sm_client.describe_endpoint(EndpointName=endpoint_name)\n",
    "    status = resp[\"EndpointStatus\"]\n",
    "    print(\"Status: \" + status)\n",
    "\n",
    "print(\"Arn: \" + resp[\"EndpointArn\"])\n",
    "print(\"Status: \" + status)"
   ]
  },
  {
   "cell_type": "markdown",
   "id": "dddba20e-fc18-480d-9940-ae39695ac450",
   "metadata": {},
   "source": [
    "### 5. 模型测试"
   ]
  },
  {
   "cell_type": "code",
   "execution_count": 85,
   "id": "1f28db25-6996-440c-b004-14f96cfd982d",
   "metadata": {
    "tags": []
   },
   "outputs": [
    {
     "name": "stdout",
     "output_type": "stream",
     "text": [
      "0.0676882266998291\n",
      "{'sentence_embeddings': [[-0.013831233605742455, -0.01270130556076765, -0.014087721705436707, 0.08026622235774994, 0.16525626182556152, 0.006540448404848576, -0.06130183860659599, 0.028956318274140358, 0.14638309180736542, 0.00560351088643074, 0.02524050697684288, -0.05012410134077072, -0.05577776953577995, -0.01011229120194912, 0.1492469310760498, -0.24108067154884338, 0.07875359803438187, 0.035032790154218674, -0.08368547260761261, -0.04624566435813904, 0.03269391879439354, -0.06078342720866203, 0.04449882358312607, -0.10587877035140991, -0.0344894714653492, 0.08417661488056183, -0.09343163669109344, 0.12138233333826065, 0.15460333228111267, 0.11100795120000839, 0.1600692868232727, -0.035302069038152695, 0.04129745811223984, 0.012123321183025837, 0.14945082366466522, -0.02292388118803501, 0.07285543531179428, 0.009303481318056583, -0.14735136926174164, -0.053448520600795746, 0.1369955837726593, -0.07428322732448578, -0.14402566850185394, 0.06494677811861038, -0.18447831273078918, -0.11276058852672577, 0.032611507922410965, -0.09896872937679291, 0.004495512694120407, 0.04907833784818649, 0.07387131452560425, 0.23591701686382294, 0.02795921266078949, 0.04076361656188965, 0.26642364263534546, -0.021716594696044922, 0.021803803741931915, -0.05285682529211044, 0.10829930007457733, -0.03785841166973114, 0.12252048403024673, -0.05543433874845505, -0.009822485037147999, -0.16078977286815643, -0.1356397122144699, 0.08008813858032227, 0.3100467026233673, 0.023715579882264137, -0.08503813296556473, 0.024082686752080917, 0.17039477825164795, 0.12590734660625458, -0.0806654840707779, 0.23823252320289612, 0.09183816611766815, -0.05696706846356392, 0.05753619596362114, -0.11342592537403107, 0.011832017451524734, -0.05588305741548538, -0.0825701430439949, -0.10330207645893097, -0.04562642425298691, 0.07469677925109863, -0.12242601066827774, 0.11994971334934235, -0.02565351501107216, -0.06227397918701172, -0.1928553283214569, 0.007268683519214392, -0.03269706293940544, 0.0949004739522934, -0.03525262698531151, 0.018278440460562706, 0.06995729357004166, -0.04459288716316223, 0.05361440032720566, 0.08177922666072845, 0.025782424956560135, 0.04738699644804001, 0.12706659734249115, 0.1116744726896286, -0.03249995410442352, -0.030003929510712624, 0.09009085595607758, -0.1802450716495514, 0.1376170665025711, -0.27806398272514343, -0.025711294263601303, -0.16447123885154724, 0.00013306643813848495, -0.011696629226207733, 0.07695180177688599, 0.13295605778694153, -0.01623282954096794, -0.07070142775774002, 0.0913911908864975, 0.014697489328682423, 0.19252324104309082, -0.03145929425954819, 0.1920604109764099, -0.10176113992929459, -0.008567840792238712, 0.08882973343133926, -0.06342640519142151, 0.08233941346406937, -0.19952726364135742, -0.003720685141161084, -0.10811654478311539, -0.14461317658424377, -0.06774546205997467, -0.08042417466640472, 0.05210961028933525, 0.04158991947770119, 0.1427101194858551, -0.22595003247261047, -0.13481006026268005, -0.07857472449541092, 0.16931845247745514, -0.0008984385058283806, 0.003105734009295702, 0.033317871391773224, -0.03933698683977127, 0.0543162003159523, 0.04525018483400345, -0.09521161019802094, -0.02161036804318428, -0.04528922587633133, 0.021422218531370163, 0.01360960304737091, 0.20352880656719208, 0.061726223677396774, -0.2762841582298279, 0.09064184129238129, 0.10978527367115021, -0.023222198709845543, 0.1150059700012207, -0.19596736133098602, -0.09084460884332657, -0.09462408721446991, 0.07341305166482925, 0.059101562947034836, -0.0010092739248648286, 0.08578749001026154, 0.13135382533073425, -0.06515250355005264, 0.06357171386480331, -0.2051634043455124, -0.015534934587776661, -0.11372047662734985, -0.08416315168142319, -0.00032668333733454347, 0.044738657772541046, -0.05349574238061905, 0.09709630906581879, -0.09019245207309723, -0.15145552158355713, -0.03615202754735947, -0.03459613025188446, -0.0946836993098259, -0.15418727695941925, -0.12860055267810822, -0.03175922483205795, 0.05271134898066521, -0.05611046403646469, 0.029347190633416176, 0.02857246622443199, 0.009560288861393929, -0.020556511357426643, 0.04571741819381714, 0.04761692136526108, 0.014648105017840862, -0.16826124489307404, 0.14104433357715607, -0.03913992643356323, -0.0864303857088089, 0.08240729570388794, -0.06722050160169601, 0.09939368814229965, -0.010037669911980629, -0.05153476074337959, -0.14643342792987823, 0.09811459481716156, 0.1744692027568817, -0.052231937646865845, 0.197977215051651, 0.1508311629295349, 0.017696933820843697, 0.11421243101358414, 0.1162223368883133, 0.3027198612689972, 0.07527226209640503, 0.08154533058404922, 0.09661801904439926, 0.08045662939548492, 0.1262429654598236, 0.08660704642534256, 0.17569652199745178, 0.07154516130685806, 0.23330946266651154, -0.08204227685928345, 0.18877246975898743, 0.04497087746858597, -0.07400103658437729, -0.03471141308546066, 0.08949943631887436, 0.14350906014442444, 0.0033873715437948704, -0.05873415619134903, 0.011761194095015526, 0.0341142974793911, 0.015892131254076958, 0.11910521984100342, 0.049543529748916626, -0.08763200789690018, 0.13013209402561188, 0.014643935486674309, -0.22087374329566956, 0.2349834442138672, -0.22997812926769257, -0.05670856684446335, 0.07650123536586761, 0.015786439180374146, 0.04222416877746582, 0.20446228981018066, -0.04551885277032852, -0.06539647281169891, -0.04770595580339432, 0.07325133681297302, 0.08874814212322235, 0.052798617631196976, 0.06189576908946037, -0.17310161888599396, -0.0372815802693367, 0.015277196653187275, -0.09616077691316605, -0.016143083572387695, -0.09482870250940323, 0.029428234323859215, -0.03851491957902908, -0.07532770186662674, -0.03794466704130173, 0.032207291573286057, -0.10782456398010254, 0.034116826951503754, 0.079678013920784, 0.16919364035129547, -0.20489029586315155, -0.14470228552818298, -0.01824735850095749, 0.04023810848593712, -0.015400643460452557, 0.06902115046977997, -0.013556132093071938, 0.10382971912622452, -0.040961530059576035, 0.05732687562704086, -0.0747707337141037, -0.09721272438764572, 0.11771725118160248, 0.022635478526353836, 0.05946286395192146, -0.1461978554725647, -0.022041020914912224, -0.049899034202098846, -0.010651139542460442, 0.10002022981643677, -0.1715361624956131, 0.11581920087337494, -0.26439204812049866, 0.12450255453586578, 0.04503687471151352, 0.04901906102895737, -0.03951653093099594, 0.06329723447561264, -0.024439435452222824, -0.04045768454670906, 0.1381365954875946, -0.01661987602710724, -0.029619216918945312, 0.06111367419362068, 0.03466939926147461, 0.04067004844546318, 0.046018779277801514, 0.004718166310340166, -0.05505061149597168, 0.11008460819721222, -0.08332987129688263, 0.03580296039581299, 0.020909052342176437, -0.02113434299826622, -0.006542383227497339, -0.04794961214065552, 0.10277954488992691, 0.028761884197592735, 0.07949291169643402, -0.06595424562692642, -0.06393890082836151, 0.01676732301712036, 0.018565086647868156, -0.03827904537320137, -0.0006896473933011293, 0.13979648053646088, 0.08164243400096893, -0.15529969334602356, -0.015422632917761803, 0.06305394321680069, 0.061754584312438965, 0.08148489892482758, -0.07342176139354706, 0.06374195218086243, 0.10593245923519135, -0.023912373930215836, 0.019359499216079712, -0.23842516541481018, -0.0810219869017601, 0.0211445651948452, -0.09538748115301132, -0.11106352508068085, 0.09953699260950089, -0.0825241357088089, -0.1844935119152069, 0.03137720376253128, -0.08224128186702728, -0.2898367941379547, 0.1212478056550026, -0.08289972692728043, -0.05037815496325493, -0.2098647654056549, -0.006199306808412075, -0.17130360007286072, 0.06959684193134308, 0.03164929896593094, -0.12817493081092834, -0.0020970935001969337, -0.029533084481954575, -0.16380321979522705, 0.26497915387153625, 0.03812743350863457, -0.03497302159667015, -0.0935027152299881, -0.10439388453960419, 0.006964307278394699, 0.1335756480693817, 0.17144927382469177, 0.0705433264374733, 0.022419005632400513, 0.016138972714543343, 0.018159087747335434, 0.05023731663823128, -0.06553871184587479, 0.07958348095417023, -0.028423886746168137, 0.019665759056806564, 0.09245738387107849, -0.11595330387353897, -0.02956751547753811, -0.08603154122829437, 0.056712888181209564, -0.025298932567238808, -0.08926756680011749, -0.013549482449889183, 0.1684185415506363, 0.04776812344789505, -0.037087392061948776, 0.14201751351356506, -0.031990163028240204, 0.020955868065357208, 0.02029549516737461, -0.03875928372144699, -0.015301013365387917, -0.251421183347702, -0.03826501965522766, 0.08704600483179092, 0.04954987019300461, 0.11212331056594849, 0.04420221969485283, 0.14546352624893188, -0.09634028375148773, 0.027532164007425308, -0.10404445230960846, 0.39219021797180176, -0.12920840084552765, 0.0796097069978714, -0.00011570099741220474, 0.059657253324985504, 0.2969586253166199, 0.07172845304012299, 0.09237360954284668, -0.001802569953724742, -0.26549679040908813, -0.005798214115202427, 0.20990486443042755, 0.0983823910355568, -0.15553849935531616, -0.17287734150886536, 0.046310458332300186, -0.13003888726234436, -0.018665459007024765, -0.19498808681964874, 0.02562038041651249, 0.09307113289833069, -0.061305515468120575, 0.09580603986978531, 0.00041194166988134384, -0.038392551243305206, 0.14443962275981903, 0.1555582880973816, -0.024403933435678482, -0.06144731491804123, 0.013945972546935081, 0.04110551252961159, 0.19439348578453064, 0.18404588103294373, -0.06594542413949966, -0.06353559345006943, 0.06112086772918701, 0.01527724601328373, -0.10334239155054092, -0.08528364449739456, -0.043456412851810455, 0.004628440365195274, 0.13795070350170135, -0.026579637080430984, -0.02344893105328083, 0.2234238088130951, -0.08072995394468307, -0.05582672357559204, 0.09094932675361633, -0.1360582858324051, 0.08365671336650848, -0.14232707023620605, -0.09342751652002335, -0.027813594788312912, 0.030194291844964027, -0.041759341955184937, -0.0785764828324318, 0.2032618224620819, 0.016819825395941734, -0.1222698912024498, 0.09429188072681427, 0.23310473561286926, -0.010307341814041138, 0.059081535786390305, -0.056947123259305954, -0.1804371327161789, 0.026521217077970505, -0.03194095939397812, 0.17777377367019653, -0.07392440736293793, -0.17543716728687286, 0.034925587475299835, 0.0029336395673453808, 0.10669151693582535, -0.08830145001411438, 0.0757242813706398, -0.1781170666217804, -0.17362461984157562, -0.19685372710227966, -0.041216541081666946, -0.0042248195968568325, -0.0925317257642746, 0.0035666250623762608, -0.017365265637636185, 0.0036103595048189163, -0.05612560361623764, 0.14939752221107483, -0.023594364523887634, -0.02812730334699154, -0.0255013145506382, -0.0783863291144371, -0.0707578957080841, -0.007958400063216686, -0.0067173452116549015, -0.20189233124256134, 0.22808019816875458, -0.02106483466923237, -0.1456417292356491, -0.2634771764278412, -0.041553206741809845, -0.0026671052910387516, -0.028779789805412292, 0.03865262120962143, -0.04708698391914368, 0.11641494929790497, -0.049205418676137924, -0.011305863969027996, -0.012363869696855545, 0.02537352778017521, -0.032451264560222626, 0.0049211434088647366, 0.07539965957403183, 0.003529426408931613, -0.189705953001976, 0.042188506573438644, 0.10641950368881226, 0.05152755230665207, 0.1979135274887085, 0.06175351142883301, -0.012642987072467804, 0.032168105244636536, 0.016104836016893387, -0.06369777768850327, 0.1045437827706337, -0.13518290221691132, 0.23360605537891388, -0.008222962729632854, -0.012404704466462135, 0.05984244868159294, 0.08005746454000473, -0.3997909426689148, -0.03189156576991081, 0.13438470661640167, 0.15940338373184204, -0.09198089689016342, 0.06357330083847046, 0.016971390694379807, 0.15876176953315735, -0.06428831070661545, 0.0814327746629715, -0.0009757961961440742, 0.06745986640453339, 0.07950111478567123, -0.046975113451480865, 0.12193387746810913, 0.16174569725990295, 0.09263105690479279, 0.04853501915931702, -0.04688050225377083, -0.12377718836069107, 0.02524891123175621, 0.05378326028585434, -0.13811099529266357, 0.016551820561289787, -0.018696490675210953, -0.14582325518131256, -0.13830699026584625, -0.072026327252388, -0.12441140413284302, -0.012983664870262146, -0.09872501343488693, -0.16853173077106476, -0.10753928124904633, 0.16094954311847687, -0.041962020099163055, 0.01687757670879364, -0.1600792407989502, 0.14179235696792603, 0.09806667268276215, 0.05742868781089783, -0.06658510118722916, -0.04206599295139313, 0.140939861536026, 0.14068284630775452, 0.02434445358812809, 0.0644436627626419, -0.023769443854689598, 0.0054345265962183475, -0.04764549806714058, -0.09835183620452881, 0.09425877034664154, -0.022738127037882805, 0.0010674918303266168, 0.029857400804758072, 0.01417986024171114, 0.05736831948161125, -0.1421012580394745, 0.14586241543293, 0.0062332539819180965, 0.1955917328596115, -0.018431562930345535, 0.22843918204307556, 0.17070265114307404, -0.08622417598962784, 0.022677641361951828, -0.07070448994636536, 0.12224535644054413, 0.0491093173623085, 0.06321840733289719, -0.026666009798645973, 0.02328253909945488, -0.024373451247811317, 0.007610308937728405, -0.0009269233560189605, -0.05454111844301224, -0.03249013423919678, -0.17883513867855072, 0.014453539624810219, 0.02591537870466709, -0.25210341811180115, -0.04937548562884331, -0.041111379861831665, 0.14804747700691223, -0.1241304874420166, 0.12445322424173355, -0.06873296201229095, 0.11145661771297455, -0.060550861060619354, -0.11004810035228729, -0.040337007492780685, 0.007166246417909861, -0.15335507690906525, 0.0032494203187525272, 0.048696599900722504, -0.007118219044059515, 0.0739547610282898, 0.08808104693889618, 0.14197348058223724, 0.03574051707983017, 0.10725073516368866, -0.21003083884716034, 0.10875014215707779, -0.04578229784965515, -0.004633593373000622, 0.15024682879447937, 0.022887954488396645, 0.022412845864892006, -0.06631097197532654, -0.09118111431598663, 0.077305868268013, -0.14206676185131073, 0.20385074615478516, -0.05719328671693802, -0.0713828057050705, -0.003984050825238228, 0.029715484008193016, -0.17724080383777618, -0.233566552400589, 0.02382899448275566, -0.09213567525148392, -0.08688252419233322, 0.04529446363449097, 0.0611041858792305, -0.06085972115397453, 0.04579847306013107, -0.03393169119954109, -0.007285235915333033, -0.05482972785830498, -0.19917453825473785, 0.02036697044968605, -0.05466988682746887, 0.09525930881500244, -0.08845901489257812, 0.022627171128988266, -0.07067090272903442, 0.028045129030942917, -0.03376869112253189, 0.09688937664031982, 0.08633731305599213, 0.003081592731177807, -0.04075624793767929, -0.011611634865403175, -0.01696963794529438, 0.17078860104084015, -0.05377863720059395, 0.06768734753131866, -0.03390750288963318, 0.03179732337594032, -0.123382069170475, 0.023509003221988678, -0.27918463945388794, 0.1321285367012024, -0.07627347856760025, -0.059650957584381104, 0.12217091023921967, 0.06150975078344345, -0.01973736844956875, -0.07949350774288177, 0.04248996078968048, -0.027675142511725426, -0.05527258664369583, 0.11294521391391754, 0.13729722797870636, 0.010637467727065086, -0.001502343569882214, 0.005101078189909458, 0.1107049435377121, 0.07648913562297821, 0.055897749960422516, -0.06634341180324554, -0.033423371613025665, -0.0028401378076523542, -0.0076882364228367805, -0.02859567664563656, -0.21366794407367706, -0.14280831813812256, -0.2106281816959381, -0.010714652948081493, 0.0780906081199646, 0.10345353186130524, 0.035632483661174774, -0.04370753839612007, -0.06285271793603897, 0.08970848470926285, -0.0551624596118927, 0.045453231781721115, -0.07752293348312378, 0.006314876489341259, 0.09529358148574829, -0.06662222743034363, -0.004239127039909363, 0.07461456954479218, -0.0024326518177986145, 0.04093620926141739, 0.13720104098320007, -0.06827686727046967, 0.1110605001449585, -0.0020918254740536213, -0.008892444893717766, -0.09690427035093307, 0.09159860014915466, -0.02732894755899906, -0.09963015466928482, 0.14448422193527222, -0.05459914728999138, 0.025979187339544296, 0.0890834778547287, -0.054759781807661057, -0.11090855300426483, 0.0749862790107727, -0.10123997926712036, 0.07709114253520966, 0.07058164477348328, 0.08882249891757965, -0.05848916247487068, 0.026779914274811745, -0.08404785394668579, 0.04211435094475746, -0.1366095095872879, -0.047569211572408676, -0.13573504984378815, 0.07590784877538681, 0.017813073471188545, -0.0748290941119194, 0.04544609412550926, -0.13858911395072937, 0.12408988177776337, -0.04814555495977402, 0.18196800351142883, 0.0220479778945446, 0.21551144123077393, 0.1294698417186737, -0.07372906804084778, -0.009265350177884102, 0.08925043046474457, 0.24121113121509552, 0.010876378044486046, -0.12102590501308441]]}\n"
     ]
    }
   ],
   "source": [
    "# Inference testing\n",
    "\n",
    "import time\n",
    "from sagemaker.huggingface import HuggingFaceModel\n",
    "hfp = sagemaker.huggingface.model.HuggingFacePredictor('huggingface-inference-eb')\n",
    "data = {\n",
    "  \"inputs\": \"你好。\",\n",
    "}\n",
    "t0 = time.time()\n",
    "for i in range(1):\n",
    "    x = hfp.predict(data)\n",
    "print(time.time()-t0)\n",
    "\n",
    "#print(len(x[0][0]))\n",
    "print(x)"
   ]
  },
  {
   "cell_type": "code",
   "execution_count": 72,
   "id": "aa0d6623-236d-4a5d-8360-4b07f8d8d40c",
   "metadata": {
    "tags": []
   },
   "outputs": [
    {
     "name": "stdout",
     "output_type": "stream",
     "text": [
      "\n",
      "An error occurred (ValidationException) when calling the DeleteModel operation: Could not find model \"arn:aws-cn:sagemaker:cn-north-1:507392672631:model/huggingface-inference-eb\".\n"
     ]
    }
   ],
   "source": [
    "!aws sagemaker delete-endpoint --endpoint-name huggingface-inference-eb\n",
    "!aws sagemaker delete-endpoint-config --endpoint-config-name huggingface-inference-eb\n",
    "!aws sagemaker delete-model --model-name huggingface-inference-eb"
   ]
  },
  {
   "cell_type": "code",
   "execution_count": null,
   "id": "36281bf3-b6f5-450f-b1b8-9f1285b1dad0",
   "metadata": {
    "tags": []
   },
   "outputs": [],
   "source": []
  },
  {
   "cell_type": "code",
   "execution_count": null,
   "id": "f9700aff",
   "metadata": {},
   "outputs": [],
   "source": []
  }
 ],
 "metadata": {
  "availableInstances": [
   {
    "_defaultOrder": 0,
    "_isFastLaunch": true,
    "category": "General purpose",
    "gpuNum": 0,
    "hideHardwareSpecs": false,
    "memoryGiB": 4,
    "name": "ml.t3.medium",
    "vcpuNum": 2
   },
   {
    "_defaultOrder": 1,
    "_isFastLaunch": false,
    "category": "General purpose",
    "gpuNum": 0,
    "hideHardwareSpecs": false,
    "memoryGiB": 8,
    "name": "ml.t3.large",
    "vcpuNum": 2
   },
   {
    "_defaultOrder": 2,
    "_isFastLaunch": false,
    "category": "General purpose",
    "gpuNum": 0,
    "hideHardwareSpecs": false,
    "memoryGiB": 16,
    "name": "ml.t3.xlarge",
    "vcpuNum": 4
   },
   {
    "_defaultOrder": 3,
    "_isFastLaunch": false,
    "category": "General purpose",
    "gpuNum": 0,
    "hideHardwareSpecs": false,
    "memoryGiB": 32,
    "name": "ml.t3.2xlarge",
    "vcpuNum": 8
   },
   {
    "_defaultOrder": 4,
    "_isFastLaunch": true,
    "category": "General purpose",
    "gpuNum": 0,
    "hideHardwareSpecs": false,
    "memoryGiB": 8,
    "name": "ml.m5.large",
    "vcpuNum": 2
   },
   {
    "_defaultOrder": 5,
    "_isFastLaunch": false,
    "category": "General purpose",
    "gpuNum": 0,
    "hideHardwareSpecs": false,
    "memoryGiB": 16,
    "name": "ml.m5.xlarge",
    "vcpuNum": 4
   },
   {
    "_defaultOrder": 6,
    "_isFastLaunch": false,
    "category": "General purpose",
    "gpuNum": 0,
    "hideHardwareSpecs": false,
    "memoryGiB": 32,
    "name": "ml.m5.2xlarge",
    "vcpuNum": 8
   },
   {
    "_defaultOrder": 7,
    "_isFastLaunch": false,
    "category": "General purpose",
    "gpuNum": 0,
    "hideHardwareSpecs": false,
    "memoryGiB": 64,
    "name": "ml.m5.4xlarge",
    "vcpuNum": 16
   },
   {
    "_defaultOrder": 8,
    "_isFastLaunch": false,
    "category": "General purpose",
    "gpuNum": 0,
    "hideHardwareSpecs": false,
    "memoryGiB": 128,
    "name": "ml.m5.8xlarge",
    "vcpuNum": 32
   },
   {
    "_defaultOrder": 9,
    "_isFastLaunch": false,
    "category": "General purpose",
    "gpuNum": 0,
    "hideHardwareSpecs": false,
    "memoryGiB": 192,
    "name": "ml.m5.12xlarge",
    "vcpuNum": 48
   },
   {
    "_defaultOrder": 10,
    "_isFastLaunch": false,
    "category": "General purpose",
    "gpuNum": 0,
    "hideHardwareSpecs": false,
    "memoryGiB": 256,
    "name": "ml.m5.16xlarge",
    "vcpuNum": 64
   },
   {
    "_defaultOrder": 11,
    "_isFastLaunch": false,
    "category": "General purpose",
    "gpuNum": 0,
    "hideHardwareSpecs": false,
    "memoryGiB": 384,
    "name": "ml.m5.24xlarge",
    "vcpuNum": 96
   },
   {
    "_defaultOrder": 12,
    "_isFastLaunch": false,
    "category": "General purpose",
    "gpuNum": 0,
    "hideHardwareSpecs": false,
    "memoryGiB": 8,
    "name": "ml.m5d.large",
    "vcpuNum": 2
   },
   {
    "_defaultOrder": 13,
    "_isFastLaunch": false,
    "category": "General purpose",
    "gpuNum": 0,
    "hideHardwareSpecs": false,
    "memoryGiB": 16,
    "name": "ml.m5d.xlarge",
    "vcpuNum": 4
   },
   {
    "_defaultOrder": 14,
    "_isFastLaunch": false,
    "category": "General purpose",
    "gpuNum": 0,
    "hideHardwareSpecs": false,
    "memoryGiB": 32,
    "name": "ml.m5d.2xlarge",
    "vcpuNum": 8
   },
   {
    "_defaultOrder": 15,
    "_isFastLaunch": false,
    "category": "General purpose",
    "gpuNum": 0,
    "hideHardwareSpecs": false,
    "memoryGiB": 64,
    "name": "ml.m5d.4xlarge",
    "vcpuNum": 16
   },
   {
    "_defaultOrder": 16,
    "_isFastLaunch": false,
    "category": "General purpose",
    "gpuNum": 0,
    "hideHardwareSpecs": false,
    "memoryGiB": 128,
    "name": "ml.m5d.8xlarge",
    "vcpuNum": 32
   },
   {
    "_defaultOrder": 17,
    "_isFastLaunch": false,
    "category": "General purpose",
    "gpuNum": 0,
    "hideHardwareSpecs": false,
    "memoryGiB": 192,
    "name": "ml.m5d.12xlarge",
    "vcpuNum": 48
   },
   {
    "_defaultOrder": 18,
    "_isFastLaunch": false,
    "category": "General purpose",
    "gpuNum": 0,
    "hideHardwareSpecs": false,
    "memoryGiB": 256,
    "name": "ml.m5d.16xlarge",
    "vcpuNum": 64
   },
   {
    "_defaultOrder": 19,
    "_isFastLaunch": false,
    "category": "General purpose",
    "gpuNum": 0,
    "hideHardwareSpecs": false,
    "memoryGiB": 384,
    "name": "ml.m5d.24xlarge",
    "vcpuNum": 96
   },
   {
    "_defaultOrder": 20,
    "_isFastLaunch": false,
    "category": "General purpose",
    "gpuNum": 0,
    "hideHardwareSpecs": true,
    "memoryGiB": 0,
    "name": "ml.geospatial.interactive",
    "supportedImageNames": [
     "sagemaker-geospatial-v1-0"
    ],
    "vcpuNum": 0
   },
   {
    "_defaultOrder": 21,
    "_isFastLaunch": true,
    "category": "Compute optimized",
    "gpuNum": 0,
    "hideHardwareSpecs": false,
    "memoryGiB": 4,
    "name": "ml.c5.large",
    "vcpuNum": 2
   },
   {
    "_defaultOrder": 22,
    "_isFastLaunch": false,
    "category": "Compute optimized",
    "gpuNum": 0,
    "hideHardwareSpecs": false,
    "memoryGiB": 8,
    "name": "ml.c5.xlarge",
    "vcpuNum": 4
   },
   {
    "_defaultOrder": 23,
    "_isFastLaunch": false,
    "category": "Compute optimized",
    "gpuNum": 0,
    "hideHardwareSpecs": false,
    "memoryGiB": 16,
    "name": "ml.c5.2xlarge",
    "vcpuNum": 8
   },
   {
    "_defaultOrder": 24,
    "_isFastLaunch": false,
    "category": "Compute optimized",
    "gpuNum": 0,
    "hideHardwareSpecs": false,
    "memoryGiB": 32,
    "name": "ml.c5.4xlarge",
    "vcpuNum": 16
   },
   {
    "_defaultOrder": 25,
    "_isFastLaunch": false,
    "category": "Compute optimized",
    "gpuNum": 0,
    "hideHardwareSpecs": false,
    "memoryGiB": 72,
    "name": "ml.c5.9xlarge",
    "vcpuNum": 36
   },
   {
    "_defaultOrder": 26,
    "_isFastLaunch": false,
    "category": "Compute optimized",
    "gpuNum": 0,
    "hideHardwareSpecs": false,
    "memoryGiB": 96,
    "name": "ml.c5.12xlarge",
    "vcpuNum": 48
   },
   {
    "_defaultOrder": 27,
    "_isFastLaunch": false,
    "category": "Compute optimized",
    "gpuNum": 0,
    "hideHardwareSpecs": false,
    "memoryGiB": 144,
    "name": "ml.c5.18xlarge",
    "vcpuNum": 72
   },
   {
    "_defaultOrder": 28,
    "_isFastLaunch": false,
    "category": "Compute optimized",
    "gpuNum": 0,
    "hideHardwareSpecs": false,
    "memoryGiB": 192,
    "name": "ml.c5.24xlarge",
    "vcpuNum": 96
   },
   {
    "_defaultOrder": 29,
    "_isFastLaunch": true,
    "category": "Accelerated computing",
    "gpuNum": 1,
    "hideHardwareSpecs": false,
    "memoryGiB": 16,
    "name": "ml.g4dn.xlarge",
    "vcpuNum": 4
   },
   {
    "_defaultOrder": 30,
    "_isFastLaunch": false,
    "category": "Accelerated computing",
    "gpuNum": 1,
    "hideHardwareSpecs": false,
    "memoryGiB": 32,
    "name": "ml.g4dn.2xlarge",
    "vcpuNum": 8
   },
   {
    "_defaultOrder": 31,
    "_isFastLaunch": false,
    "category": "Accelerated computing",
    "gpuNum": 1,
    "hideHardwareSpecs": false,
    "memoryGiB": 64,
    "name": "ml.g4dn.4xlarge",
    "vcpuNum": 16
   },
   {
    "_defaultOrder": 32,
    "_isFastLaunch": false,
    "category": "Accelerated computing",
    "gpuNum": 1,
    "hideHardwareSpecs": false,
    "memoryGiB": 128,
    "name": "ml.g4dn.8xlarge",
    "vcpuNum": 32
   },
   {
    "_defaultOrder": 33,
    "_isFastLaunch": false,
    "category": "Accelerated computing",
    "gpuNum": 4,
    "hideHardwareSpecs": false,
    "memoryGiB": 192,
    "name": "ml.g4dn.12xlarge",
    "vcpuNum": 48
   },
   {
    "_defaultOrder": 34,
    "_isFastLaunch": false,
    "category": "Accelerated computing",
    "gpuNum": 1,
    "hideHardwareSpecs": false,
    "memoryGiB": 256,
    "name": "ml.g4dn.16xlarge",
    "vcpuNum": 64
   },
   {
    "_defaultOrder": 35,
    "_isFastLaunch": false,
    "category": "Accelerated computing",
    "gpuNum": 1,
    "hideHardwareSpecs": false,
    "memoryGiB": 61,
    "name": "ml.p3.2xlarge",
    "vcpuNum": 8
   },
   {
    "_defaultOrder": 36,
    "_isFastLaunch": false,
    "category": "Accelerated computing",
    "gpuNum": 4,
    "hideHardwareSpecs": false,
    "memoryGiB": 244,
    "name": "ml.p3.8xlarge",
    "vcpuNum": 32
   },
   {
    "_defaultOrder": 37,
    "_isFastLaunch": false,
    "category": "Accelerated computing",
    "gpuNum": 8,
    "hideHardwareSpecs": false,
    "memoryGiB": 488,
    "name": "ml.p3.16xlarge",
    "vcpuNum": 64
   },
   {
    "_defaultOrder": 38,
    "_isFastLaunch": false,
    "category": "Accelerated computing",
    "gpuNum": 8,
    "hideHardwareSpecs": false,
    "memoryGiB": 768,
    "name": "ml.p3dn.24xlarge",
    "vcpuNum": 96
   },
   {
    "_defaultOrder": 39,
    "_isFastLaunch": false,
    "category": "Memory Optimized",
    "gpuNum": 0,
    "hideHardwareSpecs": false,
    "memoryGiB": 16,
    "name": "ml.r5.large",
    "vcpuNum": 2
   },
   {
    "_defaultOrder": 40,
    "_isFastLaunch": false,
    "category": "Memory Optimized",
    "gpuNum": 0,
    "hideHardwareSpecs": false,
    "memoryGiB": 32,
    "name": "ml.r5.xlarge",
    "vcpuNum": 4
   },
   {
    "_defaultOrder": 41,
    "_isFastLaunch": false,
    "category": "Memory Optimized",
    "gpuNum": 0,
    "hideHardwareSpecs": false,
    "memoryGiB": 64,
    "name": "ml.r5.2xlarge",
    "vcpuNum": 8
   },
   {
    "_defaultOrder": 42,
    "_isFastLaunch": false,
    "category": "Memory Optimized",
    "gpuNum": 0,
    "hideHardwareSpecs": false,
    "memoryGiB": 128,
    "name": "ml.r5.4xlarge",
    "vcpuNum": 16
   },
   {
    "_defaultOrder": 43,
    "_isFastLaunch": false,
    "category": "Memory Optimized",
    "gpuNum": 0,
    "hideHardwareSpecs": false,
    "memoryGiB": 256,
    "name": "ml.r5.8xlarge",
    "vcpuNum": 32
   },
   {
    "_defaultOrder": 44,
    "_isFastLaunch": false,
    "category": "Memory Optimized",
    "gpuNum": 0,
    "hideHardwareSpecs": false,
    "memoryGiB": 384,
    "name": "ml.r5.12xlarge",
    "vcpuNum": 48
   },
   {
    "_defaultOrder": 45,
    "_isFastLaunch": false,
    "category": "Memory Optimized",
    "gpuNum": 0,
    "hideHardwareSpecs": false,
    "memoryGiB": 512,
    "name": "ml.r5.16xlarge",
    "vcpuNum": 64
   },
   {
    "_defaultOrder": 46,
    "_isFastLaunch": false,
    "category": "Memory Optimized",
    "gpuNum": 0,
    "hideHardwareSpecs": false,
    "memoryGiB": 768,
    "name": "ml.r5.24xlarge",
    "vcpuNum": 96
   },
   {
    "_defaultOrder": 47,
    "_isFastLaunch": false,
    "category": "Accelerated computing",
    "gpuNum": 1,
    "hideHardwareSpecs": false,
    "memoryGiB": 16,
    "name": "ml.g5.xlarge",
    "vcpuNum": 4
   },
   {
    "_defaultOrder": 48,
    "_isFastLaunch": false,
    "category": "Accelerated computing",
    "gpuNum": 1,
    "hideHardwareSpecs": false,
    "memoryGiB": 32,
    "name": "ml.g5.2xlarge",
    "vcpuNum": 8
   },
   {
    "_defaultOrder": 49,
    "_isFastLaunch": false,
    "category": "Accelerated computing",
    "gpuNum": 1,
    "hideHardwareSpecs": false,
    "memoryGiB": 64,
    "name": "ml.g5.4xlarge",
    "vcpuNum": 16
   },
   {
    "_defaultOrder": 50,
    "_isFastLaunch": false,
    "category": "Accelerated computing",
    "gpuNum": 1,
    "hideHardwareSpecs": false,
    "memoryGiB": 128,
    "name": "ml.g5.8xlarge",
    "vcpuNum": 32
   },
   {
    "_defaultOrder": 51,
    "_isFastLaunch": false,
    "category": "Accelerated computing",
    "gpuNum": 1,
    "hideHardwareSpecs": false,
    "memoryGiB": 256,
    "name": "ml.g5.16xlarge",
    "vcpuNum": 64
   },
   {
    "_defaultOrder": 52,
    "_isFastLaunch": false,
    "category": "Accelerated computing",
    "gpuNum": 4,
    "hideHardwareSpecs": false,
    "memoryGiB": 192,
    "name": "ml.g5.12xlarge",
    "vcpuNum": 48
   },
   {
    "_defaultOrder": 53,
    "_isFastLaunch": false,
    "category": "Accelerated computing",
    "gpuNum": 4,
    "hideHardwareSpecs": false,
    "memoryGiB": 384,
    "name": "ml.g5.24xlarge",
    "vcpuNum": 96
   },
   {
    "_defaultOrder": 54,
    "_isFastLaunch": false,
    "category": "Accelerated computing",
    "gpuNum": 8,
    "hideHardwareSpecs": false,
    "memoryGiB": 768,
    "name": "ml.g5.48xlarge",
    "vcpuNum": 192
   },
   {
    "_defaultOrder": 55,
    "_isFastLaunch": false,
    "category": "Accelerated computing",
    "gpuNum": 8,
    "hideHardwareSpecs": false,
    "memoryGiB": 1152,
    "name": "ml.p4d.24xlarge",
    "vcpuNum": 96
   },
   {
    "_defaultOrder": 56,
    "_isFastLaunch": false,
    "category": "Accelerated computing",
    "gpuNum": 8,
    "hideHardwareSpecs": false,
    "memoryGiB": 1152,
    "name": "ml.p4de.24xlarge",
    "vcpuNum": 96
   }
  ],
  "instance_type": "ml.m5.large",
  "kernelspec": {
   "display_name": "conda_amazonei_pytorch_latest_p37",
   "language": "python",
   "name": "conda_amazonei_pytorch_latest_p37"
  },
  "language_info": {
   "codemirror_mode": {
    "name": "ipython",
    "version": 3
   },
   "file_extension": ".py",
   "mimetype": "text/x-python",
   "name": "python",
   "nbconvert_exporter": "python",
   "pygments_lexer": "ipython3",
   "version": "3.7.10"
  }
 },
 "nbformat": 4,
 "nbformat_minor": 5
}
