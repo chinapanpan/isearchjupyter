{
 "cells": [
  {
   "cell_type": "markdown",
   "id": "ba7f6f98-70f2-4ca6-b999-eed03641ea87",
   "metadata": {},
   "source": [
    "### 1. 安装HuggingFace 并下载模型到本地"
   ]
  },
  {
   "cell_type": "code",
   "execution_count": 70,
   "id": "9f413314-c410-43d3-bb3a-ba0aa18ec1be",
   "metadata": {
    "tags": []
   },
   "outputs": [
    {
     "name": "stdout",
     "output_type": "stream",
     "text": [
      "Looking in indexes: https://pypi.tuna.tsinghua.edu.cn/simple/, https://pip.repos.neuron.amazonaws.com\n",
      "Requirement already satisfied: sagemaker in /home/ec2-user/anaconda3/envs/amazonei_pytorch_latest_p37/lib/python3.7/site-packages (2.173.0)\n",
      "Requirement already satisfied: numpy<2.0,>=1.9.0 in /home/ec2-user/anaconda3/envs/amazonei_pytorch_latest_p37/lib/python3.7/site-packages (from sagemaker) (1.21.6)\n",
      "Requirement already satisfied: pathos in /home/ec2-user/anaconda3/envs/amazonei_pytorch_latest_p37/lib/python3.7/site-packages (from sagemaker) (0.3.0)\n",
      "Requirement already satisfied: platformdirs in /home/ec2-user/anaconda3/envs/amazonei_pytorch_latest_p37/lib/python3.7/site-packages (from sagemaker) (3.9.1)\n",
      "Requirement already satisfied: tblib==1.7.0 in /home/ec2-user/anaconda3/envs/amazonei_pytorch_latest_p37/lib/python3.7/site-packages (from sagemaker) (1.7.0)\n",
      "Requirement already satisfied: protobuf<5.0,>=3.12 in /home/ec2-user/anaconda3/envs/amazonei_pytorch_latest_p37/lib/python3.7/site-packages (from sagemaker) (3.20.3)\n",
      "Requirement already satisfied: pandas in /home/ec2-user/anaconda3/envs/amazonei_pytorch_latest_p37/lib/python3.7/site-packages (from sagemaker) (1.3.5)\n",
      "Requirement already satisfied: cloudpickle==2.2.1 in /home/ec2-user/anaconda3/envs/amazonei_pytorch_latest_p37/lib/python3.7/site-packages (from sagemaker) (2.2.1)\n",
      "Requirement already satisfied: packaging>=20.0 in /home/ec2-user/anaconda3/envs/amazonei_pytorch_latest_p37/lib/python3.7/site-packages (from sagemaker) (21.3)\n",
      "Requirement already satisfied: PyYAML~=6.0 in /home/ec2-user/anaconda3/envs/amazonei_pytorch_latest_p37/lib/python3.7/site-packages (from sagemaker) (6.0.1)\n",
      "Requirement already satisfied: importlib-metadata<7.0,>=1.4.0 in /home/ec2-user/anaconda3/envs/amazonei_pytorch_latest_p37/lib/python3.7/site-packages (from sagemaker) (4.11.4)\n",
      "Requirement already satisfied: jsonschema in /home/ec2-user/anaconda3/envs/amazonei_pytorch_latest_p37/lib/python3.7/site-packages (from sagemaker) (3.2.0)\n",
      "Requirement already satisfied: attrs<24,>=23.1.0 in /home/ec2-user/anaconda3/envs/amazonei_pytorch_latest_p37/lib/python3.7/site-packages (from sagemaker) (23.1.0)\n",
      "Requirement already satisfied: boto3<2.0,>=1.26.131 in /home/ec2-user/anaconda3/envs/amazonei_pytorch_latest_p37/lib/python3.7/site-packages (from sagemaker) (1.28.5)\n",
      "Requirement already satisfied: google-pasta in /home/ec2-user/anaconda3/envs/amazonei_pytorch_latest_p37/lib/python3.7/site-packages (from sagemaker) (0.2.0)\n",
      "Requirement already satisfied: smdebug-rulesconfig==1.0.1 in /home/ec2-user/anaconda3/envs/amazonei_pytorch_latest_p37/lib/python3.7/site-packages (from sagemaker) (1.0.1)\n",
      "Requirement already satisfied: schema in /home/ec2-user/anaconda3/envs/amazonei_pytorch_latest_p37/lib/python3.7/site-packages (from sagemaker) (0.7.5)\n",
      "Requirement already satisfied: botocore<1.32.0,>=1.31.5 in /home/ec2-user/anaconda3/envs/amazonei_pytorch_latest_p37/lib/python3.7/site-packages (from boto3<2.0,>=1.26.131->sagemaker) (1.31.5)\n",
      "Requirement already satisfied: s3transfer<0.7.0,>=0.6.0 in /home/ec2-user/anaconda3/envs/amazonei_pytorch_latest_p37/lib/python3.7/site-packages (from boto3<2.0,>=1.26.131->sagemaker) (0.6.0)\n",
      "Requirement already satisfied: jmespath<2.0.0,>=0.7.1 in /home/ec2-user/anaconda3/envs/amazonei_pytorch_latest_p37/lib/python3.7/site-packages (from boto3<2.0,>=1.26.131->sagemaker) (1.0.1)\n",
      "Requirement already satisfied: zipp>=0.5 in /home/ec2-user/anaconda3/envs/amazonei_pytorch_latest_p37/lib/python3.7/site-packages (from importlib-metadata<7.0,>=1.4.0->sagemaker) (3.11.0)\n",
      "Requirement already satisfied: typing-extensions>=3.6.4 in /home/ec2-user/anaconda3/envs/amazonei_pytorch_latest_p37/lib/python3.7/site-packages (from importlib-metadata<7.0,>=1.4.0->sagemaker) (4.7.1)\n",
      "Requirement already satisfied: pyparsing!=3.0.5,>=2.0.2 in /home/ec2-user/anaconda3/envs/amazonei_pytorch_latest_p37/lib/python3.7/site-packages (from packaging>=20.0->sagemaker) (3.0.9)\n",
      "Requirement already satisfied: six in /home/ec2-user/anaconda3/envs/amazonei_pytorch_latest_p37/lib/python3.7/site-packages (from google-pasta->sagemaker) (1.16.0)\n",
      "Requirement already satisfied: setuptools in /home/ec2-user/anaconda3/envs/amazonei_pytorch_latest_p37/lib/python3.7/site-packages (from jsonschema->sagemaker) (65.6.3)\n",
      "Requirement already satisfied: pyrsistent>=0.14.0 in /home/ec2-user/anaconda3/envs/amazonei_pytorch_latest_p37/lib/python3.7/site-packages (from jsonschema->sagemaker) (0.18.1)\n",
      "Requirement already satisfied: python-dateutil>=2.7.3 in /home/ec2-user/anaconda3/envs/amazonei_pytorch_latest_p37/lib/python3.7/site-packages (from pandas->sagemaker) (2.8.2)\n",
      "Requirement already satisfied: pytz>=2017.3 in /home/ec2-user/anaconda3/envs/amazonei_pytorch_latest_p37/lib/python3.7/site-packages (from pandas->sagemaker) (2022.7)\n",
      "Requirement already satisfied: dill>=0.3.6 in /home/ec2-user/anaconda3/envs/amazonei_pytorch_latest_p37/lib/python3.7/site-packages (from pathos->sagemaker) (0.3.6)\n",
      "Requirement already satisfied: ppft>=1.7.6.6 in /home/ec2-user/anaconda3/envs/amazonei_pytorch_latest_p37/lib/python3.7/site-packages (from pathos->sagemaker) (1.7.6.6)\n",
      "Requirement already satisfied: pox>=0.3.2 in /home/ec2-user/anaconda3/envs/amazonei_pytorch_latest_p37/lib/python3.7/site-packages (from pathos->sagemaker) (0.3.2)\n",
      "Requirement already satisfied: multiprocess>=0.70.14 in /home/ec2-user/anaconda3/envs/amazonei_pytorch_latest_p37/lib/python3.7/site-packages (from pathos->sagemaker) (0.70.14)\n",
      "Requirement already satisfied: contextlib2>=0.5.5 in /home/ec2-user/anaconda3/envs/amazonei_pytorch_latest_p37/lib/python3.7/site-packages (from schema->sagemaker) (21.6.0)\n",
      "Requirement already satisfied: urllib3<1.27,>=1.25.4 in /home/ec2-user/anaconda3/envs/amazonei_pytorch_latest_p37/lib/python3.7/site-packages (from botocore<1.32.0,>=1.31.5->boto3<2.0,>=1.26.131->sagemaker) (1.26.8)\n",
      "Looking in indexes: https://pypi.tuna.tsinghua.edu.cn/simple/, https://pip.repos.neuron.amazonaws.com\n",
      "Requirement already satisfied: sagemaker in /home/ec2-user/anaconda3/envs/amazonei_pytorch_latest_p37/lib/python3.7/site-packages (2.173.0)\n",
      "Requirement already satisfied: pathos in /home/ec2-user/anaconda3/envs/amazonei_pytorch_latest_p37/lib/python3.7/site-packages (from sagemaker) (0.3.0)\n",
      "Requirement already satisfied: packaging>=20.0 in /home/ec2-user/anaconda3/envs/amazonei_pytorch_latest_p37/lib/python3.7/site-packages (from sagemaker) (21.3)\n",
      "Requirement already satisfied: google-pasta in /home/ec2-user/anaconda3/envs/amazonei_pytorch_latest_p37/lib/python3.7/site-packages (from sagemaker) (0.2.0)\n",
      "Requirement already satisfied: protobuf<5.0,>=3.12 in /home/ec2-user/anaconda3/envs/amazonei_pytorch_latest_p37/lib/python3.7/site-packages (from sagemaker) (3.20.3)\n",
      "Requirement already satisfied: pandas in /home/ec2-user/anaconda3/envs/amazonei_pytorch_latest_p37/lib/python3.7/site-packages (from sagemaker) (1.3.5)\n",
      "Requirement already satisfied: tblib==1.7.0 in /home/ec2-user/anaconda3/envs/amazonei_pytorch_latest_p37/lib/python3.7/site-packages (from sagemaker) (1.7.0)\n",
      "Requirement already satisfied: PyYAML~=6.0 in /home/ec2-user/anaconda3/envs/amazonei_pytorch_latest_p37/lib/python3.7/site-packages (from sagemaker) (6.0.1)\n",
      "Requirement already satisfied: numpy<2.0,>=1.9.0 in /home/ec2-user/anaconda3/envs/amazonei_pytorch_latest_p37/lib/python3.7/site-packages (from sagemaker) (1.21.6)\n",
      "Requirement already satisfied: boto3<2.0,>=1.26.131 in /home/ec2-user/anaconda3/envs/amazonei_pytorch_latest_p37/lib/python3.7/site-packages (from sagemaker) (1.28.5)\n",
      "Requirement already satisfied: jsonschema in /home/ec2-user/anaconda3/envs/amazonei_pytorch_latest_p37/lib/python3.7/site-packages (from sagemaker) (3.2.0)\n",
      "Requirement already satisfied: platformdirs in /home/ec2-user/anaconda3/envs/amazonei_pytorch_latest_p37/lib/python3.7/site-packages (from sagemaker) (3.9.1)\n",
      "Requirement already satisfied: importlib-metadata<7.0,>=1.4.0 in /home/ec2-user/anaconda3/envs/amazonei_pytorch_latest_p37/lib/python3.7/site-packages (from sagemaker) (4.11.4)\n",
      "Requirement already satisfied: attrs<24,>=23.1.0 in /home/ec2-user/anaconda3/envs/amazonei_pytorch_latest_p37/lib/python3.7/site-packages (from sagemaker) (23.1.0)\n",
      "Requirement already satisfied: schema in /home/ec2-user/anaconda3/envs/amazonei_pytorch_latest_p37/lib/python3.7/site-packages (from sagemaker) (0.7.5)\n",
      "Requirement already satisfied: cloudpickle==2.2.1 in /home/ec2-user/anaconda3/envs/amazonei_pytorch_latest_p37/lib/python3.7/site-packages (from sagemaker) (2.2.1)\n",
      "Requirement already satisfied: smdebug-rulesconfig==1.0.1 in /home/ec2-user/anaconda3/envs/amazonei_pytorch_latest_p37/lib/python3.7/site-packages (from sagemaker) (1.0.1)\n",
      "Requirement already satisfied: s3transfer<0.7.0,>=0.6.0 in /home/ec2-user/anaconda3/envs/amazonei_pytorch_latest_p37/lib/python3.7/site-packages (from boto3<2.0,>=1.26.131->sagemaker) (0.6.0)\n",
      "Requirement already satisfied: jmespath<2.0.0,>=0.7.1 in /home/ec2-user/anaconda3/envs/amazonei_pytorch_latest_p37/lib/python3.7/site-packages (from boto3<2.0,>=1.26.131->sagemaker) (1.0.1)\n",
      "Requirement already satisfied: botocore<1.32.0,>=1.31.5 in /home/ec2-user/anaconda3/envs/amazonei_pytorch_latest_p37/lib/python3.7/site-packages (from boto3<2.0,>=1.26.131->sagemaker) (1.31.5)\n",
      "Requirement already satisfied: typing-extensions>=3.6.4 in /home/ec2-user/anaconda3/envs/amazonei_pytorch_latest_p37/lib/python3.7/site-packages (from importlib-metadata<7.0,>=1.4.0->sagemaker) (4.7.1)\n",
      "Requirement already satisfied: zipp>=0.5 in /home/ec2-user/anaconda3/envs/amazonei_pytorch_latest_p37/lib/python3.7/site-packages (from importlib-metadata<7.0,>=1.4.0->sagemaker) (3.11.0)\n",
      "Requirement already satisfied: pyparsing!=3.0.5,>=2.0.2 in /home/ec2-user/anaconda3/envs/amazonei_pytorch_latest_p37/lib/python3.7/site-packages (from packaging>=20.0->sagemaker) (3.0.9)\n",
      "Requirement already satisfied: six in /home/ec2-user/anaconda3/envs/amazonei_pytorch_latest_p37/lib/python3.7/site-packages (from google-pasta->sagemaker) (1.16.0)\n",
      "Requirement already satisfied: pyrsistent>=0.14.0 in /home/ec2-user/anaconda3/envs/amazonei_pytorch_latest_p37/lib/python3.7/site-packages (from jsonschema->sagemaker) (0.18.1)\n",
      "Requirement already satisfied: setuptools in /home/ec2-user/anaconda3/envs/amazonei_pytorch_latest_p37/lib/python3.7/site-packages (from jsonschema->sagemaker) (65.6.3)\n",
      "Requirement already satisfied: pytz>=2017.3 in /home/ec2-user/anaconda3/envs/amazonei_pytorch_latest_p37/lib/python3.7/site-packages (from pandas->sagemaker) (2022.7)\n",
      "Requirement already satisfied: python-dateutil>=2.7.3 in /home/ec2-user/anaconda3/envs/amazonei_pytorch_latest_p37/lib/python3.7/site-packages (from pandas->sagemaker) (2.8.2)\n",
      "Requirement already satisfied: ppft>=1.7.6.6 in /home/ec2-user/anaconda3/envs/amazonei_pytorch_latest_p37/lib/python3.7/site-packages (from pathos->sagemaker) (1.7.6.6)\n",
      "Requirement already satisfied: pox>=0.3.2 in /home/ec2-user/anaconda3/envs/amazonei_pytorch_latest_p37/lib/python3.7/site-packages (from pathos->sagemaker) (0.3.2)\n",
      "Requirement already satisfied: multiprocess>=0.70.14 in /home/ec2-user/anaconda3/envs/amazonei_pytorch_latest_p37/lib/python3.7/site-packages (from pathos->sagemaker) (0.70.14)\n",
      "Requirement already satisfied: dill>=0.3.6 in /home/ec2-user/anaconda3/envs/amazonei_pytorch_latest_p37/lib/python3.7/site-packages (from pathos->sagemaker) (0.3.6)\n",
      "Requirement already satisfied: contextlib2>=0.5.5 in /home/ec2-user/anaconda3/envs/amazonei_pytorch_latest_p37/lib/python3.7/site-packages (from schema->sagemaker) (21.6.0)\n",
      "Requirement already satisfied: urllib3<1.27,>=1.25.4 in /home/ec2-user/anaconda3/envs/amazonei_pytorch_latest_p37/lib/python3.7/site-packages (from botocore<1.32.0,>=1.31.5->boto3<2.0,>=1.26.131->sagemaker) (1.26.8)\n"
     ]
    }
   ],
   "source": [
    "!pip install huggingface-hub -Uqq -i https://pypi.tuna.tsinghua.edu.cn/simple/\n",
    "!pip install -U sagemaker -i https://pypi.tuna.tsinghua.edu.cn/simple/\n",
    "!pip install --upgrade sagemaker -i https://pypi.tuna.tsinghua.edu.cn/simple/"
   ]
  },
  {
   "cell_type": "code",
   "execution_count": 3,
   "id": "be112a00-cbef-4387-b0d7-80e5e7b7030d",
   "metadata": {
    "tags": []
   },
   "outputs": [],
   "source": [
    "from huggingface_hub import snapshot_download\n",
    "from pathlib import Path\n",
    "\n",
    "local_model_path = Path(\"./sentence2emb-model\")\n",
    "local_model_path.mkdir(exist_ok=True)\n",
    "model_name = \"sentence-transformers/paraphrase-multilingual-mpnet-base-v2\"\n",
    "commit_hash = \"ef15aed8b328d308d7237b9bf15269f2cd19e268\""
   ]
  },
  {
   "cell_type": "code",
   "execution_count": 28,
   "id": "902798dc-227b-4191-ade7-b736571543ac",
   "metadata": {
    "tags": []
   },
   "outputs": [
    {
     "data": {
      "application/vnd.jupyter.widget-view+json": {
       "model_id": "33b63da7bb504c88905afe4ceebcdc37",
       "version_major": 2,
       "version_minor": 0
      },
      "text/plain": [
       "Fetching 13 files:   0%|          | 0/13 [00:00<?, ?it/s]"
      ]
     },
     "metadata": {},
     "output_type": "display_data"
    }
   ],
   "source": [
    "#执行这段，因为网络原因，可能会多次失败，需要反复执行\n",
    "while True:\n",
    "    try:\n",
    "        snapshot_download(repo_id=model_name, revision=commit_hash, cache_dir=local_model_path)\n",
    "        break\n",
    "    except Exception:\n",
    "        pass"
   ]
  },
  {
   "cell_type": "markdown",
   "id": "a6b61ad8-a8c2-48c2-8539-e7c1e2afe773",
   "metadata": {},
   "source": [
    "### 2. 把模型拷贝到S3为后续部署做准备"
   ]
  },
  {
   "cell_type": "code",
   "execution_count": 4,
   "id": "5e1873f4-1bfe-4146-8297-584e9ad76fc9",
   "metadata": {
    "tags": []
   },
   "outputs": [
    {
     "name": "stderr",
     "output_type": "stream",
     "text": [
      "/home/ec2-user/anaconda3/envs/amazonei_pytorch_latest_p37/lib/python3.7/site-packages/boto3/compat.py:82: PythonDeprecationWarning: Boto3 will no longer support Python 3.7 starting December 13, 2023. To continue receiving service updates, bug fixes, and security updates please upgrade to Python 3.8 or later. More information can be found here: https://aws.amazon.com/blogs/developer/python-support-policy-updates-for-aws-sdks-and-tools/\n",
      "  warnings.warn(warning, PythonDeprecationWarning)\n"
     ]
    }
   ],
   "source": [
    "import sagemaker\n",
    "from sagemaker import image_uris\n",
    "import boto3\n",
    "import os\n",
    "import time\n",
    "import json\n",
    "\n",
    "role = sagemaker.get_execution_role()  # execution role for the endpoint\n",
    "sess = sagemaker.session.Session()  # sagemaker session for interacting with different AWS APIs\n",
    "bucket = sess.default_bucket()  # bucket to house artifacts\n",
    "\n",
    "region = sess._region_name\n",
    "account_id = sess.account_id()\n",
    "\n",
    "s3_client = boto3.client(\"s3\")\n",
    "sm_client = boto3.client(\"sagemaker\")\n",
    "smr_client = boto3.client(\"sagemaker-runtime\")"
   ]
  },
  {
   "cell_type": "code",
   "execution_count": 5,
   "id": "68394e44-4d51-48ae-adc1-d02f520a5d4d",
   "metadata": {
    "tags": []
   },
   "outputs": [
    {
     "name": "stdout",
     "output_type": "stream",
     "text": [
      "s3_code_prefix: LLM-RAG/workshop/sentence2emb_deploy_code\n",
      "model_snapshot_path: sentence2emb-model/models--sentence-transformers--paraphrase-multilingual-mpnet-base-v2/snapshots/ef15aed8b328d308d7237b9bf15269f2cd19e268\n"
     ]
    }
   ],
   "source": [
    "s3_model_prefix = \"LLM-RAG/workshop/sentence2emb-model\"  # folder where model checkpoint will go\n",
    "model_snapshot_path = list(local_model_path.glob(\"**/snapshots/*\"))[0]\n",
    "s3_code_prefix = \"LLM-RAG/workshop/sentence2emb_deploy_code\"\n",
    "print(f\"s3_code_prefix: {s3_code_prefix}\")\n",
    "print(f\"model_snapshot_path: {model_snapshot_path}\")"
   ]
  },
  {
   "cell_type": "code",
   "execution_count": 52,
   "id": "0b9e177a-886d-4838-891e-2e612a3cbc9d",
   "metadata": {
    "tags": []
   },
   "outputs": [
    {
     "name": "stdout",
     "output_type": "stream",
     "text": [
      "upload: sentence2emb-model/models--sentence-transformers--paraphrase-multilingual-mpnet-base-v2/snapshots/ef15aed8b328d308d7237b9bf15269f2cd19e268/README.md to s3://sagemaker-cn-north-1-507392672631/LLM-RAG/workshop/sentence2emb-model/README.md\n",
      "upload: sentence2emb-model/models--sentence-transformers--paraphrase-multilingual-mpnet-base-v2/snapshots/ef15aed8b328d308d7237b9bf15269f2cd19e268/.gitattributes to s3://sagemaker-cn-north-1-507392672631/LLM-RAG/workshop/sentence2emb-model/.gitattributes\n",
      "upload: sentence2emb-model/models--sentence-transformers--paraphrase-multilingual-mpnet-base-v2/snapshots/ef15aed8b328d308d7237b9bf15269f2cd19e268/modules.json to s3://sagemaker-cn-north-1-507392672631/LLM-RAG/workshop/sentence2emb-model/modules.json\n",
      "upload: sentence2emb-model/models--sentence-transformers--paraphrase-multilingual-mpnet-base-v2/snapshots/ef15aed8b328d308d7237b9bf15269f2cd19e268/config_sentence_transformers.json to s3://sagemaker-cn-north-1-507392672631/LLM-RAG/workshop/sentence2emb-model/config_sentence_transformers.json\n",
      "upload: sentence2emb-model/models--sentence-transformers--paraphrase-multilingual-mpnet-base-v2/snapshots/ef15aed8b328d308d7237b9bf15269f2cd19e268/special_tokens_map.json to s3://sagemaker-cn-north-1-507392672631/LLM-RAG/workshop/sentence2emb-model/special_tokens_map.json\n",
      "upload: sentence2emb-model/models--sentence-transformers--paraphrase-multilingual-mpnet-base-v2/snapshots/ef15aed8b328d308d7237b9bf15269f2cd19e268/config.json to s3://sagemaker-cn-north-1-507392672631/LLM-RAG/workshop/sentence2emb-model/config.json\n",
      "upload: sentence2emb-model/models--sentence-transformers--paraphrase-multilingual-mpnet-base-v2/snapshots/ef15aed8b328d308d7237b9bf15269f2cd19e268/sentence_bert_config.json to s3://sagemaker-cn-north-1-507392672631/LLM-RAG/workshop/sentence2emb-model/sentence_bert_config.json\n",
      "upload: sentence2emb-model/models--sentence-transformers--paraphrase-multilingual-mpnet-base-v2/snapshots/ef15aed8b328d308d7237b9bf15269f2cd19e268/1_Pooling/config.json to s3://sagemaker-cn-north-1-507392672631/LLM-RAG/workshop/sentence2emb-model/1_Pooling/config.json\n",
      "upload: sentence2emb-model/models--sentence-transformers--paraphrase-multilingual-mpnet-base-v2/snapshots/ef15aed8b328d308d7237b9bf15269f2cd19e268/sentencepiece.bpe.model to s3://sagemaker-cn-north-1-507392672631/LLM-RAG/workshop/sentence2emb-model/sentencepiece.bpe.model\n",
      "upload: sentence2emb-model/models--sentence-transformers--paraphrase-multilingual-mpnet-base-v2/snapshots/ef15aed8b328d308d7237b9bf15269f2cd19e268/tokenizer_config.json to s3://sagemaker-cn-north-1-507392672631/LLM-RAG/workshop/sentence2emb-model/tokenizer_config.json\n",
      "upload: sentence2emb-model/models--sentence-transformers--paraphrase-multilingual-mpnet-base-v2/snapshots/ef15aed8b328d308d7237b9bf15269f2cd19e268/tokenizer.json to s3://sagemaker-cn-north-1-507392672631/LLM-RAG/workshop/sentence2emb-model/tokenizer.json\n",
      "upload: sentence2emb-model/models--sentence-transformers--paraphrase-multilingual-mpnet-base-v2/snapshots/ef15aed8b328d308d7237b9bf15269f2cd19e268/pytorch_model.bin to s3://sagemaker-cn-north-1-507392672631/LLM-RAG/workshop/sentence2emb-model/pytorch_model.bin\n",
      "upload: sentence2emb-model/models--sentence-transformers--paraphrase-multilingual-mpnet-base-v2/snapshots/ef15aed8b328d308d7237b9bf15269f2cd19e268/tf_model.h5 to s3://sagemaker-cn-north-1-507392672631/LLM-RAG/workshop/sentence2emb-model/tf_model.h5\n"
     ]
    }
   ],
   "source": [
    "#上传模型至S3\n",
    "!aws s3 cp --recursive {model_snapshot_path} s3://{bucket}/{s3_model_prefix}"
   ]
  },
  {
   "cell_type": "markdown",
   "id": "59f35a6f-5988-42ec-87b0-de36eaebe41b",
   "metadata": {
    "tags": []
   },
   "source": [
    "### 3. 模型部署准备（entrypoint脚本，容器镜像，服务配置）"
   ]
  },
  {
   "cell_type": "code",
   "execution_count": 6,
   "id": "86daea77-a7ae-46b8-8800-212d07ce5605",
   "metadata": {
    "tags": []
   },
   "outputs": [
    {
     "name": "stdout",
     "output_type": "stream",
     "text": [
      "Image going to be used is ---- > 727897471807.dkr.ecr.cn-north-1.amazonaws.com.cn/djl-inference:0.21.0-deepspeed0.8.3-cu117\n"
     ]
    }
   ],
   "source": [
    "#适用于global\n",
    "#inference_image_uri = (\n",
    "#    f\"763104351884.dkr.ecr.{region}.amazonaws.com/djl-inference:0.21.0-deepspeed0.8.3-cu117\"\n",
    "#)\n",
    "\n",
    "#中国区需要替换为下面的image_uri\n",
    "inference_image_uri = (\n",
    "     f\"727897471807.dkr.ecr.{region}.amazonaws.com.cn/djl-inference:0.21.0-deepspeed0.8.3-cu117\"\n",
    ")\n",
    "\n",
    "print(f\"Image going to be used is ---- > {inference_image_uri}\")"
   ]
  },
  {
   "cell_type": "code",
   "execution_count": 7,
   "id": "49435172-e6c5-492a-8dcb-43e3fffb0f5c",
   "metadata": {
    "tags": []
   },
   "outputs": [],
   "source": [
    "!mkdir -p sentence2emb_deploy_code"
   ]
  },
  {
   "cell_type": "code",
   "execution_count": 8,
   "id": "70990dd3-431e-4dd0-a494-d26ceb454945",
   "metadata": {
    "tags": []
   },
   "outputs": [
    {
     "name": "stdout",
     "output_type": "stream",
     "text": [
      "Overwriting sentence2emb_deploy_code/model.py\n"
     ]
    }
   ],
   "source": [
    "%%writefile sentence2emb_deploy_code/model.py\n",
    "from djl_python import Input, Output\n",
    "import torch\n",
    "import logging\n",
    "import math\n",
    "import os\n",
    "from transformers import pipeline, AutoModelForCausalLM, AutoTokenizer, AutoModel\n",
    "\n",
    "device = torch.device('cuda:0' if torch.cuda.is_available() else 'cpu')\n",
    "print(f'--device={device}')\n",
    "\n",
    "\n",
    "def load_model(properties):\n",
    "    tensor_parallel = properties[\"tensor_parallel_degree\"]\n",
    "    model_location = properties['model_dir']\n",
    "    if \"model_id\" in properties:\n",
    "        model_location = properties['model_id']\n",
    "    logging.info(f\"Loading model in {model_location}\")\n",
    "    \n",
    "    tokenizer = AutoTokenizer.from_pretrained(model_location)\n",
    "   \n",
    "    model = AutoModel.from_pretrained(\n",
    "        model_location, \n",
    "        # device_map=\"balanced_low_0\", \n",
    "        #load_in_8bit=True\n",
    "    )\n",
    "    # load the model on GPU\n",
    "    model.to(device) \n",
    "    model.requires_grad_(False)\n",
    "    model.eval()\n",
    "    \n",
    "    return model, tokenizer\n",
    "\n",
    "\n",
    "model = None\n",
    "tokenizer = None\n",
    "generator = None\n",
    "\n",
    "def mean_pooling(model_output, attention_mask):\n",
    "    token_embeddings = model_output[0].to(device) #First element of model_output contains all token embeddings\n",
    "    input_mask_expanded = attention_mask.unsqueeze(-1).expand(token_embeddings.size()).float().to(device)\n",
    "    return torch.sum(token_embeddings * input_mask_expanded, 1) / torch.clamp(input_mask_expanded.sum(1), min=1e-9)\n",
    "\n",
    "\n",
    "def handle(inputs: Input):\n",
    "    global model, tokenizer\n",
    "    if not model:\n",
    "        model, tokenizer = load_model(inputs.get_properties())\n",
    "\n",
    "    if inputs.is_empty():\n",
    "        return None\n",
    "    data = inputs.get_as_json()\n",
    "    \n",
    "    input_sentences = data[\"inputs\"]\n",
    "    #params = data[\"parameters\"]\n",
    "    logging.info(f\"inputs: {input_sentences}\")\n",
    "    #logging.info(f\"parameters: {params}\")\n",
    "    \n",
    "    encoded_input = tokenizer(input_sentences, padding=True, truncation=True, max_length=128, return_tensors='pt').to(device)\n",
    "    # Compute token embeddings\n",
    "    with torch.no_grad():\n",
    "        model_output = model(**encoded_input)\n",
    "\n",
    "    # Perform pooling. In this case, max pooling.\n",
    "    sentence_embeddings = mean_pooling(model_output, encoded_input['attention_mask']).to(device).cpu().numpy()\n",
    "\n",
    "#     # preprocess\n",
    "#     input_ids = tokenizer(input_sentences, return_tensors=\"pt\").input_ids\n",
    "#     # pass inputs with all kwargs in data\n",
    "#     if params is not None:\n",
    "#         outputs = model.generate(input_ids, **params)\n",
    "#     else:\n",
    "#         outputs = model.generate(input_ids)\n",
    "\n",
    "#     # postprocess the prediction\n",
    "#     prediction = tokenizer.decode(outputs[0], skip_special_tokens=True)\n",
    "    \n",
    "    result = {\"sentence_embeddings\": sentence_embeddings}\n",
    "    return Output().add_as_json(result)"
   ]
  },
  {
   "cell_type": "code",
   "execution_count": 9,
   "id": "e01a0f2a-a8d6-4134-a727-c5c0f1ad092b",
   "metadata": {
    "tags": []
   },
   "outputs": [
    {
     "name": "stdout",
     "output_type": "stream",
     "text": [
      "option.s3url ==> s3://sagemaker-cn-north-1-507392672631/LLM-RAG/workshop/sentence2emb-model/\n"
     ]
    }
   ],
   "source": [
    "print(f\"option.s3url ==> s3://{bucket}/{s3_model_prefix}/\")\n",
    "\n",
    "#使用打印出来的URL，替换下面一段代码中的S3Url"
   ]
  },
  {
   "cell_type": "markdown",
   "id": "a1e1ecec-79cf-4ed4-bba1-95e2fe79daea",
   "metadata": {},
   "source": [
    "#### Note: option.s3url 需要按照自己的账号进行修改, 可以拷贝上一个cell的输出"
   ]
  },
  {
   "cell_type": "code",
   "execution_count": 10,
   "id": "ab5ee385-5c6c-493c-bd40-9b57ae0c8e1d",
   "metadata": {
    "tags": []
   },
   "outputs": [
    {
     "name": "stdout",
     "output_type": "stream",
     "text": [
      "Overwriting sentence2emb_deploy_code/serving.properties\n"
     ]
    }
   ],
   "source": [
    "%%writefile sentence2emb_deploy_code/serving.properties\n",
    "engine=Python\n",
    "option.tensor_parallel_degree=1\n",
    "option.s3url = s3://sagemaker-cn-north-1-507392672631/LLM-RAG/workshop/sentence2emb-model/"
   ]
  },
  {
   "cell_type": "code",
   "execution_count": 11,
   "id": "ffe41472-c2cf-4bb5-99aa-84df76c629b3",
   "metadata": {
    "tags": []
   },
   "outputs": [
    {
     "name": "stdout",
     "output_type": "stream",
     "text": [
      "sentence2emb_deploy_code/\n",
      "sentence2emb_deploy_code/serving.properties\n",
      "sentence2emb_deploy_code/model.py\n"
     ]
    }
   ],
   "source": [
    "!rm s2e_model.tar.gz\n",
    "!cd sentence2emb_deploy_code && rm -rf \".ipynb_checkpoints\"\n",
    "!tar czvf s2e_model.tar.gz sentence2emb_deploy_code"
   ]
  },
  {
   "cell_type": "code",
   "execution_count": 12,
   "id": "1fabd7ce-b855-4569-857c-ad872662800b",
   "metadata": {
    "tags": []
   },
   "outputs": [
    {
     "name": "stdout",
     "output_type": "stream",
     "text": [
      "S3 Code or Model tar ball uploaded to --- > s3://sagemaker-cn-north-1-507392672631/LLM-RAG/workshop/sentence2emb_deploy_code/s2e_model.tar.gz\n"
     ]
    }
   ],
   "source": [
    "s3_code_artifact = sess.upload_data(\"s2e_model.tar.gz\", bucket, s3_code_prefix)\n",
    "print(f\"S3 Code or Model tar ball uploaded to --- > {s3_code_artifact}\")"
   ]
  },
  {
   "cell_type": "markdown",
   "id": "18fb01ed-6bd3-4880-a647-cfd71e692820",
   "metadata": {
    "tags": []
   },
   "source": [
    "### 4. 创建模型 & 创建endpoint"
   ]
  },
  {
   "cell_type": "code",
   "execution_count": 13,
   "id": "e6209d24-8473-4256-93d3-02e4e144386b",
   "metadata": {
    "tags": []
   },
   "outputs": [
    {
     "name": "stdout",
     "output_type": "stream",
     "text": [
      "huggingface-inference-eb\n",
      "Image going to be used is ---- > 727897471807.dkr.ecr.cn-north-1.amazonaws.com.cn/djl-inference:0.21.0-deepspeed0.8.3-cu117\n",
      "Created Model: arn:aws-cn:sagemaker:cn-north-1:507392672631:model/huggingface-inference-eb\n"
     ]
    }
   ],
   "source": [
    "from sagemaker.utils import name_from_base\n",
    "import boto3\n",
    "\n",
    "model_name ='huggingface-inference-eb' # name_from_base(\"st-paraphrase-mpnet-base-v2\") Note: Need to specify model_name\n",
    "print(model_name)\n",
    "print(f\"Image going to be used is ---- > {inference_image_uri}\")\n",
    "\n",
    "create_model_response = sm_client.create_model(\n",
    "    ModelName=model_name,\n",
    "    ExecutionRoleArn=role,\n",
    "    PrimaryContainer={\n",
    "        \"Image\": inference_image_uri,\n",
    "        \"ModelDataUrl\": s3_code_artifact\n",
    "    },\n",
    "    \n",
    ")\n",
    "model_arn = create_model_response[\"ModelArn\"]\n",
    "\n",
    "print(f\"Created Model: {model_arn}\")"
   ]
  },
  {
   "cell_type": "code",
   "execution_count": 18,
   "id": "686abae8-5db7-4ebd-9fbf-5bd54f36c0ab",
   "metadata": {
    "tags": []
   },
   "outputs": [
    {
     "data": {
      "text/plain": [
       "{'EndpointConfigArn': 'arn:aws-cn:sagemaker:cn-north-1:507392672631:endpoint-config/huggingface-inference-eb',\n",
       " 'ResponseMetadata': {'RequestId': 'a65f623f-d295-491c-bdd1-fd81f4469f89',\n",
       "  'HTTPStatusCode': 200,\n",
       "  'HTTPHeaders': {'x-amzn-requestid': 'a65f623f-d295-491c-bdd1-fd81f4469f89',\n",
       "   'content-type': 'application/x-amz-json-1.1',\n",
       "   'content-length': '109',\n",
       "   'date': 'Wed, 26 Jul 2023 01:15:39 GMT'},\n",
       "  'RetryAttempts': 0}}"
      ]
     },
     "execution_count": 18,
     "metadata": {},
     "output_type": "execute_result"
    }
   ],
   "source": [
    "endpoint_config_name =model_name  # f\"{model_name}-config\"\n",
    "endpoint_name = model_name # f\"{model_name}-endpoint\"\n",
    "\n",
    "endpoint_config_response = sm_client.create_endpoint_config(\n",
    "    EndpointConfigName=endpoint_config_name,\n",
    "    ProductionVariants=[\n",
    "        {\n",
    "            \"VariantName\": \"variant1\",\n",
    "            \"ModelName\": model_name,\n",
    "            \"InstanceType\": \"ml.m5.2xlarge\",\n",
    "            \"InitialInstanceCount\": 1,\n",
    "            # \"VolumeSizeInGB\" : 400,\n",
    "            # \"ModelDataDownloadTimeoutInSeconds\": 2400,\n",
    "            #\"ContainerStartupHealthCheckTimeoutInSeconds\": 15*60,\n",
    "        },\n",
    "    ],\n",
    ")\n",
    "endpoint_config_response"
   ]
  },
  {
   "cell_type": "code",
   "execution_count": 19,
   "id": "f4c1df06-ae4a-42e2-9695-da0afa9ad734",
   "metadata": {
    "tags": []
   },
   "outputs": [
    {
     "name": "stdout",
     "output_type": "stream",
     "text": [
      "Created Endpoint: arn:aws-cn:sagemaker:cn-north-1:507392672631:endpoint/huggingface-inference-eb\n"
     ]
    }
   ],
   "source": [
    "create_endpoint_response = sm_client.create_endpoint(\n",
    "    EndpointName=f\"{endpoint_name}\", EndpointConfigName=endpoint_config_name\n",
    ")\n",
    "print(f\"Created Endpoint: {create_endpoint_response['EndpointArn']}\")"
   ]
  },
  {
   "cell_type": "code",
   "execution_count": 24,
   "id": "d9c71240-6878-4fed-bf7d-2c1cf75f4ac5",
   "metadata": {
    "tags": []
   },
   "outputs": [
    {
     "name": "stdout",
     "output_type": "stream",
     "text": [
      "Status: InService\n",
      "Arn: arn:aws-cn:sagemaker:cn-north-1:507392672631:endpoint/huggingface-inference-eb\n",
      "Status: InService\n"
     ]
    }
   ],
   "source": [
    "import time\n",
    "\n",
    "resp = sm_client.describe_endpoint(EndpointName=endpoint_name)\n",
    "status = resp[\"EndpointStatus\"]\n",
    "print(\"Status: \" + status)\n",
    "\n",
    "while status == \"Creating\":\n",
    "    time.sleep(60)\n",
    "    resp = sm_client.describe_endpoint(EndpointName=endpoint_name)\n",
    "    status = resp[\"EndpointStatus\"]\n",
    "    print(\"Status: \" + status)\n",
    "\n",
    "print(\"Arn: \" + resp[\"EndpointArn\"])\n",
    "print(\"Status: \" + status)"
   ]
  },
  {
   "cell_type": "markdown",
   "id": "dddba20e-fc18-480d-9940-ae39695ac450",
   "metadata": {},
   "source": [
    "### 5. 模型测试"
   ]
  },
  {
   "cell_type": "code",
   "execution_count": 34,
   "id": "1b080d71-4ef6-48e8-b3fb-9d680ee2b27a",
   "metadata": {
    "tags": []
   },
   "outputs": [],
   "source": [
    "import json\n",
    "import boto3\n",
    "\n",
    "client = boto3.client('runtime.sagemaker')\n",
    "sagemaker_endpoint_name='huggingface-inference-eb'\n",
    "def query_endpoint_with_json_payload(encoded_json):\n",
    "    response = client.invoke_endpoint(EndpointName=sagemaker_endpoint_name, ContentType='application/json', Body=encoded_json)\n",
    "    return response\n",
    "\n",
    "def parse_response_texts(query_response):\n",
    "    model_predictions = json.loads(query_response['Body'].read().decode())[\"sentence_embeddings\"][0]\n",
    "    return model_predictions"
   ]
  },
  {
   "cell_type": "code",
   "execution_count": 35,
   "id": "2b606a93-b95f-44c8-a49d-f1f872ed3bb7",
   "metadata": {
    "tags": []
   },
   "outputs": [
    {
     "name": "stdout",
     "output_type": "stream",
     "text": [
      "[-0.12521730363368988, 0.2502457797527313, -0.013064060360193253, 0.14751036465168, 0.016352377831935883, -0.017079565674066544, 0.04104416444897652, 0.07401400059461594, -0.18623726069927216, 0.12278955429792404, 0.06886740773916245, -0.11821896582841873, 0.03908061981201172, 0.07440903037786484, -0.02016199566423893, -0.04706340655684471, 0.04633846879005432, 0.10912833362817764, -0.01183522492647171, 0.046977099031209946, -0.16664643585681915, 0.07970565557479858, -0.016082575544714928, -0.1335858404636383, -0.055878836661577225, 0.05830445885658264, 0.01913566142320633, 0.0978635773062706, 0.0896669253706932, 0.10881119966506958, 0.18714867532253265, -0.03160532936453819, 0.042882855981588364, -0.10674696415662766, 0.08015307039022446, -0.09056664258241653, -0.15545257925987244, 0.03958350419998169, -0.19200997054576874, 0.05435919389128685, -0.06212450936436653, 0.1995542049407959, -0.09535843878984451, -0.027603259310126305, -0.15842871367931366, 0.07218793034553528, -0.07025878876447678, 0.28722503781318665, -0.061276692897081375, 0.06500536948442459, 0.06507530063390732, 0.049638647586107254, 0.0004261086287442595, 0.028409332036972046, 0.40945005416870117, -0.2237677425146103, -0.09218350797891617, 0.08113501220941544, -0.05835404992103577, 0.12299227714538574, 0.09293529391288757, -0.030070772394537926, 0.08066370338201523, 0.053016167134046555, -0.18007345497608185, 0.05830375477671623, 0.2461136132478714, -0.07072019577026367, -0.08024532347917557, -0.0807214304804802, -0.02056095190346241, 0.17104299366474152, -0.02835325337946415, 0.297140508890152, -0.07513581961393356, -0.180129274725914, 0.005918629467487335, 0.0430891215801239, -0.027276525273919106, -0.01905781589448452, -0.060008201748132706, 0.05739561840891838, -0.020586566999554634, -0.0011587031185626984, -0.1398668736219406, 0.08856741338968277, -0.02589709497988224, -0.03806889429688454, -0.10859382897615433, -0.058179572224617004, -0.1614532768726349, -0.034525200724601746, 0.02899359166622162, -0.020029256120324135, 0.18759973347187042, 0.0012477386044338346, 0.030002260580658913, 0.16112332046031952, 0.07944414764642715, 0.10917351394891739, -0.16236919164657593, 0.022731883451342583, -0.09189009666442871, -0.0326574333012104, -0.06956717371940613, -0.19082720577716827, 0.06292831152677536, -0.0895930752158165, -0.10297427326440811, 0.13006483018398285, 0.054744038730859756, -0.05400216579437256, -0.03462739288806915, -0.08155238628387451, 0.09150282293558121, -0.00669889897108078, 0.06712916493415833, -0.05941025912761688, 0.12306296080350876, 0.06420128792524338, 0.04618431627750397, -0.04402095451951027, 0.0027848565950989723, -0.014118541032075882, 0.09263914823532104, 0.09206197410821915, -0.03976231440901756, -0.07909629493951797, -0.08383467048406601, -0.014621991664171219, 0.007596639916300774, -0.0640190839767456, 4.173567049292615e-06, -0.0561661534011364, 0.10307479649782181, -0.11859756708145142, 0.03321458026766777, -0.06881072372198105, 0.15339094400405884, -0.07553160935640335, 0.08771318197250366, -0.0005090720951557159, -0.08808358758687973, -0.015281728468835354, -0.09001625329256058, 0.05764668807387352, -0.07570496946573257, -0.17769299447536469, 0.02979450486600399, 0.09740006178617477, 0.14526939392089844, 0.03905902057886124, -0.22336632013320923, -0.010029830038547516, 0.1286868155002594, 0.04945872724056244, 0.11068254709243774, -0.2011728286743164, -0.0848841443657875, -0.06618878245353699, 0.05351005867123604, 0.03811843320727348, -0.06081366539001465, 0.08309356123209, 0.18503761291503906, 0.0016693311044946313, 0.06301039457321167, -0.04081476852297783, 0.2067832201719284, -0.11191270500421524, -0.07711753249168396, -0.05136827751994133, 0.004464887548238039, -0.0909297987818718, 0.10390853881835938, -0.04949783906340599, 0.14786189794540405, 0.10479021072387695, -0.21265995502471924, -0.0514875203371048, -0.02356838434934616, -0.2404952049255371, -0.05202627554535866, 0.13555783033370972, -0.1245880126953125, -0.0667150691151619, 0.07470332831144333, 0.09518750756978989, -0.036928966641426086, 0.006345091853290796, 0.06121049448847771, -0.02365904301404953, -0.07861741632223129, 0.08204159140586853, 0.026524297893047333, -0.03184789419174194, 0.005904422607272863, 0.24993495643138885, 0.016888989135622978, -0.03560095652937889, -0.0066926865838468075, -0.08632897585630417, 0.24228639900684357, -0.0889647975564003, -0.05398613214492798, -0.09383081644773483, 0.036198053508996964, -0.11317426711320877, -0.10846742242574692, 0.022386064752936363, 0.17746774852275848, 0.08436880260705948, 0.04177780821919441, -0.03537838160991669, -0.004340674262493849, -0.07879141718149185, 0.02591809444129467, 0.002109913155436516, 0.0033986102789640427, 0.06919471174478531, -0.08364555239677429, -0.10422876477241516, 0.00018203072249889374, 0.042432751506567, -0.21149182319641113, -0.04330306872725487, -0.06645370274782181, -0.04042955860495567, 0.01482701301574707, 0.06542445719242096, -0.013005570508539677, 0.041151080280542374, 0.07371722161769867, 0.06322728842496872, 0.04377179965376854, -0.10315338522195816, 0.04840749502182007, 0.008898369036614895, 0.13520704209804535, 0.10774105787277222, -0.1059366837143898, -0.11767730116844177, -0.045713555067777634, 0.11050405353307724, 0.04785021021962166, 0.03183917701244354, -0.17170004546642303, 0.016973266378045082, 0.021358320489525795, 0.01586535945534706, 0.029632965102791786, 0.08786430954933167, 0.04210421070456505, 0.058893799781799316, 0.04444676637649536, 0.2966981530189514, 0.02072739414870739, 0.048263292759656906, 0.05572691559791565, -0.10115762799978256, -0.08487669378519058, -0.006807052996009588, -0.03358319774270058, -0.017312059178948402, 0.1206749901175499, 0.09122494608163834, 0.10506763309240341, 0.07260141521692276, -0.039720673114061356, -0.07169138640165329, 0.03757919743657112, -0.057256072759628296, 0.005224119871854782, -0.049332957714796066, 0.0559055395424366, -0.04500924423336983, -0.24432672560214996, -0.2049597054719925, -0.10766809433698654, 0.017243225127458572, 0.15092827379703522, -0.1898031085729599, 0.010770627297461033, 0.02130502462387085, -0.0052153319120407104, -0.007249502465128899, 0.0806591734290123, 0.021872347220778465, -0.0719149261713028, -0.20840804278850555, -0.0012967778602614999, -0.0008069804753176868, 0.07190129905939102, 0.00653635011985898, 0.059869974851608276, -0.08949995040893555, -0.08987046033143997, 0.04071522504091263, 0.07259269803762436, 0.00425088033080101, 0.048735905438661575, 0.009896479547023773, -0.0002546730393078178, -0.010128251276910305, -0.12151303142309189, 0.01948137767612934, 0.07744087278842926, -0.19965320825576782, -0.0036384649574756622, 0.11203404515981674, -0.07005547732114792, 0.06562791019678116, 0.017619429156184196, 0.05736612156033516, 0.034100692719221115, 0.08857917040586472, -0.05435968562960625, 0.014565701596438885, 0.06353378295898438, 0.20335769653320312, 0.10905829817056656, 0.007745564449578524, 0.0686824843287468, 0.08342950791120529, -0.10174572467803955, -0.08096440881490707, 0.14559727907180786, 0.04438282549381256, 0.14112812280654907, 0.08221978694200516, 0.06371361762285233, -0.02150488831102848, 0.10686221718788147, 0.030156990513205528, -0.02732645533978939, -0.05680432915687561, 0.043186966329813004, -0.01655668206512928, -0.008092202246189117, 0.0037702128756791353, -0.04363696277141571, -0.05683475732803345, 0.04975414276123047, -0.06765937060117722, 0.055762916803359985, 0.046774860471487045, -0.26441481709480286, -0.08835770934820175, 0.03276786208152771, 0.12852780520915985, 0.17694468796253204, 0.005813345778733492, -0.021647917106747627, -0.08704909682273865, 0.030221989378333092, -0.030952973291277885, -0.027045434340834618, -0.040494099259376526, 0.06132001802325249, 0.009666316211223602, -0.06989332288503647, -0.17636851966381073, 0.11401238292455673, 0.1099754348397255, 0.10491415858268738, -0.04652603343129158, 0.026789508759975433, -0.081464022397995, -0.15602107346057892, 0.1355321854352951, -0.03150216117501259, 0.07824484258890152, -0.10385208576917648, -0.013941618613898754, 0.1378697156906128, 0.029115403071045876, 0.013993139378726482, -0.22175578773021698, -0.15434180200099945, -0.1077289953827858, -0.13054777681827545, -0.02799978293478489, 0.15373249351978302, -0.014197704382240772, -0.029102668166160583, 0.10897643119096756, 0.0408184640109539, 0.08638599514961243, -0.02183636464178562, 0.05205152928829193, 0.04526129364967346, 0.12449344992637634, -0.06034073233604431, -0.06996619701385498, 0.06534694880247116, -0.1233057752251625, 0.10768171399831772, 0.0933045968413353, 0.07248332351446152, -0.007061537355184555, -0.05917518958449364, 0.0654020681977272, -0.027003465220332146, 0.07838565856218338, -0.06873305886983871, -0.19976365566253662, 0.00800856202840805, 0.06183898448944092, -0.1699071079492569, -0.10903104394674301, -0.1085675060749054, -0.04607130587100983, -0.05327923968434334, 0.03408950939774513, -0.05358380079269409, -0.055854517966508865, -0.0905556008219719, -0.04327141121029854, -0.036728259176015854, -0.14851026237010956, -0.14732792973518372, 0.017232196405529976, 0.0374334417283535, 0.08721724897623062, 0.071515291929245, -0.046751949936151505, 0.03530757501721382, 0.07199040055274963, 0.11756028980016708, -0.12236937135457993, 0.034543056041002274, 0.13352668285369873, -0.005601232405751944, 0.1454044133424759, -0.11543681472539902, -0.1398618221282959, -0.04627736285328865, 0.06652430444955826, 0.012315203435719013, -0.030613085255026817, 0.07194175571203232, -0.003010053187608719, 0.32458552718162537, 0.01444675400853157, -0.19009500741958618, 0.19743837416172028, -0.018110139295458794, -0.023577341809868813, -0.121017687022686, -0.014902596361935139, 0.05000825598835945, -0.04064203053712845, -0.13717930018901825, 0.056503403931856155, 0.08850912004709244, -0.010250690393149853, 0.10164038091897964, 0.11706274002790451, 0.07685043662786484, 0.09296681731939316, 0.1290113627910614, 0.6290425658226013, -0.09309262037277222, -0.014888621866703033, 0.06187649071216583, -0.3353968560695648, 0.09972808510065079, -0.035948123782873154, 0.037404607981443405, -0.10746011883020401, -0.165476456284523, 0.03403031453490257, -0.010411723516881466, -0.025920169427990913, -0.017580384388566017, 0.0404217392206192, -0.16030628979206085, -0.36927327513694763, -0.2223368138074875, -0.10656166821718216, 0.007610447704792023, 0.028888577595353127, 0.005056662950664759, -0.13957162201404572, 0.012375685386359692, -0.12629282474517822, -0.03801276534795761, -0.07243310660123825, 0.01053441409021616, -0.0015241404762491584, 0.03373701870441437, 0.03419838473200798, 0.045332085341215134, 0.2620082199573517, -0.08102180063724518, 0.22128331661224365, -0.08809033781290054, -0.037670452147722244, -0.16578543186187744, 0.0855117067694664, -0.038167208433151245, -0.14157553017139435, 0.03274946287274361, -0.23779404163360596, 0.01909683644771576, 0.1530693620443344, 0.0740434005856514, -0.03844333067536354, 0.07496608048677444, 0.01676448993384838, -0.0057749152183532715, 0.10268052667379379, 0.04942964389920235, 0.07239221781492233, -0.021895574405789375, -0.10786496847867966, -0.09170662611722946, 0.07635357975959778, 0.1547958105802536, -0.09728921204805374, 0.05589869245886803, 0.021530209109187126, -0.09563132375478745, -0.01423928514122963, -0.12760494649410248, 0.13370972871780396, -0.0004084057582076639, -0.004672399256378412, -0.1043604388833046, -0.005676446948200464, -0.003923896700143814, -0.01088616531342268, 0.22797875106334686, 0.04375162720680237, -0.006881608162075281, 0.07558602094650269, 0.11869097501039505, -0.2309575080871582, -0.020306460559368134, -0.11293558031320572, -0.015571631491184235, 0.1230134591460228, 0.49541011452674866, -0.06376871466636658, 0.03856473043560982, 0.05623449757695198, 0.07019423693418503, 0.027410613372921944, -0.08628848940134048, -0.05810236930847168, 0.1329631209373474, 0.02032526023685932, -0.18780483305454254, 0.03948947414755821, -0.018907399848103523, -0.09551441669464111, -0.02482697181403637, -0.06788787990808487, 0.0211844053119421, -0.32978156208992004, -0.1315925568342209, -0.153459370136261, 0.006105488166213036, -0.004792371764779091, 0.012889982201159, -0.024246126413345337, -0.014493043534457684, -0.03611021861433983, 0.1496882438659668, -0.006074754521250725, -0.07363321632146835, -0.010560371913015842, 0.12418100237846375, -0.046769872307777405, -0.03397704288363457, -0.023616038262844086, 0.021447673439979553, 0.04694981873035431, 0.0774213969707489, -0.050064459443092346, -0.032079413533210754, -0.03467503562569618, -0.04741276428103447, -0.004797885660082102, 0.02105747163295746, 0.019781824201345444, -0.0369933545589447, 0.027598917484283447, -0.034541767090559006, -0.021711111068725586, 0.008916745893657207, 0.14160890877246857, 0.02055162750184536, -0.11431244760751724, -0.07045046240091324, -0.0764147937297821, 0.2479829341173172, -0.001184749067761004, 0.009617450647056103, 0.04667051509022713, 0.020416676998138428, -0.11467377096414566, -0.0005765613168478012, 0.08928235620260239, 0.02621764875948429, -0.10712256282567978, -0.03731963038444519, -0.031979724764823914, 0.0692143663764, -0.20535236597061157, -0.20425941050052643, -0.014082636684179306, 0.0421534888446331, -0.32635703682899475, -0.015452508814632893, -0.12378237396478653, -0.011569492518901825, 0.12711207568645477, -0.11802268028259277, 0.04650866985321045, -0.022846883162856102, -0.09187974780797958, -0.11650592088699341, 0.1359463483095169, -0.09620507806539536, 0.24858863651752472, 0.048466186970472336, 0.20479856431484222, 0.15931262075901031, 0.07009550929069519, -0.01234422717243433, -0.0016071019927039742, -0.13948339223861694, 0.07040253281593323, 0.029067805036902428, 0.12048366665840149, 0.17503128945827484, -0.018026376143097878, -0.07379277050495148, 0.05857746675610542, -0.06193644925951958, 0.14127245545387268, -0.04174208268523216, -0.006059929728507996, 0.048723042011260986, -0.06923133134841919, -0.14268212020397186, 0.3252759873867035, 0.11404839903116226, 0.11036650091409683, -0.11175921559333801, 0.27045223116874695, 0.05674959346652031, 0.0061303190886974335, -0.015340383164584637, 0.009963109157979488, 0.010862578637897968, -0.09234001487493515, 0.024625128135085106, 0.03696754574775696, 0.008389783091843128, 0.1249048113822937, 0.09148488193750381, 0.00964298378676176, 0.10720431804656982, -0.024849750101566315, -0.05701936408877373, 0.047898221760988235, 0.02619181014597416, 0.28068807721138, 0.019670991227030754, 0.048558223992586136, 0.02325507067143917, -0.14015118777751923, -0.07214614003896713, -0.07099655270576477, -0.10306326299905777, 0.17515279352664948, -0.03107275813817978, 0.08101313561201096, -0.1635802984237671, 0.010691951029002666, -0.002811388112604618, -0.0274913739413023, -0.2182316780090332, 0.12634216248989105, -0.034850068390369415, 0.17011220753192902, 0.0587538443505764, 0.0026023786049336195, 3.6740366340382025e-05, 0.1007363572716713, 0.17451971769332886, -0.04748942330479622, -0.14560957252979279, -0.05723322927951813, 0.023216305300593376, 0.08695905655622482, -0.08620738238096237, 0.06475881487131119, 0.08493998646736145, -0.12715524435043335, 0.07419275492429733, 0.07273250818252563, -0.003401418449357152, 0.006592318415641785, -0.040006108582019806, 0.0001583526172908023, 0.024983538314700127, 0.06141712889075279, 0.07098313421010971, -0.019847651943564415, -0.03058566153049469, 0.05496355518698692, -0.04046240821480751, 0.01955449767410755, -0.10440083593130112, -0.11300293356180191, 0.06485237926244736, 0.17688095569610596, -0.0039224824868142605, 0.07541220635175705, -0.1031549945473671, 0.11349032074213028, 0.048969969153404236, 0.007673715706914663, 0.17179234325885773, 0.11403549462556839, -0.12173482030630112, -0.23935860395431519, -0.01046625804156065, 0.035269320011138916, 0.09070751070976257, 0.015545506961643696, 0.1155552789568901, -0.04202883318066597, 0.24791963398456573, -0.1037307158112526, -0.16044670343399048, 0.06534001231193542, -0.01059984415769577, 0.07566847652196884, 0.1221778392791748, 0.028980225324630737, -0.08820978552103043, -0.06354571133852005, -0.0783608928322792, 0.033601388335227966, -0.13667958974838257, -0.08517438173294067, 0.022711729630827904, 0.06673455983400345, -0.008925690315663815, -0.007936248555779457, -0.042616378515958786, 0.0245718564838171, 0.0805564820766449, 0.029843077063560486, 0.007589426357299089, -0.07203344255685806, 0.001304033794440329, 0.08015120774507523, 0.01587153784930706, -0.05790053680539131, -0.02235224097967148, 0.13541238009929657, 0.020536979660391808, -0.09280925989151001]\n"
     ]
    }
   ],
   "source": [
    "data = {\n",
    "  \"inputs\": \"123\",\n",
    "}\n",
    "query_response = query_endpoint_with_json_payload(json.dumps(data).encode('utf-8'))\n",
    "#print(query_response)\n",
    "#display_answer(query_response)\n",
    "generated_texts = parse_response_texts(query_response)\n",
    "print(generated_texts)"
   ]
  },
  {
   "cell_type": "code",
   "execution_count": 29,
   "id": "1f28db25-6996-440c-b004-14f96cfd982d",
   "metadata": {
    "tags": []
   },
   "outputs": [
    {
     "name": "stdout",
     "output_type": "stream",
     "text": [
      "0.07284379005432129\n",
      "{'sentence_embeddings': [[-0.12521730363368988, 0.2502457797527313, -0.013064060360193253, 0.14751036465168, 0.016352377831935883, -0.017079565674066544, 0.04104416444897652, 0.07401400059461594, -0.18623726069927216, 0.12278955429792404, 0.06886740773916245, -0.11821896582841873, 0.03908061981201172, 0.07440903037786484, -0.02016199566423893, -0.04706340655684471, 0.04633846879005432, 0.10912833362817764, -0.01183522492647171, 0.046977099031209946, -0.16664643585681915, 0.07970565557479858, -0.016082575544714928, -0.1335858404636383, -0.055878836661577225, 0.05830445885658264, 0.01913566142320633, 0.0978635773062706, 0.0896669253706932, 0.10881119966506958, 0.18714867532253265, -0.03160532936453819, 0.042882855981588364, -0.10674696415662766, 0.08015307039022446, -0.09056664258241653, -0.15545257925987244, 0.03958350419998169, -0.19200997054576874, 0.05435919389128685, -0.06212450936436653, 0.1995542049407959, -0.09535843878984451, -0.027603259310126305, -0.15842871367931366, 0.07218793034553528, -0.07025878876447678, 0.28722503781318665, -0.061276692897081375, 0.06500536948442459, 0.06507530063390732, 0.049638647586107254, 0.0004261086287442595, 0.028409332036972046, 0.40945005416870117, -0.2237677425146103, -0.09218350797891617, 0.08113501220941544, -0.05835404992103577, 0.12299227714538574, 0.09293529391288757, -0.030070772394537926, 0.08066370338201523, 0.053016167134046555, -0.18007345497608185, 0.05830375477671623, 0.2461136132478714, -0.07072019577026367, -0.08024532347917557, -0.0807214304804802, -0.02056095190346241, 0.17104299366474152, -0.02835325337946415, 0.297140508890152, -0.07513581961393356, -0.180129274725914, 0.005918629467487335, 0.0430891215801239, -0.027276525273919106, -0.01905781589448452, -0.060008201748132706, 0.05739561840891838, -0.020586566999554634, -0.0011587031185626984, -0.1398668736219406, 0.08856741338968277, -0.02589709497988224, -0.03806889429688454, -0.10859382897615433, -0.058179572224617004, -0.1614532768726349, -0.034525200724601746, 0.02899359166622162, -0.020029256120324135, 0.18759973347187042, 0.0012477386044338346, 0.030002260580658913, 0.16112332046031952, 0.07944414764642715, 0.10917351394891739, -0.16236919164657593, 0.022731883451342583, -0.09189009666442871, -0.0326574333012104, -0.06956717371940613, -0.19082720577716827, 0.06292831152677536, -0.0895930752158165, -0.10297427326440811, 0.13006483018398285, 0.054744038730859756, -0.05400216579437256, -0.03462739288806915, -0.08155238628387451, 0.09150282293558121, -0.00669889897108078, 0.06712916493415833, -0.05941025912761688, 0.12306296080350876, 0.06420128792524338, 0.04618431627750397, -0.04402095451951027, 0.0027848565950989723, -0.014118541032075882, 0.09263914823532104, 0.09206197410821915, -0.03976231440901756, -0.07909629493951797, -0.08383467048406601, -0.014621991664171219, 0.007596639916300774, -0.0640190839767456, 4.173567049292615e-06, -0.0561661534011364, 0.10307479649782181, -0.11859756708145142, 0.03321458026766777, -0.06881072372198105, 0.15339094400405884, -0.07553160935640335, 0.08771318197250366, -0.0005090720951557159, -0.08808358758687973, -0.015281728468835354, -0.09001625329256058, 0.05764668807387352, -0.07570496946573257, -0.17769299447536469, 0.02979450486600399, 0.09740006178617477, 0.14526939392089844, 0.03905902057886124, -0.22336632013320923, -0.010029830038547516, 0.1286868155002594, 0.04945872724056244, 0.11068254709243774, -0.2011728286743164, -0.0848841443657875, -0.06618878245353699, 0.05351005867123604, 0.03811843320727348, -0.06081366539001465, 0.08309356123209, 0.18503761291503906, 0.0016693311044946313, 0.06301039457321167, -0.04081476852297783, 0.2067832201719284, -0.11191270500421524, -0.07711753249168396, -0.05136827751994133, 0.004464887548238039, -0.0909297987818718, 0.10390853881835938, -0.04949783906340599, 0.14786189794540405, 0.10479021072387695, -0.21265995502471924, -0.0514875203371048, -0.02356838434934616, -0.2404952049255371, -0.05202627554535866, 0.13555783033370972, -0.1245880126953125, -0.0667150691151619, 0.07470332831144333, 0.09518750756978989, -0.036928966641426086, 0.006345091853290796, 0.06121049448847771, -0.02365904301404953, -0.07861741632223129, 0.08204159140586853, 0.026524297893047333, -0.03184789419174194, 0.005904422607272863, 0.24993495643138885, 0.016888989135622978, -0.03560095652937889, -0.0066926865838468075, -0.08632897585630417, 0.24228639900684357, -0.0889647975564003, -0.05398613214492798, -0.09383081644773483, 0.036198053508996964, -0.11317426711320877, -0.10846742242574692, 0.022386064752936363, 0.17746774852275848, 0.08436880260705948, 0.04177780821919441, -0.03537838160991669, -0.004340674262493849, -0.07879141718149185, 0.02591809444129467, 0.002109913155436516, 0.0033986102789640427, 0.06919471174478531, -0.08364555239677429, -0.10422876477241516, 0.00018203072249889374, 0.042432751506567, -0.21149182319641113, -0.04330306872725487, -0.06645370274782181, -0.04042955860495567, 0.01482701301574707, 0.06542445719242096, -0.013005570508539677, 0.041151080280542374, 0.07371722161769867, 0.06322728842496872, 0.04377179965376854, -0.10315338522195816, 0.04840749502182007, 0.008898369036614895, 0.13520704209804535, 0.10774105787277222, -0.1059366837143898, -0.11767730116844177, -0.045713555067777634, 0.11050405353307724, 0.04785021021962166, 0.03183917701244354, -0.17170004546642303, 0.016973266378045082, 0.021358320489525795, 0.01586535945534706, 0.029632965102791786, 0.08786430954933167, 0.04210421070456505, 0.058893799781799316, 0.04444676637649536, 0.2966981530189514, 0.02072739414870739, 0.048263292759656906, 0.05572691559791565, -0.10115762799978256, -0.08487669378519058, -0.006807052996009588, -0.03358319774270058, -0.017312059178948402, 0.1206749901175499, 0.09122494608163834, 0.10506763309240341, 0.07260141521692276, -0.039720673114061356, -0.07169138640165329, 0.03757919743657112, -0.057256072759628296, 0.005224119871854782, -0.049332957714796066, 0.0559055395424366, -0.04500924423336983, -0.24432672560214996, -0.2049597054719925, -0.10766809433698654, 0.017243225127458572, 0.15092827379703522, -0.1898031085729599, 0.010770627297461033, 0.02130502462387085, -0.0052153319120407104, -0.007249502465128899, 0.0806591734290123, 0.021872347220778465, -0.0719149261713028, -0.20840804278850555, -0.0012967778602614999, -0.0008069804753176868, 0.07190129905939102, 0.00653635011985898, 0.059869974851608276, -0.08949995040893555, -0.08987046033143997, 0.04071522504091263, 0.07259269803762436, 0.00425088033080101, 0.048735905438661575, 0.009896479547023773, -0.0002546730393078178, -0.010128251276910305, -0.12151303142309189, 0.01948137767612934, 0.07744087278842926, -0.19965320825576782, -0.0036384649574756622, 0.11203404515981674, -0.07005547732114792, 0.06562791019678116, 0.017619429156184196, 0.05736612156033516, 0.034100692719221115, 0.08857917040586472, -0.05435968562960625, 0.014565701596438885, 0.06353378295898438, 0.20335769653320312, 0.10905829817056656, 0.007745564449578524, 0.0686824843287468, 0.08342950791120529, -0.10174572467803955, -0.08096440881490707, 0.14559727907180786, 0.04438282549381256, 0.14112812280654907, 0.08221978694200516, 0.06371361762285233, -0.02150488831102848, 0.10686221718788147, 0.030156990513205528, -0.02732645533978939, -0.05680432915687561, 0.043186966329813004, -0.01655668206512928, -0.008092202246189117, 0.0037702128756791353, -0.04363696277141571, -0.05683475732803345, 0.04975414276123047, -0.06765937060117722, 0.055762916803359985, 0.046774860471487045, -0.26441481709480286, -0.08835770934820175, 0.03276786208152771, 0.12852780520915985, 0.17694468796253204, 0.005813345778733492, -0.021647917106747627, -0.08704909682273865, 0.030221989378333092, -0.030952973291277885, -0.027045434340834618, -0.040494099259376526, 0.06132001802325249, 0.009666316211223602, -0.06989332288503647, -0.17636851966381073, 0.11401238292455673, 0.1099754348397255, 0.10491415858268738, -0.04652603343129158, 0.026789508759975433, -0.081464022397995, -0.15602107346057892, 0.1355321854352951, -0.03150216117501259, 0.07824484258890152, -0.10385208576917648, -0.013941618613898754, 0.1378697156906128, 0.029115403071045876, 0.013993139378726482, -0.22175578773021698, -0.15434180200099945, -0.1077289953827858, -0.13054777681827545, -0.02799978293478489, 0.15373249351978302, -0.014197704382240772, -0.029102668166160583, 0.10897643119096756, 0.0408184640109539, 0.08638599514961243, -0.02183636464178562, 0.05205152928829193, 0.04526129364967346, 0.12449344992637634, -0.06034073233604431, -0.06996619701385498, 0.06534694880247116, -0.1233057752251625, 0.10768171399831772, 0.0933045968413353, 0.07248332351446152, -0.007061537355184555, -0.05917518958449364, 0.0654020681977272, -0.027003465220332146, 0.07838565856218338, -0.06873305886983871, -0.19976365566253662, 0.00800856202840805, 0.06183898448944092, -0.1699071079492569, -0.10903104394674301, -0.1085675060749054, -0.04607130587100983, -0.05327923968434334, 0.03408950939774513, -0.05358380079269409, -0.055854517966508865, -0.0905556008219719, -0.04327141121029854, -0.036728259176015854, -0.14851026237010956, -0.14732792973518372, 0.017232196405529976, 0.0374334417283535, 0.08721724897623062, 0.071515291929245, -0.046751949936151505, 0.03530757501721382, 0.07199040055274963, 0.11756028980016708, -0.12236937135457993, 0.034543056041002274, 0.13352668285369873, -0.005601232405751944, 0.1454044133424759, -0.11543681472539902, -0.1398618221282959, -0.04627736285328865, 0.06652430444955826, 0.012315203435719013, -0.030613085255026817, 0.07194175571203232, -0.003010053187608719, 0.32458552718162537, 0.01444675400853157, -0.19009500741958618, 0.19743837416172028, -0.018110139295458794, -0.023577341809868813, -0.121017687022686, -0.014902596361935139, 0.05000825598835945, -0.04064203053712845, -0.13717930018901825, 0.056503403931856155, 0.08850912004709244, -0.010250690393149853, 0.10164038091897964, 0.11706274002790451, 0.07685043662786484, 0.09296681731939316, 0.1290113627910614, 0.6290425658226013, -0.09309262037277222, -0.014888621866703033, 0.06187649071216583, -0.3353968560695648, 0.09972808510065079, -0.035948123782873154, 0.037404607981443405, -0.10746011883020401, -0.165476456284523, 0.03403031453490257, -0.010411723516881466, -0.025920169427990913, -0.017580384388566017, 0.0404217392206192, -0.16030628979206085, -0.36927327513694763, -0.2223368138074875, -0.10656166821718216, 0.007610447704792023, 0.028888577595353127, 0.005056662950664759, -0.13957162201404572, 0.012375685386359692, -0.12629282474517822, -0.03801276534795761, -0.07243310660123825, 0.01053441409021616, -0.0015241404762491584, 0.03373701870441437, 0.03419838473200798, 0.045332085341215134, 0.2620082199573517, -0.08102180063724518, 0.22128331661224365, -0.08809033781290054, -0.037670452147722244, -0.16578543186187744, 0.0855117067694664, -0.038167208433151245, -0.14157553017139435, 0.03274946287274361, -0.23779404163360596, 0.01909683644771576, 0.1530693620443344, 0.0740434005856514, -0.03844333067536354, 0.07496608048677444, 0.01676448993384838, -0.0057749152183532715, 0.10268052667379379, 0.04942964389920235, 0.07239221781492233, -0.021895574405789375, -0.10786496847867966, -0.09170662611722946, 0.07635357975959778, 0.1547958105802536, -0.09728921204805374, 0.05589869245886803, 0.021530209109187126, -0.09563132375478745, -0.01423928514122963, -0.12760494649410248, 0.13370972871780396, -0.0004084057582076639, -0.004672399256378412, -0.1043604388833046, -0.005676446948200464, -0.003923896700143814, -0.01088616531342268, 0.22797875106334686, 0.04375162720680237, -0.006881608162075281, 0.07558602094650269, 0.11869097501039505, -0.2309575080871582, -0.020306460559368134, -0.11293558031320572, -0.015571631491184235, 0.1230134591460228, 0.49541011452674866, -0.06376871466636658, 0.03856473043560982, 0.05623449757695198, 0.07019423693418503, 0.027410613372921944, -0.08628848940134048, -0.05810236930847168, 0.1329631209373474, 0.02032526023685932, -0.18780483305454254, 0.03948947414755821, -0.018907399848103523, -0.09551441669464111, -0.02482697181403637, -0.06788787990808487, 0.0211844053119421, -0.32978156208992004, -0.1315925568342209, -0.153459370136261, 0.006105488166213036, -0.004792371764779091, 0.012889982201159, -0.024246126413345337, -0.014493043534457684, -0.03611021861433983, 0.1496882438659668, -0.006074754521250725, -0.07363321632146835, -0.010560371913015842, 0.12418100237846375, -0.046769872307777405, -0.03397704288363457, -0.023616038262844086, 0.021447673439979553, 0.04694981873035431, 0.0774213969707489, -0.050064459443092346, -0.032079413533210754, -0.03467503562569618, -0.04741276428103447, -0.004797885660082102, 0.02105747163295746, 0.019781824201345444, -0.0369933545589447, 0.027598917484283447, -0.034541767090559006, -0.021711111068725586, 0.008916745893657207, 0.14160890877246857, 0.02055162750184536, -0.11431244760751724, -0.07045046240091324, -0.0764147937297821, 0.2479829341173172, -0.001184749067761004, 0.009617450647056103, 0.04667051509022713, 0.020416676998138428, -0.11467377096414566, -0.0005765613168478012, 0.08928235620260239, 0.02621764875948429, -0.10712256282567978, -0.03731963038444519, -0.031979724764823914, 0.0692143663764, -0.20535236597061157, -0.20425941050052643, -0.014082636684179306, 0.0421534888446331, -0.32635703682899475, -0.015452508814632893, -0.12378237396478653, -0.011569492518901825, 0.12711207568645477, -0.11802268028259277, 0.04650866985321045, -0.022846883162856102, -0.09187974780797958, -0.11650592088699341, 0.1359463483095169, -0.09620507806539536, 0.24858863651752472, 0.048466186970472336, 0.20479856431484222, 0.15931262075901031, 0.07009550929069519, -0.01234422717243433, -0.0016071019927039742, -0.13948339223861694, 0.07040253281593323, 0.029067805036902428, 0.12048366665840149, 0.17503128945827484, -0.018026376143097878, -0.07379277050495148, 0.05857746675610542, -0.06193644925951958, 0.14127245545387268, -0.04174208268523216, -0.006059929728507996, 0.048723042011260986, -0.06923133134841919, -0.14268212020397186, 0.3252759873867035, 0.11404839903116226, 0.11036650091409683, -0.11175921559333801, 0.27045223116874695, 0.05674959346652031, 0.0061303190886974335, -0.015340383164584637, 0.009963109157979488, 0.010862578637897968, -0.09234001487493515, 0.024625128135085106, 0.03696754574775696, 0.008389783091843128, 0.1249048113822937, 0.09148488193750381, 0.00964298378676176, 0.10720431804656982, -0.024849750101566315, -0.05701936408877373, 0.047898221760988235, 0.02619181014597416, 0.28068807721138, 0.019670991227030754, 0.048558223992586136, 0.02325507067143917, -0.14015118777751923, -0.07214614003896713, -0.07099655270576477, -0.10306326299905777, 0.17515279352664948, -0.03107275813817978, 0.08101313561201096, -0.1635802984237671, 0.010691951029002666, -0.002811388112604618, -0.0274913739413023, -0.2182316780090332, 0.12634216248989105, -0.034850068390369415, 0.17011220753192902, 0.0587538443505764, 0.0026023786049336195, 3.6740366340382025e-05, 0.1007363572716713, 0.17451971769332886, -0.04748942330479622, -0.14560957252979279, -0.05723322927951813, 0.023216305300593376, 0.08695905655622482, -0.08620738238096237, 0.06475881487131119, 0.08493998646736145, -0.12715524435043335, 0.07419275492429733, 0.07273250818252563, -0.003401418449357152, 0.006592318415641785, -0.040006108582019806, 0.0001583526172908023, 0.024983538314700127, 0.06141712889075279, 0.07098313421010971, -0.019847651943564415, -0.03058566153049469, 0.05496355518698692, -0.04046240821480751, 0.01955449767410755, -0.10440083593130112, -0.11300293356180191, 0.06485237926244736, 0.17688095569610596, -0.0039224824868142605, 0.07541220635175705, -0.1031549945473671, 0.11349032074213028, 0.048969969153404236, 0.007673715706914663, 0.17179234325885773, 0.11403549462556839, -0.12173482030630112, -0.23935860395431519, -0.01046625804156065, 0.035269320011138916, 0.09070751070976257, 0.015545506961643696, 0.1155552789568901, -0.04202883318066597, 0.24791963398456573, -0.1037307158112526, -0.16044670343399048, 0.06534001231193542, -0.01059984415769577, 0.07566847652196884, 0.1221778392791748, 0.028980225324630737, -0.08820978552103043, -0.06354571133852005, -0.0783608928322792, 0.033601388335227966, -0.13667958974838257, -0.08517438173294067, 0.022711729630827904, 0.06673455983400345, -0.008925690315663815, -0.007936248555779457, -0.042616378515958786, 0.0245718564838171, 0.0805564820766449, 0.029843077063560486, 0.007589426357299089, -0.07203344255685806, 0.001304033794440329, 0.08015120774507523, 0.01587153784930706, -0.05790053680539131, -0.02235224097967148, 0.13541238009929657, 0.020536979660391808, -0.09280925989151001]]}\n"
     ]
    }
   ],
   "source": [
    "# Inference testing\n",
    "\n",
    "import time\n",
    "from sagemaker.huggingface import HuggingFaceModel\n",
    "hfp = sagemaker.huggingface.model.HuggingFacePredictor('huggingface-inference-eb')\n",
    "data = {\n",
    "  \"inputs\": \"123\",\n",
    "}\n",
    "t0 = time.time()\n",
    "for i in range(1):\n",
    "    x = hfp.predict(data)\n",
    "print(time.time()-t0)\n",
    "#result = json.loads(response['Body'].read().decode())[0][0][0]\n",
    "\n",
    "#print(len(x[0][0]))\n",
    "print(x)"
   ]
  },
  {
   "cell_type": "code",
   "execution_count": null,
   "id": "aa0d6623-236d-4a5d-8360-4b07f8d8d40c",
   "metadata": {
    "tags": []
   },
   "outputs": [],
   "source": [
    "#!aws sagemaker delete-endpoint --endpoint-name huggingface-inference-eb\n",
    "#!aws sagemaker delete-endpoint-config --endpoint-config-name huggingface-inference-eb\n",
    "#!aws sagemaker delete-model --model-name huggingface-inference-eb"
   ]
  },
  {
   "cell_type": "code",
   "execution_count": null,
   "id": "36281bf3-b6f5-450f-b1b8-9f1285b1dad0",
   "metadata": {
    "tags": []
   },
   "outputs": [],
   "source": []
  },
  {
   "cell_type": "code",
   "execution_count": null,
   "id": "f9700aff",
   "metadata": {},
   "outputs": [],
   "source": []
  }
 ],
 "metadata": {
  "availableInstances": [
   {
    "_defaultOrder": 0,
    "_isFastLaunch": true,
    "category": "General purpose",
    "gpuNum": 0,
    "hideHardwareSpecs": false,
    "memoryGiB": 4,
    "name": "ml.t3.medium",
    "vcpuNum": 2
   },
   {
    "_defaultOrder": 1,
    "_isFastLaunch": false,
    "category": "General purpose",
    "gpuNum": 0,
    "hideHardwareSpecs": false,
    "memoryGiB": 8,
    "name": "ml.t3.large",
    "vcpuNum": 2
   },
   {
    "_defaultOrder": 2,
    "_isFastLaunch": false,
    "category": "General purpose",
    "gpuNum": 0,
    "hideHardwareSpecs": false,
    "memoryGiB": 16,
    "name": "ml.t3.xlarge",
    "vcpuNum": 4
   },
   {
    "_defaultOrder": 3,
    "_isFastLaunch": false,
    "category": "General purpose",
    "gpuNum": 0,
    "hideHardwareSpecs": false,
    "memoryGiB": 32,
    "name": "ml.t3.2xlarge",
    "vcpuNum": 8
   },
   {
    "_defaultOrder": 4,
    "_isFastLaunch": true,
    "category": "General purpose",
    "gpuNum": 0,
    "hideHardwareSpecs": false,
    "memoryGiB": 8,
    "name": "ml.m5.large",
    "vcpuNum": 2
   },
   {
    "_defaultOrder": 5,
    "_isFastLaunch": false,
    "category": "General purpose",
    "gpuNum": 0,
    "hideHardwareSpecs": false,
    "memoryGiB": 16,
    "name": "ml.m5.xlarge",
    "vcpuNum": 4
   },
   {
    "_defaultOrder": 6,
    "_isFastLaunch": false,
    "category": "General purpose",
    "gpuNum": 0,
    "hideHardwareSpecs": false,
    "memoryGiB": 32,
    "name": "ml.m5.2xlarge",
    "vcpuNum": 8
   },
   {
    "_defaultOrder": 7,
    "_isFastLaunch": false,
    "category": "General purpose",
    "gpuNum": 0,
    "hideHardwareSpecs": false,
    "memoryGiB": 64,
    "name": "ml.m5.4xlarge",
    "vcpuNum": 16
   },
   {
    "_defaultOrder": 8,
    "_isFastLaunch": false,
    "category": "General purpose",
    "gpuNum": 0,
    "hideHardwareSpecs": false,
    "memoryGiB": 128,
    "name": "ml.m5.8xlarge",
    "vcpuNum": 32
   },
   {
    "_defaultOrder": 9,
    "_isFastLaunch": false,
    "category": "General purpose",
    "gpuNum": 0,
    "hideHardwareSpecs": false,
    "memoryGiB": 192,
    "name": "ml.m5.12xlarge",
    "vcpuNum": 48
   },
   {
    "_defaultOrder": 10,
    "_isFastLaunch": false,
    "category": "General purpose",
    "gpuNum": 0,
    "hideHardwareSpecs": false,
    "memoryGiB": 256,
    "name": "ml.m5.16xlarge",
    "vcpuNum": 64
   },
   {
    "_defaultOrder": 11,
    "_isFastLaunch": false,
    "category": "General purpose",
    "gpuNum": 0,
    "hideHardwareSpecs": false,
    "memoryGiB": 384,
    "name": "ml.m5.24xlarge",
    "vcpuNum": 96
   },
   {
    "_defaultOrder": 12,
    "_isFastLaunch": false,
    "category": "General purpose",
    "gpuNum": 0,
    "hideHardwareSpecs": false,
    "memoryGiB": 8,
    "name": "ml.m5d.large",
    "vcpuNum": 2
   },
   {
    "_defaultOrder": 13,
    "_isFastLaunch": false,
    "category": "General purpose",
    "gpuNum": 0,
    "hideHardwareSpecs": false,
    "memoryGiB": 16,
    "name": "ml.m5d.xlarge",
    "vcpuNum": 4
   },
   {
    "_defaultOrder": 14,
    "_isFastLaunch": false,
    "category": "General purpose",
    "gpuNum": 0,
    "hideHardwareSpecs": false,
    "memoryGiB": 32,
    "name": "ml.m5d.2xlarge",
    "vcpuNum": 8
   },
   {
    "_defaultOrder": 15,
    "_isFastLaunch": false,
    "category": "General purpose",
    "gpuNum": 0,
    "hideHardwareSpecs": false,
    "memoryGiB": 64,
    "name": "ml.m5d.4xlarge",
    "vcpuNum": 16
   },
   {
    "_defaultOrder": 16,
    "_isFastLaunch": false,
    "category": "General purpose",
    "gpuNum": 0,
    "hideHardwareSpecs": false,
    "memoryGiB": 128,
    "name": "ml.m5d.8xlarge",
    "vcpuNum": 32
   },
   {
    "_defaultOrder": 17,
    "_isFastLaunch": false,
    "category": "General purpose",
    "gpuNum": 0,
    "hideHardwareSpecs": false,
    "memoryGiB": 192,
    "name": "ml.m5d.12xlarge",
    "vcpuNum": 48
   },
   {
    "_defaultOrder": 18,
    "_isFastLaunch": false,
    "category": "General purpose",
    "gpuNum": 0,
    "hideHardwareSpecs": false,
    "memoryGiB": 256,
    "name": "ml.m5d.16xlarge",
    "vcpuNum": 64
   },
   {
    "_defaultOrder": 19,
    "_isFastLaunch": false,
    "category": "General purpose",
    "gpuNum": 0,
    "hideHardwareSpecs": false,
    "memoryGiB": 384,
    "name": "ml.m5d.24xlarge",
    "vcpuNum": 96
   },
   {
    "_defaultOrder": 20,
    "_isFastLaunch": false,
    "category": "General purpose",
    "gpuNum": 0,
    "hideHardwareSpecs": true,
    "memoryGiB": 0,
    "name": "ml.geospatial.interactive",
    "supportedImageNames": [
     "sagemaker-geospatial-v1-0"
    ],
    "vcpuNum": 0
   },
   {
    "_defaultOrder": 21,
    "_isFastLaunch": true,
    "category": "Compute optimized",
    "gpuNum": 0,
    "hideHardwareSpecs": false,
    "memoryGiB": 4,
    "name": "ml.c5.large",
    "vcpuNum": 2
   },
   {
    "_defaultOrder": 22,
    "_isFastLaunch": false,
    "category": "Compute optimized",
    "gpuNum": 0,
    "hideHardwareSpecs": false,
    "memoryGiB": 8,
    "name": "ml.c5.xlarge",
    "vcpuNum": 4
   },
   {
    "_defaultOrder": 23,
    "_isFastLaunch": false,
    "category": "Compute optimized",
    "gpuNum": 0,
    "hideHardwareSpecs": false,
    "memoryGiB": 16,
    "name": "ml.c5.2xlarge",
    "vcpuNum": 8
   },
   {
    "_defaultOrder": 24,
    "_isFastLaunch": false,
    "category": "Compute optimized",
    "gpuNum": 0,
    "hideHardwareSpecs": false,
    "memoryGiB": 32,
    "name": "ml.c5.4xlarge",
    "vcpuNum": 16
   },
   {
    "_defaultOrder": 25,
    "_isFastLaunch": false,
    "category": "Compute optimized",
    "gpuNum": 0,
    "hideHardwareSpecs": false,
    "memoryGiB": 72,
    "name": "ml.c5.9xlarge",
    "vcpuNum": 36
   },
   {
    "_defaultOrder": 26,
    "_isFastLaunch": false,
    "category": "Compute optimized",
    "gpuNum": 0,
    "hideHardwareSpecs": false,
    "memoryGiB": 96,
    "name": "ml.c5.12xlarge",
    "vcpuNum": 48
   },
   {
    "_defaultOrder": 27,
    "_isFastLaunch": false,
    "category": "Compute optimized",
    "gpuNum": 0,
    "hideHardwareSpecs": false,
    "memoryGiB": 144,
    "name": "ml.c5.18xlarge",
    "vcpuNum": 72
   },
   {
    "_defaultOrder": 28,
    "_isFastLaunch": false,
    "category": "Compute optimized",
    "gpuNum": 0,
    "hideHardwareSpecs": false,
    "memoryGiB": 192,
    "name": "ml.c5.24xlarge",
    "vcpuNum": 96
   },
   {
    "_defaultOrder": 29,
    "_isFastLaunch": true,
    "category": "Accelerated computing",
    "gpuNum": 1,
    "hideHardwareSpecs": false,
    "memoryGiB": 16,
    "name": "ml.g4dn.xlarge",
    "vcpuNum": 4
   },
   {
    "_defaultOrder": 30,
    "_isFastLaunch": false,
    "category": "Accelerated computing",
    "gpuNum": 1,
    "hideHardwareSpecs": false,
    "memoryGiB": 32,
    "name": "ml.g4dn.2xlarge",
    "vcpuNum": 8
   },
   {
    "_defaultOrder": 31,
    "_isFastLaunch": false,
    "category": "Accelerated computing",
    "gpuNum": 1,
    "hideHardwareSpecs": false,
    "memoryGiB": 64,
    "name": "ml.g4dn.4xlarge",
    "vcpuNum": 16
   },
   {
    "_defaultOrder": 32,
    "_isFastLaunch": false,
    "category": "Accelerated computing",
    "gpuNum": 1,
    "hideHardwareSpecs": false,
    "memoryGiB": 128,
    "name": "ml.g4dn.8xlarge",
    "vcpuNum": 32
   },
   {
    "_defaultOrder": 33,
    "_isFastLaunch": false,
    "category": "Accelerated computing",
    "gpuNum": 4,
    "hideHardwareSpecs": false,
    "memoryGiB": 192,
    "name": "ml.g4dn.12xlarge",
    "vcpuNum": 48
   },
   {
    "_defaultOrder": 34,
    "_isFastLaunch": false,
    "category": "Accelerated computing",
    "gpuNum": 1,
    "hideHardwareSpecs": false,
    "memoryGiB": 256,
    "name": "ml.g4dn.16xlarge",
    "vcpuNum": 64
   },
   {
    "_defaultOrder": 35,
    "_isFastLaunch": false,
    "category": "Accelerated computing",
    "gpuNum": 1,
    "hideHardwareSpecs": false,
    "memoryGiB": 61,
    "name": "ml.p3.2xlarge",
    "vcpuNum": 8
   },
   {
    "_defaultOrder": 36,
    "_isFastLaunch": false,
    "category": "Accelerated computing",
    "gpuNum": 4,
    "hideHardwareSpecs": false,
    "memoryGiB": 244,
    "name": "ml.p3.8xlarge",
    "vcpuNum": 32
   },
   {
    "_defaultOrder": 37,
    "_isFastLaunch": false,
    "category": "Accelerated computing",
    "gpuNum": 8,
    "hideHardwareSpecs": false,
    "memoryGiB": 488,
    "name": "ml.p3.16xlarge",
    "vcpuNum": 64
   },
   {
    "_defaultOrder": 38,
    "_isFastLaunch": false,
    "category": "Accelerated computing",
    "gpuNum": 8,
    "hideHardwareSpecs": false,
    "memoryGiB": 768,
    "name": "ml.p3dn.24xlarge",
    "vcpuNum": 96
   },
   {
    "_defaultOrder": 39,
    "_isFastLaunch": false,
    "category": "Memory Optimized",
    "gpuNum": 0,
    "hideHardwareSpecs": false,
    "memoryGiB": 16,
    "name": "ml.r5.large",
    "vcpuNum": 2
   },
   {
    "_defaultOrder": 40,
    "_isFastLaunch": false,
    "category": "Memory Optimized",
    "gpuNum": 0,
    "hideHardwareSpecs": false,
    "memoryGiB": 32,
    "name": "ml.r5.xlarge",
    "vcpuNum": 4
   },
   {
    "_defaultOrder": 41,
    "_isFastLaunch": false,
    "category": "Memory Optimized",
    "gpuNum": 0,
    "hideHardwareSpecs": false,
    "memoryGiB": 64,
    "name": "ml.r5.2xlarge",
    "vcpuNum": 8
   },
   {
    "_defaultOrder": 42,
    "_isFastLaunch": false,
    "category": "Memory Optimized",
    "gpuNum": 0,
    "hideHardwareSpecs": false,
    "memoryGiB": 128,
    "name": "ml.r5.4xlarge",
    "vcpuNum": 16
   },
   {
    "_defaultOrder": 43,
    "_isFastLaunch": false,
    "category": "Memory Optimized",
    "gpuNum": 0,
    "hideHardwareSpecs": false,
    "memoryGiB": 256,
    "name": "ml.r5.8xlarge",
    "vcpuNum": 32
   },
   {
    "_defaultOrder": 44,
    "_isFastLaunch": false,
    "category": "Memory Optimized",
    "gpuNum": 0,
    "hideHardwareSpecs": false,
    "memoryGiB": 384,
    "name": "ml.r5.12xlarge",
    "vcpuNum": 48
   },
   {
    "_defaultOrder": 45,
    "_isFastLaunch": false,
    "category": "Memory Optimized",
    "gpuNum": 0,
    "hideHardwareSpecs": false,
    "memoryGiB": 512,
    "name": "ml.r5.16xlarge",
    "vcpuNum": 64
   },
   {
    "_defaultOrder": 46,
    "_isFastLaunch": false,
    "category": "Memory Optimized",
    "gpuNum": 0,
    "hideHardwareSpecs": false,
    "memoryGiB": 768,
    "name": "ml.r5.24xlarge",
    "vcpuNum": 96
   },
   {
    "_defaultOrder": 47,
    "_isFastLaunch": false,
    "category": "Accelerated computing",
    "gpuNum": 1,
    "hideHardwareSpecs": false,
    "memoryGiB": 16,
    "name": "ml.g5.xlarge",
    "vcpuNum": 4
   },
   {
    "_defaultOrder": 48,
    "_isFastLaunch": false,
    "category": "Accelerated computing",
    "gpuNum": 1,
    "hideHardwareSpecs": false,
    "memoryGiB": 32,
    "name": "ml.g5.2xlarge",
    "vcpuNum": 8
   },
   {
    "_defaultOrder": 49,
    "_isFastLaunch": false,
    "category": "Accelerated computing",
    "gpuNum": 1,
    "hideHardwareSpecs": false,
    "memoryGiB": 64,
    "name": "ml.g5.4xlarge",
    "vcpuNum": 16
   },
   {
    "_defaultOrder": 50,
    "_isFastLaunch": false,
    "category": "Accelerated computing",
    "gpuNum": 1,
    "hideHardwareSpecs": false,
    "memoryGiB": 128,
    "name": "ml.g5.8xlarge",
    "vcpuNum": 32
   },
   {
    "_defaultOrder": 51,
    "_isFastLaunch": false,
    "category": "Accelerated computing",
    "gpuNum": 1,
    "hideHardwareSpecs": false,
    "memoryGiB": 256,
    "name": "ml.g5.16xlarge",
    "vcpuNum": 64
   },
   {
    "_defaultOrder": 52,
    "_isFastLaunch": false,
    "category": "Accelerated computing",
    "gpuNum": 4,
    "hideHardwareSpecs": false,
    "memoryGiB": 192,
    "name": "ml.g5.12xlarge",
    "vcpuNum": 48
   },
   {
    "_defaultOrder": 53,
    "_isFastLaunch": false,
    "category": "Accelerated computing",
    "gpuNum": 4,
    "hideHardwareSpecs": false,
    "memoryGiB": 384,
    "name": "ml.g5.24xlarge",
    "vcpuNum": 96
   },
   {
    "_defaultOrder": 54,
    "_isFastLaunch": false,
    "category": "Accelerated computing",
    "gpuNum": 8,
    "hideHardwareSpecs": false,
    "memoryGiB": 768,
    "name": "ml.g5.48xlarge",
    "vcpuNum": 192
   },
   {
    "_defaultOrder": 55,
    "_isFastLaunch": false,
    "category": "Accelerated computing",
    "gpuNum": 8,
    "hideHardwareSpecs": false,
    "memoryGiB": 1152,
    "name": "ml.p4d.24xlarge",
    "vcpuNum": 96
   },
   {
    "_defaultOrder": 56,
    "_isFastLaunch": false,
    "category": "Accelerated computing",
    "gpuNum": 8,
    "hideHardwareSpecs": false,
    "memoryGiB": 1152,
    "name": "ml.p4de.24xlarge",
    "vcpuNum": 96
   }
  ],
  "instance_type": "ml.m5.large",
  "kernelspec": {
   "display_name": "conda_amazonei_pytorch_latest_p37",
   "language": "python",
   "name": "conda_amazonei_pytorch_latest_p37"
  },
  "language_info": {
   "codemirror_mode": {
    "name": "ipython",
    "version": 3
   },
   "file_extension": ".py",
   "mimetype": "text/x-python",
   "name": "python",
   "nbconvert_exporter": "python",
   "pygments_lexer": "ipython3",
   "version": "3.7.10"
  }
 },
 "nbformat": 4,
 "nbformat_minor": 5
}
