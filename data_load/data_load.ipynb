{
 "cells": [
  {
   "cell_type": "code",
   "execution_count": 1,
   "id": "94688a8b",
   "metadata": {},
   "outputs": [],
   "source": [
    "import os\n",
    "import json\n",
    "import traceback\n",
    "import urllib.parse\n",
    "import boto3\n",
    "from datetime import datetime\n",
    "import time\n",
    "from smart_search import SmartSearchQA"
   ]
  },
  {
   "cell_type": "code",
   "execution_count": 2,
   "id": "d6932c6c",
   "metadata": {},
   "outputs": [
    {
     "name": "stdout",
     "output_type": "stream",
     "text": [
      "username: admin\n",
      "password: \"PR\n"
     ]
    }
   ],
   "source": [
    "EMBEDDING_ENDPOINT_NAME = \"huggingface-inference-eb\"\n",
    "language = \"english\"\n",
    "index =  \"smart_search_qa_test_0528_all_2\"\n",
    "\n",
    "region = boto3.Session().region_name\n",
    "port = 443\n",
    "bulk_size = 10000000\n",
    "\n",
    "# retrieve secret manager value by key using boto3                                             \n",
    "sm_client = boto3.client('secretsmanager')\n",
    "master_user = sm_client.get_secret_value(SecretId='opensearch-master-user')['SecretString']\n",
    "data= json.loads(master_user)\n",
    "es_host_name = data.get('host')\n",
    "host = es_host_name+'/' if es_host_name[-1] != '/' else es_host_name\n",
    "\n",
    "username = data.get('username')\n",
    "password = data.get('password')\n",
    "# print(\"username:\",username)\n",
    "# print(\"password:\",password)\n",
    "\n",
    "s3_res = boto3.resource('s3')\n",
    "s3_cli = boto3.client('s3')"
   ]
  },
  {
   "cell_type": "code",
   "execution_count": 4,
   "id": "1c1833d1",
   "metadata": {},
   "outputs": [
    {
     "name": "stderr",
     "output_type": "stream",
     "text": [
      "Load the file:   0%|          | 0/4 [00:00<?, ?it/s]Created a chunk of size 718, which is longer than the specified 500\n",
      "Created a chunk of size 861, which is longer than the specified 500\n",
      "Created a chunk of size 563, which is longer than the specified 500\n",
      "Load the file:  50%|█████     | 2/4 [00:00<00:00, 11.61it/s]Created a chunk of size 728, which is longer than the specified 500\n",
      "Created a chunk of size 529, which is longer than the specified 500\n",
      "Created a chunk of size 732, which is longer than the specified 500\n",
      "Created a chunk of size 936, which is longer than the specified 500\n",
      "Created a chunk of size 570, which is longer than the specified 500\n",
      "Created a chunk of size 595, which is longer than the specified 500\n",
      "Created a chunk of size 743, which is longer than the specified 500\n",
      "Created a chunk of size 1034, which is longer than the specified 500\n",
      "Created a chunk of size 818, which is longer than the specified 500\n",
      "Created a chunk of size 944, which is longer than the specified 500\n",
      "Created a chunk of size 2673, which is longer than the specified 500\n",
      "Created a chunk of size 1012, which is longer than the specified 500\n",
      "Created a chunk of size 839, which is longer than the specified 500\n",
      "Created a chunk of size 3197, which is longer than the specified 500\n",
      "Created a chunk of size 708, which is longer than the specified 500\n",
      "Created a chunk of size 607, which is longer than the specified 500\n",
      "Created a chunk of size 518, which is longer than the specified 500\n",
      "Created a chunk of size 1002, which is longer than the specified 500\n",
      "Created a chunk of size 820, which is longer than the specified 500\n",
      "Created a chunk of size 812, which is longer than the specified 500\n",
      "Created a chunk of size 1401, which is longer than the specified 500\n",
      "Created a chunk of size 965, which is longer than the specified 500\n",
      "Created a chunk of size 516, which is longer than the specified 500\n",
      "Created a chunk of size 504, which is longer than the specified 500\n",
      "Created a chunk of size 824, which is longer than the specified 500\n",
      "Created a chunk of size 554, which is longer than the specified 500\n",
      "Created a chunk of size 1062, which is longer than the specified 500\n",
      "Created a chunk of size 806, which is longer than the specified 500\n",
      "Created a chunk of size 793, which is longer than the specified 500\n",
      "Created a chunk of size 1412, which is longer than the specified 500\n",
      "Created a chunk of size 599, which is longer than the specified 500\n",
      "Created a chunk of size 1052, which is longer than the specified 500\n",
      "Created a chunk of size 2411, which is longer than the specified 500\n",
      "Created a chunk of size 1319, which is longer than the specified 500\n",
      "Created a chunk of size 1582, which is longer than the specified 500\n",
      "Created a chunk of size 593, which is longer than the specified 500\n",
      "Created a chunk of size 698, which is longer than the specified 500\n",
      "Created a chunk of size 510, which is longer than the specified 500\n",
      "Created a chunk of size 694, which is longer than the specified 500\n",
      "Created a chunk of size 624, which is longer than the specified 500\n",
      "Created a chunk of size 776, which is longer than the specified 500\n",
      "Created a chunk of size 776, which is longer than the specified 500\n",
      "Created a chunk of size 535, which is longer than the specified 500\n",
      "Created a chunk of size 752, which is longer than the specified 500\n",
      "Created a chunk of size 545, which is longer than the specified 500\n",
      "Created a chunk of size 542, which is longer than the specified 500\n",
      "Created a chunk of size 753, which is longer than the specified 500\n",
      "Created a chunk of size 748, which is longer than the specified 500\n",
      "Created a chunk of size 527, which is longer than the specified 500\n",
      "Created a chunk of size 632, which is longer than the specified 500\n",
      "Created a chunk of size 634, which is longer than the specified 500\n",
      "Created a chunk of size 517, which is longer than the specified 500\n",
      "Load the file: 100%|██████████| 4/4 [00:00<00:00,  4.80it/s]\n"
     ]
    },
    {
     "name": "stdout",
     "output_type": "stream",
     "text": [
      "The file is loaded and the vector library is being generated\n",
      "finish embedding, text len: 1133 1133\n",
      "File import takes time: 0:00:39.601563\n",
      "Complete the import of the following documents: ['../test_file/comm/FAQ.docx', '../test_file/comm/Email.docx', '../test_file/comm/KB.docx', '../test_file/comm/Chat.docx']\n"
     ]
    }
   ],
   "source": [
    "search_qa = SmartSearchQA()\n",
    "search_qa.init_cfg(index,\n",
    "                 username,\n",
    "                 password,\n",
    "                 host,\n",
    "                 port,\n",
    "                 EMBEDDING_ENDPOINT_NAME,\n",
    "                 region\n",
    "                 )\n",
    "\n",
    "local_file = \"../test_file/comm/\"\n",
    "chunk_size = 500\n",
    "chunk_overlap = 50\n",
    "\n",
    "now1 = datetime.now()#begin time\n",
    "loaded_files = search_qa.init_knowledge_vector(local_file,bulk_size,language,chunk_size,chunk_overlap)\n",
    "now2 = datetime.now()#endtime\n",
    "print(\"File import takes time:\",now2-now1)\n",
    "print(\"Complete the import of the following documents:\", str(loaded_files))\n",
    "\n"
   ]
  },
  {
   "cell_type": "code",
   "execution_count": 4,
   "id": "c085a8c9",
   "metadata": {},
   "outputs": [
    {
     "name": "stderr",
     "output_type": "stream",
     "text": [
      "[nltk_data] Downloading package punkt to /home/ec2-user/nltk_data...\n",
      "[nltk_data]   Unzipping tokenizers/punkt.zip.\n"
     ]
    },
    {
     "data": {
      "text/plain": [
       "True"
      ]
     },
     "execution_count": 4,
     "metadata": {},
     "output_type": "execute_result"
    }
   ],
   "source": [
    "import nltk\n",
    "nltk.download('punkt')"
   ]
  },
  {
   "cell_type": "code",
   "execution_count": null,
   "id": "014eddd6",
   "metadata": {},
   "outputs": [],
   "source": []
  }
 ],
 "metadata": {
  "kernelspec": {
   "display_name": "conda_pytorch_p39",
   "language": "python",
   "name": "conda_pytorch_p39"
  },
  "language_info": {
   "codemirror_mode": {
    "name": "ipython",
    "version": 3
   },
   "file_extension": ".py",
   "mimetype": "text/x-python",
   "name": "python",
   "nbconvert_exporter": "python",
   "pygments_lexer": "ipython3",
   "version": "3.9.15"
  }
 },
 "nbformat": 4,
 "nbformat_minor": 5
}
