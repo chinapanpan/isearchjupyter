{
 "cells": [
  {
   "cell_type": "code",
   "execution_count": 1,
   "id": "94688a8b",
   "metadata": {},
   "outputs": [],
   "source": [
    "import os\n",
    "import json\n",
    "import traceback\n",
    "import urllib.parse\n",
    "import boto3\n",
    "from datetime import datetime\n",
    "import time\n",
    "from smart_search import SmartSearchQA"
   ]
  },
  {
   "cell_type": "code",
   "execution_count": 6,
   "id": "d6932c6c",
   "metadata": {},
   "outputs": [
    {
     "name": "stdout",
     "output_type": "stream",
     "text": [
      "username: admin\n",
      "password: \"PR|M/y9O1fj\n"
     ]
    }
   ],
   "source": [
    "#EMBEDDING_ENDPOINT_NAME = \"huggingface-inference-text2vec-base-chinese-v1\"\n",
    "EMBEDDING_ENDPOINT_NAME = \"pytorch-inference-all-minilm-v6-l2\"\n",
    "host =  \"search-smartsearch-5xgqh6z5jl2y5uszqwlr7nbyxe.us-west-2.es.amazonaws.com\"\n",
    "index =  \"smart_search_qa_test_0522_3\"\n",
    "region = \"us-west-2\"\n",
    "#language = \"chinese\"\n",
    "port = 443\n",
    "bulk_size = 10000000\n",
    "language = \"english\"\n",
    "\n",
    "# retrieve secret manager value by key using boto3                                             \n",
    "sm_client = boto3.client('secretsmanager')\n",
    "master_user = sm_client.get_secret_value(SecretId='opensearch-master-user')['SecretString']\n",
    "data= json.loads(master_user)\n",
    "username = data.get('username')\n",
    "password = data.get('password')\n",
    "print(\"username:\",username)\n",
    "print(\"password:\",password)\n",
    "\n",
    "s3_res = boto3.resource('s3')\n",
    "s3_cli = boto3.client('s3')"
   ]
  },
  {
   "cell_type": "code",
   "execution_count": 7,
   "id": "1c1833d1",
   "metadata": {},
   "outputs": [
    {
     "name": "stdout",
     "output_type": "stream",
     "text": [
      "state_of_the_union.txt Loaded successfully\n",
      "The file is loaded and the vector library is being generated\n",
      "finish embedding, text len: 42 42\n",
      "File import takes time: 0:00:03.445426\n",
      "Complete the import of the following documents: ['../test_file/state_of_the_union.txt']\n"
     ]
    }
   ],
   "source": [
    "search_qa = SmartSearchQA()\n",
    "search_qa.init_cfg(index,\n",
    "                 username,\n",
    "                 password,\n",
    "                 host,\n",
    "                 port,\n",
    "                 EMBEDDING_ENDPOINT_NAME,\n",
    "                 region\n",
    "                 )\n",
    "\n",
    "#local_file = \"../test_file/基于预训练语言模型的行业搜索的应用和研究.docx\"\n",
    "local_file = \"../test_file/state_of_the_union.txt\"\n",
    "\n",
    "now1 = datetime.now()#begin time\n",
    "loaded_files = search_qa.init_knowledge_vector(local_file,bulk_size,language)\n",
    "now2 = datetime.now()#endtime\n",
    "print(\"File import takes time:\",now2-now1)\n",
    "print(\"Complete the import of the following documents:\", str(loaded_files))\n",
    "\n"
   ]
  },
  {
   "cell_type": "code",
   "execution_count": 4,
   "id": "c085a8c9",
   "metadata": {},
   "outputs": [
    {
     "name": "stderr",
     "output_type": "stream",
     "text": [
      "[nltk_data] Downloading package punkt to /home/ec2-user/nltk_data...\n",
      "[nltk_data]   Unzipping tokenizers/punkt.zip.\n"
     ]
    },
    {
     "data": {
      "text/plain": [
       "True"
      ]
     },
     "execution_count": 4,
     "metadata": {},
     "output_type": "execute_result"
    }
   ],
   "source": [
    "import nltk\n",
    "nltk.download('punkt')"
   ]
  },
  {
   "cell_type": "code",
   "execution_count": null,
   "id": "2c648694",
   "metadata": {},
   "outputs": [],
   "source": []
  }
 ],
 "metadata": {
  "kernelspec": {
   "display_name": "conda_pytorch_p39",
   "language": "python",
   "name": "conda_pytorch_p39"
  },
  "language_info": {
   "codemirror_mode": {
    "name": "ipython",
    "version": 3
   },
   "file_extension": ".py",
   "mimetype": "text/x-python",
   "name": "python",
   "nbconvert_exporter": "python",
   "pygments_lexer": "ipython3",
   "version": "3.9.15"
  }
 },
 "nbformat": 4,
 "nbformat_minor": 5
}
